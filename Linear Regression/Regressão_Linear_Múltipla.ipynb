{
  "nbformat": 4,
  "nbformat_minor": 0,
  "metadata": {
    "colab": {
      "provenance": [],
      "mount_file_id": "1dn-UAMBsvpjxi7G1dgSYZtuEdTBbdSeM",
      "authorship_tag": "ABX9TyNHQZZk8hEtnRkI7KxA4BJx",
      "include_colab_link": true
    },
    "kernelspec": {
      "name": "python3",
      "display_name": "Python 3"
    },
    "language_info": {
      "name": "python"
    }
  },
  "cells": [
    {
      "cell_type": "markdown",
      "metadata": {
        "id": "view-in-github",
        "colab_type": "text"
      },
      "source": [
        "<a href=\"https://colab.research.google.com/github/MaxVieiraSantiago/Machine-Learning-Algorithms/blob/master/Linear%20Regression/Regress%C3%A3o_Linear_M%C3%BAltipla.ipynb\" target=\"_parent\"><img src=\"https://colab.research.google.com/assets/colab-badge.svg\" alt=\"Open In Colab\"/></a>"
      ]
    },
    {
      "cell_type": "markdown",
      "source": [
        "# **Regressao Linear Múltipla**"
      ],
      "metadata": {
        "id": "LwlymcNBsPjR"
      }
    },
    {
      "cell_type": "code",
      "execution_count": 4,
      "metadata": {
        "id": "UEEV2iIVrtna"
      },
      "outputs": [],
      "source": [
        "import pandas as pd\n",
        "import numpy as np"
      ]
    },
    {
      "cell_type": "code",
      "source": [
        "file = '/content/drive/MyDrive/Udemy/enem_2019_tratado.csv'\n",
        "dados = pd.read_csv( file, sep=',', encoding='iso-8859-1' )"
      ],
      "metadata": {
        "id": "PgMHI4QkskF3"
      },
      "execution_count": 54,
      "outputs": []
    },
    {
      "cell_type": "markdown",
      "source": [
        "# **Análise Inicial**"
      ],
      "metadata": {
        "id": "iCtdI_oYtES5"
      }
    },
    {
      "cell_type": "code",
      "source": [
        "dados.head()"
      ],
      "metadata": {
        "colab": {
          "base_uri": "https://localhost:8080/",
          "height": 243
        },
        "id": "nDZHlAfKs2pQ",
        "outputId": "ba631a5d-66f8-434d-903f-03bb90d83ae1"
      },
      "execution_count": 55,
      "outputs": [
        {
          "output_type": "execute_result",
          "data": {
            "text/plain": [
              "  NU_INSCRICAO NO_MUNICIPIO_RESIDENCIA  IDADE SEXO  ...  COMP4  COMP5  NOTA_REDACAO  INTERNET\n",
              "0     1,90E+11            Santa Isabel     22    M  ...  200.0  200.0         940.0       Sim\n",
              "1     1,90E+11               São Paulo     17    F  ...  200.0  200.0         880.0       Não\n",
              "2     1,90E+11   São Bernardo do Campo     19    M  ...  100.0  100.0         560.0       Sim\n",
              "3     1,90E+11              Embu-Guaçu     17    F  ...  120.0   80.0         560.0       Sim\n",
              "4     1,90E+11               Guarulhos     23    F  ...  180.0  160.0         880.0       Sim\n",
              "\n",
              "[5 rows x 28 columns]"
            ],
            "text/html": [
              "\n",
              "  <div id=\"df-498a9c58-3493-404c-ac49-735512370f95\" class=\"colab-df-container\">\n",
              "    <div>\n",
              "<style scoped>\n",
              "    .dataframe tbody tr th:only-of-type {\n",
              "        vertical-align: middle;\n",
              "    }\n",
              "\n",
              "    .dataframe tbody tr th {\n",
              "        vertical-align: top;\n",
              "    }\n",
              "\n",
              "    .dataframe thead th {\n",
              "        text-align: right;\n",
              "    }\n",
              "</style>\n",
              "<table border=\"1\" class=\"dataframe\">\n",
              "  <thead>\n",
              "    <tr style=\"text-align: right;\">\n",
              "      <th></th>\n",
              "      <th>NU_INSCRICAO</th>\n",
              "      <th>NO_MUNICIPIO_RESIDENCIA</th>\n",
              "      <th>IDADE</th>\n",
              "      <th>SEXO</th>\n",
              "      <th>TP_ESTADO_CIVIL</th>\n",
              "      <th>RACA</th>\n",
              "      <th>TP_NACIONALIDADE</th>\n",
              "      <th>TP_ST_CONCLUSAO</th>\n",
              "      <th>ESCOLA</th>\n",
              "      <th>CO_ESCOLA</th>\n",
              "      <th>NO_MUNICIPIO_ESC</th>\n",
              "      <th>TP_PRESENCA_CN</th>\n",
              "      <th>TP_PRESENCA_CH</th>\n",
              "      <th>TP_PRESENCA_LC</th>\n",
              "      <th>TP_PRESENCA_MT</th>\n",
              "      <th>NOTA_CN</th>\n",
              "      <th>NOTA_CH</th>\n",
              "      <th>NOTA_LC</th>\n",
              "      <th>NOTA_MT</th>\n",
              "      <th>TP_LINGUA</th>\n",
              "      <th>TP_STATUS_REDACAO</th>\n",
              "      <th>COMP1</th>\n",
              "      <th>COMP2</th>\n",
              "      <th>COMP3</th>\n",
              "      <th>COMP4</th>\n",
              "      <th>COMP5</th>\n",
              "      <th>NOTA_REDACAO</th>\n",
              "      <th>INTERNET</th>\n",
              "    </tr>\n",
              "  </thead>\n",
              "  <tbody>\n",
              "    <tr>\n",
              "      <th>0</th>\n",
              "      <td>1,90E+11</td>\n",
              "      <td>Santa Isabel</td>\n",
              "      <td>22</td>\n",
              "      <td>M</td>\n",
              "      <td>1</td>\n",
              "      <td>parda</td>\n",
              "      <td>1</td>\n",
              "      <td>1</td>\n",
              "      <td>não_respondeu</td>\n",
              "      <td>NaN</td>\n",
              "      <td>NaN</td>\n",
              "      <td>1</td>\n",
              "      <td>1</td>\n",
              "      <td>1</td>\n",
              "      <td>1</td>\n",
              "      <td>564.6</td>\n",
              "      <td>585.8</td>\n",
              "      <td>592.9</td>\n",
              "      <td>600.2</td>\n",
              "      <td>Inglês</td>\n",
              "      <td>1.0</td>\n",
              "      <td>160.0</td>\n",
              "      <td>200.0</td>\n",
              "      <td>180.0</td>\n",
              "      <td>200.0</td>\n",
              "      <td>200.0</td>\n",
              "      <td>940.0</td>\n",
              "      <td>Sim</td>\n",
              "    </tr>\n",
              "    <tr>\n",
              "      <th>1</th>\n",
              "      <td>1,90E+11</td>\n",
              "      <td>São Paulo</td>\n",
              "      <td>17</td>\n",
              "      <td>F</td>\n",
              "      <td>1</td>\n",
              "      <td>parda</td>\n",
              "      <td>1</td>\n",
              "      <td>2</td>\n",
              "      <td>privada</td>\n",
              "      <td>15567761.0</td>\n",
              "      <td>Belém</td>\n",
              "      <td>1</td>\n",
              "      <td>1</td>\n",
              "      <td>1</td>\n",
              "      <td>1</td>\n",
              "      <td>576.2</td>\n",
              "      <td>641.1</td>\n",
              "      <td>634.3</td>\n",
              "      <td>731.8</td>\n",
              "      <td>Inglês</td>\n",
              "      <td>1.0</td>\n",
              "      <td>160.0</td>\n",
              "      <td>120.0</td>\n",
              "      <td>200.0</td>\n",
              "      <td>200.0</td>\n",
              "      <td>200.0</td>\n",
              "      <td>880.0</td>\n",
              "      <td>Não</td>\n",
              "    </tr>\n",
              "    <tr>\n",
              "      <th>2</th>\n",
              "      <td>1,90E+11</td>\n",
              "      <td>São Bernardo do Campo</td>\n",
              "      <td>19</td>\n",
              "      <td>M</td>\n",
              "      <td>1</td>\n",
              "      <td>parda</td>\n",
              "      <td>1</td>\n",
              "      <td>2</td>\n",
              "      <td>pública</td>\n",
              "      <td>35904958.0</td>\n",
              "      <td>São Bernardo do Campo</td>\n",
              "      <td>1</td>\n",
              "      <td>1</td>\n",
              "      <td>1</td>\n",
              "      <td>1</td>\n",
              "      <td>402.2</td>\n",
              "      <td>424.8</td>\n",
              "      <td>509.6</td>\n",
              "      <td>393.2</td>\n",
              "      <td>Espanhol</td>\n",
              "      <td>1.0</td>\n",
              "      <td>80.0</td>\n",
              "      <td>160.0</td>\n",
              "      <td>120.0</td>\n",
              "      <td>100.0</td>\n",
              "      <td>100.0</td>\n",
              "      <td>560.0</td>\n",
              "      <td>Sim</td>\n",
              "    </tr>\n",
              "    <tr>\n",
              "      <th>3</th>\n",
              "      <td>1,90E+11</td>\n",
              "      <td>Embu-Guaçu</td>\n",
              "      <td>17</td>\n",
              "      <td>F</td>\n",
              "      <td>1</td>\n",
              "      <td>parda</td>\n",
              "      <td>1</td>\n",
              "      <td>2</td>\n",
              "      <td>pública</td>\n",
              "      <td>NaN</td>\n",
              "      <td>NaN</td>\n",
              "      <td>1</td>\n",
              "      <td>1</td>\n",
              "      <td>1</td>\n",
              "      <td>1</td>\n",
              "      <td>399.6</td>\n",
              "      <td>426.8</td>\n",
              "      <td>487.2</td>\n",
              "      <td>419.2</td>\n",
              "      <td>Inglês</td>\n",
              "      <td>1.0</td>\n",
              "      <td>120.0</td>\n",
              "      <td>120.0</td>\n",
              "      <td>120.0</td>\n",
              "      <td>120.0</td>\n",
              "      <td>80.0</td>\n",
              "      <td>560.0</td>\n",
              "      <td>Sim</td>\n",
              "    </tr>\n",
              "    <tr>\n",
              "      <th>4</th>\n",
              "      <td>1,90E+11</td>\n",
              "      <td>Guarulhos</td>\n",
              "      <td>23</td>\n",
              "      <td>F</td>\n",
              "      <td>1</td>\n",
              "      <td>branca</td>\n",
              "      <td>1</td>\n",
              "      <td>1</td>\n",
              "      <td>não_respondeu</td>\n",
              "      <td>NaN</td>\n",
              "      <td>NaN</td>\n",
              "      <td>1</td>\n",
              "      <td>1</td>\n",
              "      <td>1</td>\n",
              "      <td>1</td>\n",
              "      <td>625.7</td>\n",
              "      <td>646.5</td>\n",
              "      <td>629.3</td>\n",
              "      <td>796.1</td>\n",
              "      <td>Inglês</td>\n",
              "      <td>1.0</td>\n",
              "      <td>160.0</td>\n",
              "      <td>200.0</td>\n",
              "      <td>180.0</td>\n",
              "      <td>180.0</td>\n",
              "      <td>160.0</td>\n",
              "      <td>880.0</td>\n",
              "      <td>Sim</td>\n",
              "    </tr>\n",
              "  </tbody>\n",
              "</table>\n",
              "</div>\n",
              "    <div class=\"colab-df-buttons\">\n",
              "\n",
              "  <div class=\"colab-df-container\">\n",
              "    <button class=\"colab-df-convert\" onclick=\"convertToInteractive('df-498a9c58-3493-404c-ac49-735512370f95')\"\n",
              "            title=\"Convert this dataframe to an interactive table.\"\n",
              "            style=\"display:none;\">\n",
              "\n",
              "  <svg xmlns=\"http://www.w3.org/2000/svg\" height=\"24px\" viewBox=\"0 -960 960 960\">\n",
              "    <path d=\"M120-120v-720h720v720H120Zm60-500h600v-160H180v160Zm220 220h160v-160H400v160Zm0 220h160v-160H400v160ZM180-400h160v-160H180v160Zm440 0h160v-160H620v160ZM180-180h160v-160H180v160Zm440 0h160v-160H620v160Z\"/>\n",
              "  </svg>\n",
              "    </button>\n",
              "\n",
              "  <style>\n",
              "    .colab-df-container {\n",
              "      display:flex;\n",
              "      gap: 12px;\n",
              "    }\n",
              "\n",
              "    .colab-df-convert {\n",
              "      background-color: #E8F0FE;\n",
              "      border: none;\n",
              "      border-radius: 50%;\n",
              "      cursor: pointer;\n",
              "      display: none;\n",
              "      fill: #1967D2;\n",
              "      height: 32px;\n",
              "      padding: 0 0 0 0;\n",
              "      width: 32px;\n",
              "    }\n",
              "\n",
              "    .colab-df-convert:hover {\n",
              "      background-color: #E2EBFA;\n",
              "      box-shadow: 0px 1px 2px rgba(60, 64, 67, 0.3), 0px 1px 3px 1px rgba(60, 64, 67, 0.15);\n",
              "      fill: #174EA6;\n",
              "    }\n",
              "\n",
              "    .colab-df-buttons div {\n",
              "      margin-bottom: 4px;\n",
              "    }\n",
              "\n",
              "    [theme=dark] .colab-df-convert {\n",
              "      background-color: #3B4455;\n",
              "      fill: #D2E3FC;\n",
              "    }\n",
              "\n",
              "    [theme=dark] .colab-df-convert:hover {\n",
              "      background-color: #434B5C;\n",
              "      box-shadow: 0px 1px 3px 1px rgba(0, 0, 0, 0.15);\n",
              "      filter: drop-shadow(0px 1px 2px rgba(0, 0, 0, 0.3));\n",
              "      fill: #FFFFFF;\n",
              "    }\n",
              "  </style>\n",
              "\n",
              "    <script>\n",
              "      const buttonEl =\n",
              "        document.querySelector('#df-498a9c58-3493-404c-ac49-735512370f95 button.colab-df-convert');\n",
              "      buttonEl.style.display =\n",
              "        google.colab.kernel.accessAllowed ? 'block' : 'none';\n",
              "\n",
              "      async function convertToInteractive(key) {\n",
              "        const element = document.querySelector('#df-498a9c58-3493-404c-ac49-735512370f95');\n",
              "        const dataTable =\n",
              "          await google.colab.kernel.invokeFunction('convertToInteractive',\n",
              "                                                    [key], {});\n",
              "        if (!dataTable) return;\n",
              "\n",
              "        const docLinkHtml = 'Like what you see? Visit the ' +\n",
              "          '<a target=\"_blank\" href=https://colab.research.google.com/notebooks/data_table.ipynb>data table notebook</a>'\n",
              "          + ' to learn more about interactive tables.';\n",
              "        element.innerHTML = '';\n",
              "        dataTable['output_type'] = 'display_data';\n",
              "        await google.colab.output.renderOutput(dataTable, element);\n",
              "        const docLink = document.createElement('div');\n",
              "        docLink.innerHTML = docLinkHtml;\n",
              "        element.appendChild(docLink);\n",
              "      }\n",
              "    </script>\n",
              "  </div>\n",
              "\n",
              "\n",
              "<div id=\"df-141475ea-ff99-40c6-b067-50a387cee39c\">\n",
              "  <button class=\"colab-df-quickchart\" onclick=\"quickchart('df-141475ea-ff99-40c6-b067-50a387cee39c')\"\n",
              "            title=\"Suggest charts\"\n",
              "            style=\"display:none;\">\n",
              "\n",
              "<svg xmlns=\"http://www.w3.org/2000/svg\" height=\"24px\"viewBox=\"0 0 24 24\"\n",
              "     width=\"24px\">\n",
              "    <g>\n",
              "        <path d=\"M19 3H5c-1.1 0-2 .9-2 2v14c0 1.1.9 2 2 2h14c1.1 0 2-.9 2-2V5c0-1.1-.9-2-2-2zM9 17H7v-7h2v7zm4 0h-2V7h2v10zm4 0h-2v-4h2v4z\"/>\n",
              "    </g>\n",
              "</svg>\n",
              "  </button>\n",
              "\n",
              "<style>\n",
              "  .colab-df-quickchart {\n",
              "      --bg-color: #E8F0FE;\n",
              "      --fill-color: #1967D2;\n",
              "      --hover-bg-color: #E2EBFA;\n",
              "      --hover-fill-color: #174EA6;\n",
              "      --disabled-fill-color: #AAA;\n",
              "      --disabled-bg-color: #DDD;\n",
              "  }\n",
              "\n",
              "  [theme=dark] .colab-df-quickchart {\n",
              "      --bg-color: #3B4455;\n",
              "      --fill-color: #D2E3FC;\n",
              "      --hover-bg-color: #434B5C;\n",
              "      --hover-fill-color: #FFFFFF;\n",
              "      --disabled-bg-color: #3B4455;\n",
              "      --disabled-fill-color: #666;\n",
              "  }\n",
              "\n",
              "  .colab-df-quickchart {\n",
              "    background-color: var(--bg-color);\n",
              "    border: none;\n",
              "    border-radius: 50%;\n",
              "    cursor: pointer;\n",
              "    display: none;\n",
              "    fill: var(--fill-color);\n",
              "    height: 32px;\n",
              "    padding: 0;\n",
              "    width: 32px;\n",
              "  }\n",
              "\n",
              "  .colab-df-quickchart:hover {\n",
              "    background-color: var(--hover-bg-color);\n",
              "    box-shadow: 0 1px 2px rgba(60, 64, 67, 0.3), 0 1px 3px 1px rgba(60, 64, 67, 0.15);\n",
              "    fill: var(--button-hover-fill-color);\n",
              "  }\n",
              "\n",
              "  .colab-df-quickchart-complete:disabled,\n",
              "  .colab-df-quickchart-complete:disabled:hover {\n",
              "    background-color: var(--disabled-bg-color);\n",
              "    fill: var(--disabled-fill-color);\n",
              "    box-shadow: none;\n",
              "  }\n",
              "\n",
              "  .colab-df-spinner {\n",
              "    border: 2px solid var(--fill-color);\n",
              "    border-color: transparent;\n",
              "    border-bottom-color: var(--fill-color);\n",
              "    animation:\n",
              "      spin 1s steps(1) infinite;\n",
              "  }\n",
              "\n",
              "  @keyframes spin {\n",
              "    0% {\n",
              "      border-color: transparent;\n",
              "      border-bottom-color: var(--fill-color);\n",
              "      border-left-color: var(--fill-color);\n",
              "    }\n",
              "    20% {\n",
              "      border-color: transparent;\n",
              "      border-left-color: var(--fill-color);\n",
              "      border-top-color: var(--fill-color);\n",
              "    }\n",
              "    30% {\n",
              "      border-color: transparent;\n",
              "      border-left-color: var(--fill-color);\n",
              "      border-top-color: var(--fill-color);\n",
              "      border-right-color: var(--fill-color);\n",
              "    }\n",
              "    40% {\n",
              "      border-color: transparent;\n",
              "      border-right-color: var(--fill-color);\n",
              "      border-top-color: var(--fill-color);\n",
              "    }\n",
              "    60% {\n",
              "      border-color: transparent;\n",
              "      border-right-color: var(--fill-color);\n",
              "    }\n",
              "    80% {\n",
              "      border-color: transparent;\n",
              "      border-right-color: var(--fill-color);\n",
              "      border-bottom-color: var(--fill-color);\n",
              "    }\n",
              "    90% {\n",
              "      border-color: transparent;\n",
              "      border-bottom-color: var(--fill-color);\n",
              "    }\n",
              "  }\n",
              "</style>\n",
              "\n",
              "  <script>\n",
              "    async function quickchart(key) {\n",
              "      const quickchartButtonEl =\n",
              "        document.querySelector('#' + key + ' button');\n",
              "      quickchartButtonEl.disabled = true;  // To prevent multiple clicks.\n",
              "      quickchartButtonEl.classList.add('colab-df-spinner');\n",
              "      try {\n",
              "        const charts = await google.colab.kernel.invokeFunction(\n",
              "            'suggestCharts', [key], {});\n",
              "      } catch (error) {\n",
              "        console.error('Error during call to suggestCharts:', error);\n",
              "      }\n",
              "      quickchartButtonEl.classList.remove('colab-df-spinner');\n",
              "      quickchartButtonEl.classList.add('colab-df-quickchart-complete');\n",
              "    }\n",
              "    (() => {\n",
              "      let quickchartButtonEl =\n",
              "        document.querySelector('#df-141475ea-ff99-40c6-b067-50a387cee39c button');\n",
              "      quickchartButtonEl.style.display =\n",
              "        google.colab.kernel.accessAllowed ? 'block' : 'none';\n",
              "    })();\n",
              "  </script>\n",
              "</div>\n",
              "\n",
              "    </div>\n",
              "  </div>\n"
            ],
            "application/vnd.google.colaboratory.intrinsic+json": {
              "type": "dataframe",
              "variable_name": "dados"
            }
          },
          "metadata": {},
          "execution_count": 55
        }
      ]
    },
    {
      "cell_type": "markdown",
      "source": [
        "**Objetivo: criar um modelo de regressão linear múltipla para prever a nota da redação tendo como variáveis independentes as notas de seus componentes.**"
      ],
      "metadata": {
        "id": "ZC6JrHHMtOy0"
      }
    },
    {
      "cell_type": "code",
      "source": [
        "dados.shape"
      ],
      "metadata": {
        "colab": {
          "base_uri": "https://localhost:8080/"
        },
        "id": "4anU8qoxtKt5",
        "outputId": "a8166d95-236b-4312-a5d4-7fbc14c16023"
      },
      "execution_count": 56,
      "outputs": [
        {
          "output_type": "execute_result",
          "data": {
            "text/plain": [
              "(499940, 28)"
            ]
          },
          "metadata": {},
          "execution_count": 56
        }
      ]
    },
    {
      "cell_type": "markdown",
      "source": [
        "**Selecionando apenas um dos colégios**"
      ],
      "metadata": {
        "id": "slzHJcPfuO0b"
      }
    },
    {
      "cell_type": "code",
      "source": [
        "colegioX = dados.loc[dados['CO_ESCOLA'] == 35132287]\n",
        "colegioX.head()"
      ],
      "metadata": {
        "colab": {
          "base_uri": "https://localhost:8080/",
          "height": 226
        },
        "id": "M3mSQueJthFH",
        "outputId": "0d7443bc-7712-4962-9d59-46e161b74639"
      },
      "execution_count": 57,
      "outputs": [
        {
          "output_type": "execute_result",
          "data": {
            "text/plain": [
              "      NU_INSCRICAO NO_MUNICIPIO_RESIDENCIA  IDADE SEXO  ...  COMP4  COMP5  NOTA_REDACAO  INTERNET\n",
              "17        1,90E+11               São Paulo     18    F  ...  160.0  160.0         760.0       Sim\n",
              "10760     1,90E+11               São Paulo     17    M  ...  200.0  140.0         920.0       Sim\n",
              "13315     1,90E+11               São Paulo     17    F  ...  200.0  120.0         780.0       Sim\n",
              "20006     1,90E+11               São Paulo     17    F  ...  180.0  140.0         800.0       Sim\n",
              "26697     1,90E+11               São Paulo     18    F  ...  200.0  200.0         960.0       Sim\n",
              "\n",
              "[5 rows x 28 columns]"
            ],
            "text/html": [
              "\n",
              "  <div id=\"df-9ff09572-5ef2-4bbb-9506-0123b6f31513\" class=\"colab-df-container\">\n",
              "    <div>\n",
              "<style scoped>\n",
              "    .dataframe tbody tr th:only-of-type {\n",
              "        vertical-align: middle;\n",
              "    }\n",
              "\n",
              "    .dataframe tbody tr th {\n",
              "        vertical-align: top;\n",
              "    }\n",
              "\n",
              "    .dataframe thead th {\n",
              "        text-align: right;\n",
              "    }\n",
              "</style>\n",
              "<table border=\"1\" class=\"dataframe\">\n",
              "  <thead>\n",
              "    <tr style=\"text-align: right;\">\n",
              "      <th></th>\n",
              "      <th>NU_INSCRICAO</th>\n",
              "      <th>NO_MUNICIPIO_RESIDENCIA</th>\n",
              "      <th>IDADE</th>\n",
              "      <th>SEXO</th>\n",
              "      <th>TP_ESTADO_CIVIL</th>\n",
              "      <th>RACA</th>\n",
              "      <th>TP_NACIONALIDADE</th>\n",
              "      <th>TP_ST_CONCLUSAO</th>\n",
              "      <th>ESCOLA</th>\n",
              "      <th>CO_ESCOLA</th>\n",
              "      <th>NO_MUNICIPIO_ESC</th>\n",
              "      <th>TP_PRESENCA_CN</th>\n",
              "      <th>TP_PRESENCA_CH</th>\n",
              "      <th>TP_PRESENCA_LC</th>\n",
              "      <th>TP_PRESENCA_MT</th>\n",
              "      <th>NOTA_CN</th>\n",
              "      <th>NOTA_CH</th>\n",
              "      <th>NOTA_LC</th>\n",
              "      <th>NOTA_MT</th>\n",
              "      <th>TP_LINGUA</th>\n",
              "      <th>TP_STATUS_REDACAO</th>\n",
              "      <th>COMP1</th>\n",
              "      <th>COMP2</th>\n",
              "      <th>COMP3</th>\n",
              "      <th>COMP4</th>\n",
              "      <th>COMP5</th>\n",
              "      <th>NOTA_REDACAO</th>\n",
              "      <th>INTERNET</th>\n",
              "    </tr>\n",
              "  </thead>\n",
              "  <tbody>\n",
              "    <tr>\n",
              "      <th>17</th>\n",
              "      <td>1,90E+11</td>\n",
              "      <td>São Paulo</td>\n",
              "      <td>18</td>\n",
              "      <td>F</td>\n",
              "      <td>1</td>\n",
              "      <td>branca</td>\n",
              "      <td>1</td>\n",
              "      <td>2</td>\n",
              "      <td>privada</td>\n",
              "      <td>35132287.0</td>\n",
              "      <td>São Paulo</td>\n",
              "      <td>1</td>\n",
              "      <td>1</td>\n",
              "      <td>1</td>\n",
              "      <td>1</td>\n",
              "      <td>585.9</td>\n",
              "      <td>625.6</td>\n",
              "      <td>597.4</td>\n",
              "      <td>49.1</td>\n",
              "      <td>Inglês</td>\n",
              "      <td>1.0</td>\n",
              "      <td>160.0</td>\n",
              "      <td>140.0</td>\n",
              "      <td>140.0</td>\n",
              "      <td>160.0</td>\n",
              "      <td>160.0</td>\n",
              "      <td>760.0</td>\n",
              "      <td>Sim</td>\n",
              "    </tr>\n",
              "    <tr>\n",
              "      <th>10760</th>\n",
              "      <td>1,90E+11</td>\n",
              "      <td>São Paulo</td>\n",
              "      <td>17</td>\n",
              "      <td>M</td>\n",
              "      <td>1</td>\n",
              "      <td>parda</td>\n",
              "      <td>1</td>\n",
              "      <td>2</td>\n",
              "      <td>privada</td>\n",
              "      <td>35132287.0</td>\n",
              "      <td>São Paulo</td>\n",
              "      <td>1</td>\n",
              "      <td>1</td>\n",
              "      <td>1</td>\n",
              "      <td>1</td>\n",
              "      <td>769.3</td>\n",
              "      <td>634.3</td>\n",
              "      <td>616.9</td>\n",
              "      <td>930.5</td>\n",
              "      <td>Inglês</td>\n",
              "      <td>1.0</td>\n",
              "      <td>180.0</td>\n",
              "      <td>200.0</td>\n",
              "      <td>200.0</td>\n",
              "      <td>200.0</td>\n",
              "      <td>140.0</td>\n",
              "      <td>920.0</td>\n",
              "      <td>Sim</td>\n",
              "    </tr>\n",
              "    <tr>\n",
              "      <th>13315</th>\n",
              "      <td>1,90E+11</td>\n",
              "      <td>São Paulo</td>\n",
              "      <td>17</td>\n",
              "      <td>F</td>\n",
              "      <td>1</td>\n",
              "      <td>branca</td>\n",
              "      <td>1</td>\n",
              "      <td>2</td>\n",
              "      <td>privada</td>\n",
              "      <td>35132287.0</td>\n",
              "      <td>São Paulo</td>\n",
              "      <td>1</td>\n",
              "      <td>1</td>\n",
              "      <td>1</td>\n",
              "      <td>1</td>\n",
              "      <td>651.5</td>\n",
              "      <td>647.1</td>\n",
              "      <td>601.9</td>\n",
              "      <td>663.9</td>\n",
              "      <td>Inglês</td>\n",
              "      <td>1.0</td>\n",
              "      <td>160.0</td>\n",
              "      <td>140.0</td>\n",
              "      <td>160.0</td>\n",
              "      <td>200.0</td>\n",
              "      <td>120.0</td>\n",
              "      <td>780.0</td>\n",
              "      <td>Sim</td>\n",
              "    </tr>\n",
              "    <tr>\n",
              "      <th>20006</th>\n",
              "      <td>1,90E+11</td>\n",
              "      <td>São Paulo</td>\n",
              "      <td>17</td>\n",
              "      <td>F</td>\n",
              "      <td>1</td>\n",
              "      <td>branca</td>\n",
              "      <td>1</td>\n",
              "      <td>2</td>\n",
              "      <td>privada</td>\n",
              "      <td>35132287.0</td>\n",
              "      <td>São Paulo</td>\n",
              "      <td>1</td>\n",
              "      <td>1</td>\n",
              "      <td>1</td>\n",
              "      <td>1</td>\n",
              "      <td>565.3</td>\n",
              "      <td>552.9</td>\n",
              "      <td>599.2</td>\n",
              "      <td>771.9</td>\n",
              "      <td>Inglês</td>\n",
              "      <td>1.0</td>\n",
              "      <td>140.0</td>\n",
              "      <td>180.0</td>\n",
              "      <td>160.0</td>\n",
              "      <td>180.0</td>\n",
              "      <td>140.0</td>\n",
              "      <td>800.0</td>\n",
              "      <td>Sim</td>\n",
              "    </tr>\n",
              "    <tr>\n",
              "      <th>26697</th>\n",
              "      <td>1,90E+11</td>\n",
              "      <td>São Paulo</td>\n",
              "      <td>18</td>\n",
              "      <td>F</td>\n",
              "      <td>1</td>\n",
              "      <td>branca</td>\n",
              "      <td>1</td>\n",
              "      <td>2</td>\n",
              "      <td>privada</td>\n",
              "      <td>35132287.0</td>\n",
              "      <td>São Paulo</td>\n",
              "      <td>1</td>\n",
              "      <td>1</td>\n",
              "      <td>1</td>\n",
              "      <td>1</td>\n",
              "      <td>585.6</td>\n",
              "      <td>615.4</td>\n",
              "      <td>627.7</td>\n",
              "      <td>663.1</td>\n",
              "      <td>Inglês</td>\n",
              "      <td>1.0</td>\n",
              "      <td>160.0</td>\n",
              "      <td>200.0</td>\n",
              "      <td>200.0</td>\n",
              "      <td>200.0</td>\n",
              "      <td>200.0</td>\n",
              "      <td>960.0</td>\n",
              "      <td>Sim</td>\n",
              "    </tr>\n",
              "  </tbody>\n",
              "</table>\n",
              "</div>\n",
              "    <div class=\"colab-df-buttons\">\n",
              "\n",
              "  <div class=\"colab-df-container\">\n",
              "    <button class=\"colab-df-convert\" onclick=\"convertToInteractive('df-9ff09572-5ef2-4bbb-9506-0123b6f31513')\"\n",
              "            title=\"Convert this dataframe to an interactive table.\"\n",
              "            style=\"display:none;\">\n",
              "\n",
              "  <svg xmlns=\"http://www.w3.org/2000/svg\" height=\"24px\" viewBox=\"0 -960 960 960\">\n",
              "    <path d=\"M120-120v-720h720v720H120Zm60-500h600v-160H180v160Zm220 220h160v-160H400v160Zm0 220h160v-160H400v160ZM180-400h160v-160H180v160Zm440 0h160v-160H620v160ZM180-180h160v-160H180v160Zm440 0h160v-160H620v160Z\"/>\n",
              "  </svg>\n",
              "    </button>\n",
              "\n",
              "  <style>\n",
              "    .colab-df-container {\n",
              "      display:flex;\n",
              "      gap: 12px;\n",
              "    }\n",
              "\n",
              "    .colab-df-convert {\n",
              "      background-color: #E8F0FE;\n",
              "      border: none;\n",
              "      border-radius: 50%;\n",
              "      cursor: pointer;\n",
              "      display: none;\n",
              "      fill: #1967D2;\n",
              "      height: 32px;\n",
              "      padding: 0 0 0 0;\n",
              "      width: 32px;\n",
              "    }\n",
              "\n",
              "    .colab-df-convert:hover {\n",
              "      background-color: #E2EBFA;\n",
              "      box-shadow: 0px 1px 2px rgba(60, 64, 67, 0.3), 0px 1px 3px 1px rgba(60, 64, 67, 0.15);\n",
              "      fill: #174EA6;\n",
              "    }\n",
              "\n",
              "    .colab-df-buttons div {\n",
              "      margin-bottom: 4px;\n",
              "    }\n",
              "\n",
              "    [theme=dark] .colab-df-convert {\n",
              "      background-color: #3B4455;\n",
              "      fill: #D2E3FC;\n",
              "    }\n",
              "\n",
              "    [theme=dark] .colab-df-convert:hover {\n",
              "      background-color: #434B5C;\n",
              "      box-shadow: 0px 1px 3px 1px rgba(0, 0, 0, 0.15);\n",
              "      filter: drop-shadow(0px 1px 2px rgba(0, 0, 0, 0.3));\n",
              "      fill: #FFFFFF;\n",
              "    }\n",
              "  </style>\n",
              "\n",
              "    <script>\n",
              "      const buttonEl =\n",
              "        document.querySelector('#df-9ff09572-5ef2-4bbb-9506-0123b6f31513 button.colab-df-convert');\n",
              "      buttonEl.style.display =\n",
              "        google.colab.kernel.accessAllowed ? 'block' : 'none';\n",
              "\n",
              "      async function convertToInteractive(key) {\n",
              "        const element = document.querySelector('#df-9ff09572-5ef2-4bbb-9506-0123b6f31513');\n",
              "        const dataTable =\n",
              "          await google.colab.kernel.invokeFunction('convertToInteractive',\n",
              "                                                    [key], {});\n",
              "        if (!dataTable) return;\n",
              "\n",
              "        const docLinkHtml = 'Like what you see? Visit the ' +\n",
              "          '<a target=\"_blank\" href=https://colab.research.google.com/notebooks/data_table.ipynb>data table notebook</a>'\n",
              "          + ' to learn more about interactive tables.';\n",
              "        element.innerHTML = '';\n",
              "        dataTable['output_type'] = 'display_data';\n",
              "        await google.colab.output.renderOutput(dataTable, element);\n",
              "        const docLink = document.createElement('div');\n",
              "        docLink.innerHTML = docLinkHtml;\n",
              "        element.appendChild(docLink);\n",
              "      }\n",
              "    </script>\n",
              "  </div>\n",
              "\n",
              "\n",
              "<div id=\"df-ef9db206-f453-4895-aef2-db1280b42af9\">\n",
              "  <button class=\"colab-df-quickchart\" onclick=\"quickchart('df-ef9db206-f453-4895-aef2-db1280b42af9')\"\n",
              "            title=\"Suggest charts\"\n",
              "            style=\"display:none;\">\n",
              "\n",
              "<svg xmlns=\"http://www.w3.org/2000/svg\" height=\"24px\"viewBox=\"0 0 24 24\"\n",
              "     width=\"24px\">\n",
              "    <g>\n",
              "        <path d=\"M19 3H5c-1.1 0-2 .9-2 2v14c0 1.1.9 2 2 2h14c1.1 0 2-.9 2-2V5c0-1.1-.9-2-2-2zM9 17H7v-7h2v7zm4 0h-2V7h2v10zm4 0h-2v-4h2v4z\"/>\n",
              "    </g>\n",
              "</svg>\n",
              "  </button>\n",
              "\n",
              "<style>\n",
              "  .colab-df-quickchart {\n",
              "      --bg-color: #E8F0FE;\n",
              "      --fill-color: #1967D2;\n",
              "      --hover-bg-color: #E2EBFA;\n",
              "      --hover-fill-color: #174EA6;\n",
              "      --disabled-fill-color: #AAA;\n",
              "      --disabled-bg-color: #DDD;\n",
              "  }\n",
              "\n",
              "  [theme=dark] .colab-df-quickchart {\n",
              "      --bg-color: #3B4455;\n",
              "      --fill-color: #D2E3FC;\n",
              "      --hover-bg-color: #434B5C;\n",
              "      --hover-fill-color: #FFFFFF;\n",
              "      --disabled-bg-color: #3B4455;\n",
              "      --disabled-fill-color: #666;\n",
              "  }\n",
              "\n",
              "  .colab-df-quickchart {\n",
              "    background-color: var(--bg-color);\n",
              "    border: none;\n",
              "    border-radius: 50%;\n",
              "    cursor: pointer;\n",
              "    display: none;\n",
              "    fill: var(--fill-color);\n",
              "    height: 32px;\n",
              "    padding: 0;\n",
              "    width: 32px;\n",
              "  }\n",
              "\n",
              "  .colab-df-quickchart:hover {\n",
              "    background-color: var(--hover-bg-color);\n",
              "    box-shadow: 0 1px 2px rgba(60, 64, 67, 0.3), 0 1px 3px 1px rgba(60, 64, 67, 0.15);\n",
              "    fill: var(--button-hover-fill-color);\n",
              "  }\n",
              "\n",
              "  .colab-df-quickchart-complete:disabled,\n",
              "  .colab-df-quickchart-complete:disabled:hover {\n",
              "    background-color: var(--disabled-bg-color);\n",
              "    fill: var(--disabled-fill-color);\n",
              "    box-shadow: none;\n",
              "  }\n",
              "\n",
              "  .colab-df-spinner {\n",
              "    border: 2px solid var(--fill-color);\n",
              "    border-color: transparent;\n",
              "    border-bottom-color: var(--fill-color);\n",
              "    animation:\n",
              "      spin 1s steps(1) infinite;\n",
              "  }\n",
              "\n",
              "  @keyframes spin {\n",
              "    0% {\n",
              "      border-color: transparent;\n",
              "      border-bottom-color: var(--fill-color);\n",
              "      border-left-color: var(--fill-color);\n",
              "    }\n",
              "    20% {\n",
              "      border-color: transparent;\n",
              "      border-left-color: var(--fill-color);\n",
              "      border-top-color: var(--fill-color);\n",
              "    }\n",
              "    30% {\n",
              "      border-color: transparent;\n",
              "      border-left-color: var(--fill-color);\n",
              "      border-top-color: var(--fill-color);\n",
              "      border-right-color: var(--fill-color);\n",
              "    }\n",
              "    40% {\n",
              "      border-color: transparent;\n",
              "      border-right-color: var(--fill-color);\n",
              "      border-top-color: var(--fill-color);\n",
              "    }\n",
              "    60% {\n",
              "      border-color: transparent;\n",
              "      border-right-color: var(--fill-color);\n",
              "    }\n",
              "    80% {\n",
              "      border-color: transparent;\n",
              "      border-right-color: var(--fill-color);\n",
              "      border-bottom-color: var(--fill-color);\n",
              "    }\n",
              "    90% {\n",
              "      border-color: transparent;\n",
              "      border-bottom-color: var(--fill-color);\n",
              "    }\n",
              "  }\n",
              "</style>\n",
              "\n",
              "  <script>\n",
              "    async function quickchart(key) {\n",
              "      const quickchartButtonEl =\n",
              "        document.querySelector('#' + key + ' button');\n",
              "      quickchartButtonEl.disabled = true;  // To prevent multiple clicks.\n",
              "      quickchartButtonEl.classList.add('colab-df-spinner');\n",
              "      try {\n",
              "        const charts = await google.colab.kernel.invokeFunction(\n",
              "            'suggestCharts', [key], {});\n",
              "      } catch (error) {\n",
              "        console.error('Error during call to suggestCharts:', error);\n",
              "      }\n",
              "      quickchartButtonEl.classList.remove('colab-df-spinner');\n",
              "      quickchartButtonEl.classList.add('colab-df-quickchart-complete');\n",
              "    }\n",
              "    (() => {\n",
              "      let quickchartButtonEl =\n",
              "        document.querySelector('#df-ef9db206-f453-4895-aef2-db1280b42af9 button');\n",
              "      quickchartButtonEl.style.display =\n",
              "        google.colab.kernel.accessAllowed ? 'block' : 'none';\n",
              "    })();\n",
              "  </script>\n",
              "</div>\n",
              "\n",
              "    </div>\n",
              "  </div>\n"
            ],
            "application/vnd.google.colaboratory.intrinsic+json": {
              "type": "dataframe",
              "variable_name": "colegioX"
            }
          },
          "metadata": {},
          "execution_count": 57
        }
      ]
    },
    {
      "cell_type": "code",
      "source": [
        "colegioX.shape"
      ],
      "metadata": {
        "colab": {
          "base_uri": "https://localhost:8080/"
        },
        "id": "9eeHe5RavpqL",
        "outputId": "34819278-4944-4e8a-ffc8-e86ea2ae8b1f"
      },
      "execution_count": 58,
      "outputs": [
        {
          "output_type": "execute_result",
          "data": {
            "text/plain": [
              "(130, 28)"
            ]
          },
          "metadata": {},
          "execution_count": 58
        }
      ]
    },
    {
      "cell_type": "markdown",
      "source": [
        "**Valores Missing**"
      ],
      "metadata": {
        "id": "bVrc-NyqvX8K"
      }
    },
    {
      "cell_type": "code",
      "source": [
        "colegioX.isnull().sum()"
      ],
      "metadata": {
        "colab": {
          "base_uri": "https://localhost:8080/"
        },
        "id": "voyr56pDu26y",
        "outputId": "6a3b984f-4c38-4824-a0d9-82e86c226f67"
      },
      "execution_count": 59,
      "outputs": [
        {
          "output_type": "execute_result",
          "data": {
            "text/plain": [
              "NU_INSCRICAO               0\n",
              "NO_MUNICIPIO_RESIDENCIA    0\n",
              "IDADE                      0\n",
              "SEXO                       0\n",
              "TP_ESTADO_CIVIL            0\n",
              "RACA                       0\n",
              "TP_NACIONALIDADE           0\n",
              "TP_ST_CONCLUSAO            0\n",
              "ESCOLA                     0\n",
              "CO_ESCOLA                  0\n",
              "NO_MUNICIPIO_ESC           0\n",
              "TP_PRESENCA_CN             0\n",
              "TP_PRESENCA_CH             0\n",
              "TP_PRESENCA_LC             0\n",
              "TP_PRESENCA_MT             0\n",
              "NOTA_CN                    0\n",
              "NOTA_CH                    0\n",
              "NOTA_LC                    0\n",
              "NOTA_MT                    0\n",
              "TP_LINGUA                  0\n",
              "TP_STATUS_REDACAO          0\n",
              "COMP1                      0\n",
              "COMP2                      0\n",
              "COMP3                      0\n",
              "COMP4                      0\n",
              "COMP5                      0\n",
              "NOTA_REDACAO               0\n",
              "INTERNET                   0\n",
              "dtype: int64"
            ]
          },
          "metadata": {},
          "execution_count": 59
        }
      ]
    },
    {
      "cell_type": "code",
      "source": [
        "# Análise dos tipos de atributos\n",
        "colegioX.dtypes"
      ],
      "metadata": {
        "colab": {
          "base_uri": "https://localhost:8080/"
        },
        "id": "TO19n50AverD",
        "outputId": "a12df5ce-141c-4627-92cf-e7e248de1a42"
      },
      "execution_count": 60,
      "outputs": [
        {
          "output_type": "execute_result",
          "data": {
            "text/plain": [
              "NU_INSCRICAO                object\n",
              "NO_MUNICIPIO_RESIDENCIA     object\n",
              "IDADE                        int64\n",
              "SEXO                        object\n",
              "TP_ESTADO_CIVIL              int64\n",
              "RACA                        object\n",
              "TP_NACIONALIDADE             int64\n",
              "TP_ST_CONCLUSAO              int64\n",
              "ESCOLA                      object\n",
              "CO_ESCOLA                  float64\n",
              "NO_MUNICIPIO_ESC            object\n",
              "TP_PRESENCA_CN               int64\n",
              "TP_PRESENCA_CH               int64\n",
              "TP_PRESENCA_LC               int64\n",
              "TP_PRESENCA_MT               int64\n",
              "NOTA_CN                    float64\n",
              "NOTA_CH                    float64\n",
              "NOTA_LC                    float64\n",
              "NOTA_MT                    float64\n",
              "TP_LINGUA                   object\n",
              "TP_STATUS_REDACAO          float64\n",
              "COMP1                      float64\n",
              "COMP2                      float64\n",
              "COMP3                      float64\n",
              "COMP4                      float64\n",
              "COMP5                      float64\n",
              "NOTA_REDACAO               float64\n",
              "INTERNET                    object\n",
              "dtype: object"
            ]
          },
          "metadata": {},
          "execution_count": 60
        }
      ]
    },
    {
      "cell_type": "markdown",
      "source": [
        "# **Regressão Múltipla com StatsModels**"
      ],
      "metadata": {
        "id": "rMIQEFUhv5w8"
      }
    },
    {
      "cell_type": "markdown",
      "source": [
        "# **MODELO 1**"
      ],
      "metadata": {
        "id": "3qQNdglwwDQy"
      }
    },
    {
      "cell_type": "code",
      "source": [
        "import statsmodels.formula.api as smf\n",
        "import statsmodels.stats.api as sms"
      ],
      "metadata": {
        "id": "GGlz0QdCvxpc"
      },
      "execution_count": 61,
      "outputs": []
    },
    {
      "cell_type": "code",
      "source": [
        "# Criação do modelo 1\n",
        "modelo1 = smf.ols( 'NOTA_REDACAO ~ COMP2 + COMP4 + COMP5', data = colegioX).fit()"
      ],
      "metadata": {
        "id": "zBiPgM92wa8B"
      },
      "execution_count": 62,
      "outputs": []
    },
    {
      "cell_type": "code",
      "source": [
        "residuos = modelo1.resid\n",
        "residuos"
      ],
      "metadata": {
        "colab": {
          "base_uri": "https://localhost:8080/"
        },
        "id": "9TdovVjHw0xe",
        "outputId": "a3885d0c-dc64-4021-9665-dd9d50e936da"
      },
      "execution_count": 63,
      "outputs": [
        {
          "output_type": "execute_result",
          "data": {
            "text/plain": [
              "17        -4.498054\n",
              "10760     33.309358\n",
              "13315     -5.718021\n",
              "20006    -26.432059\n",
              "26697      1.349594\n",
              "            ...    \n",
              "426829    35.760528\n",
              "428241   -17.683137\n",
              "443242   -17.497499\n",
              "462446   -56.783460\n",
              "483420    34.529325\n",
              "Length: 130, dtype: float64"
            ]
          },
          "metadata": {},
          "execution_count": 63
        }
      ]
    },
    {
      "cell_type": "markdown",
      "source": [
        "# **1º Teste de Normalidade dos Resíduos**"
      ],
      "metadata": {
        "id": "mY9VQpmGxE3h"
      }
    },
    {
      "cell_type": "code",
      "source": [
        "import scipy.stats as stats"
      ],
      "metadata": {
        "id": "cIBPW4biw-8I"
      },
      "execution_count": 64,
      "outputs": []
    },
    {
      "cell_type": "markdown",
      "source": [
        "Ho = Distribuição Normal: p > 0.05\n",
        "\n",
        "Ha = Distribuição != Normal: p <= 0.05"
      ],
      "metadata": {
        "id": "ewxI6pqGxjSp"
      }
    },
    {
      "cell_type": "code",
      "source": [
        "estatistica, p = stats.shapiro( residuos )\n",
        "print(\"Estatística de teste: {:.2f}%\".format(estatistica * 100))\n",
        "print('p-valoe: {}'.format(p))"
      ],
      "metadata": {
        "colab": {
          "base_uri": "https://localhost:8080/"
        },
        "id": "e1RxcOcYxhDU",
        "outputId": "d8311c23-d89d-4ab7-acff-938dda2cc5af"
      },
      "execution_count": 65,
      "outputs": [
        {
          "output_type": "stream",
          "name": "stdout",
          "text": [
            "Estatística de teste: 98.47%\n",
            "p-valoe: 0.15436169505119324\n"
          ]
        }
      ]
    },
    {
      "cell_type": "code",
      "source": [
        "import matplotlib.pyplot as plt"
      ],
      "metadata": {
        "id": "IJZxtcU0yCrH"
      },
      "execution_count": 66,
      "outputs": []
    },
    {
      "cell_type": "code",
      "source": [
        "stats.probplot(residuos, dist='norm', plot=plt)\n",
        "plt.title('Normal Q-Q plot - Resíduos')\n",
        "plt.show()"
      ],
      "metadata": {
        "colab": {
          "base_uri": "https://localhost:8080/",
          "height": 472
        },
        "id": "FsRxal_3ymin",
        "outputId": "7ffe9e7d-ac1f-4983-8fb8-c9d04e41a7cb"
      },
      "execution_count": 67,
      "outputs": [
        {
          "output_type": "display_data",
          "data": {
            "text/plain": [
              "<Figure size 640x480 with 1 Axes>"
            ],
            "image/png": "[encoded data removed]"
          },
          "metadata": {}
        }
      ]
    },
    {
      "cell_type": "markdown",
      "source": [
        "# **2º Análise da Homocedasticidade dos Resíduos**"
      ],
      "metadata": {
        "id": "aAbsAyHYyIgH"
      }
    },
    {
      "cell_type": "markdown",
      "source": [
        "( Resíduos com Variação Constante )"
      ],
      "metadata": {
        "id": "ctO55enRy6j9"
      }
    },
    {
      "cell_type": "code",
      "source": [
        "plt.scatter(x=modelo1.predict(), y=residuos, color='red')\n",
        "plt.hlines(0, xmin=580, xmax=980, color='orange', linestyles='dashdot')\n",
        "plt.ylabel('Resíduos')\n",
        "plt.xlabel('Valores Preditos')\n",
        "plt.show()"
      ],
      "metadata": {
        "colab": {
          "base_uri": "https://localhost:8080/",
          "height": 449
        },
        "id": "q0iN82ivy9Fz",
        "outputId": "3ff4ab93-2830-415c-ce03-9e52eac5aad8"
      },
      "execution_count": 68,
      "outputs": [
        {
          "output_type": "display_data",
          "data": {
            "text/plain": [
              "<Figure size 640x480 with 1 Axes>"
            ],
            "image/png": "[encoded data removed]"
          },
          "metadata": {}
        }
      ]
    },
    {
      "cell_type": "markdown",
      "source": [
        "Teste Breusch-Pagan (Homocedasticidade ou Heterocedasticidade)"
      ],
      "metadata": {
        "id": "nuRv3-jt0hgW"
      }
    },
    {
      "cell_type": "markdown",
      "source": [
        "Ho = existe Homocedasticidade: p > 0.05\n",
        "\n",
        "Ha = não existe Homocedasticidade: p <= 0.05"
      ],
      "metadata": {
        "id": "GtGrs0L70quR"
      }
    },
    {
      "cell_type": "code",
      "source": [
        "from statsmodels.compat import lzip\n",
        "import statsmodels.stats.api as sms"
      ],
      "metadata": {
        "id": "8eEQXFUazfxU"
      },
      "execution_count": 69,
      "outputs": []
    },
    {
      "cell_type": "code",
      "source": [
        "estatistica, p, f, fp = sms.het_breuschpagan( modelo1.resid, modelo1.model.exog )\n",
        "print(\"Estatística do teste: {}%\".format(estatistica))\n",
        "print('p-valor: {}'.format(p))\n",
        "print('f-valor: {}'.format(f))\n",
        "print('f_p-valor: {}'.format(fp))"
      ],
      "metadata": {
        "colab": {
          "base_uri": "https://localhost:8080/"
        },
        "id": "zWp8ol310_Pl",
        "outputId": "ec01b167-e852-40b2-be90-67c580ec7ddc"
      },
      "execution_count": 70,
      "outputs": [
        {
          "output_type": "stream",
          "name": "stdout",
          "text": [
            "Estatística do teste: 7.939832568694114%\n",
            "p-valor: 0.047271689874476004\n",
            "f-valor: 2.732037608197022\n",
            "f_p-valor: 0.04659801474386854\n"
          ]
        }
      ]
    },
    {
      "cell_type": "markdown",
      "source": [
        "### **Outliers nos Resíduos**"
      ],
      "metadata": {
        "id": "mGYOliji2Kbh"
      }
    },
    {
      "cell_type": "markdown",
      "source": [
        "( Entre -3 e 3 )"
      ],
      "metadata": {
        "id": "xITZQb1k2WJJ"
      }
    },
    {
      "cell_type": "code",
      "source": [
        "outliers = modelo1.outlier_test()\n",
        "print(outliers.max())\n",
        "print(outliers.min())"
      ],
      "metadata": {
        "colab": {
          "base_uri": "https://localhost:8080/"
        },
        "id": "Yc6Mur7t1psf",
        "outputId": "546b6997-27d6-42ec-8d0c-ea8daea37b6d"
      },
      "execution_count": 71,
      "outputs": [
        {
          "output_type": "stream",
          "name": "stdout",
          "text": [
            "student_resid    2.466219\n",
            "unadj_p          0.957876\n",
            "bonf(p)          1.000000\n",
            "dtype: float64\n",
            "student_resid   -3.260297\n",
            "unadj_p          0.001434\n",
            "bonf(p)          0.186452\n",
            "dtype: float64\n"
          ]
        }
      ]
    },
    {
      "cell_type": "markdown",
      "source": [
        "### **Independência dos Resíduos (Durbin-Watson)**"
      ],
      "metadata": {
        "id": "2a07gkCE2p--"
      }
    },
    {
      "cell_type": "markdown",
      "source": [
        "Ideal **para medidas repetidas** (longitudinais: Ex: mesmo aluno )"
      ],
      "metadata": {
        "id": "Yr8XoqLO24A0"
      }
    },
    {
      "cell_type": "markdown",
      "source": [
        "A estatística de teste é aproximadamente igual a 2 * (1 - r) onde r é a automcorrelação da amostra dos resíduos. Assim, para r = 0, a estatística de teste é igual a 2, indicando independência dos resíduos (o resultado vai de 0 a 4)"
      ],
      "metadata": {
        "id": "6okbZWzz3OqR"
      }
    },
    {
      "cell_type": "code",
      "source": [
        "import statsmodels\n",
        "from statsmodels.tools.sm_exceptions import ValueWarning"
      ],
      "metadata": {
        "id": "P4_5k7C52dQl"
      },
      "execution_count": 72,
      "outputs": []
    },
    {
      "cell_type": "code",
      "source": [
        "estatistica = statsmodels.stats.stattools.durbin_watson(modelo1.resid)\n",
        "print('Estatística do teste: {}'.format(estatistica))"
      ],
      "metadata": {
        "colab": {
          "base_uri": "https://localhost:8080/"
        },
        "id": "mdHcvdVj3vmv",
        "outputId": "ccede57f-f9f7-4376-e4df-32d14fb4cccd"
      },
      "execution_count": 73,
      "outputs": [
        {
          "output_type": "stream",
          "name": "stdout",
          "text": [
            "Estatística do teste: 2.0810835654651636\n"
          ]
        }
      ]
    },
    {
      "cell_type": "markdown",
      "source": [
        "### **Ausência de Multicolinearidade**"
      ],
      "metadata": {
        "id": "vtSOCaXp4TD7"
      }
    },
    {
      "cell_type": "markdown",
      "source": [
        "Somente entre variáveis independentes\n",
        "\n",
        "Considera multicolinearidade quando r > 0.9"
      ],
      "metadata": {
        "id": "b0Yh0g1x4YZm"
      }
    },
    {
      "cell_type": "code",
      "source": [
        "variaveis = colegioX[['COMP2', 'COMP4', 'COMP5']]\n",
        "variaveis.head()"
      ],
      "metadata": {
        "colab": {
          "base_uri": "https://localhost:8080/",
          "height": 206
        },
        "id": "wgnC2Slb4AaX",
        "outputId": "65f3fd71-2c4e-4109-ee03-3e1a6456ea4b"
      },
      "execution_count": 74,
      "outputs": [
        {
          "output_type": "execute_result",
          "data": {
            "text/plain": [
              "       COMP2  COMP4  COMP5\n",
              "17     140.0  160.0  160.0\n",
              "10760  200.0  200.0  140.0\n",
              "13315  140.0  200.0  120.0\n",
              "20006  180.0  180.0  140.0\n",
              "26697  200.0  200.0  200.0"
            ],
            "text/html": [
              "\n",
              "  <div id=\"df-3c137d66-1c72-4172-93c8-e851b77fd659\" class=\"colab-df-container\">\n",
              "    <div>\n",
              "<style scoped>\n",
              "    .dataframe tbody tr th:only-of-type {\n",
              "        vertical-align: middle;\n",
              "    }\n",
              "\n",
              "    .dataframe tbody tr th {\n",
              "        vertical-align: top;\n",
              "    }\n",
              "\n",
              "    .dataframe thead th {\n",
              "        text-align: right;\n",
              "    }\n",
              "</style>\n",
              "<table border=\"1\" class=\"dataframe\">\n",
              "  <thead>\n",
              "    <tr style=\"text-align: right;\">\n",
              "      <th></th>\n",
              "      <th>COMP2</th>\n",
              "      <th>COMP4</th>\n",
              "      <th>COMP5</th>\n",
              "    </tr>\n",
              "  </thead>\n",
              "  <tbody>\n",
              "    <tr>\n",
              "      <th>17</th>\n",
              "      <td>140.0</td>\n",
              "      <td>160.0</td>\n",
              "      <td>160.0</td>\n",
              "    </tr>\n",
              "    <tr>\n",
              "      <th>10760</th>\n",
              "      <td>200.0</td>\n",
              "      <td>200.0</td>\n",
              "      <td>140.0</td>\n",
              "    </tr>\n",
              "    <tr>\n",
              "      <th>13315</th>\n",
              "      <td>140.0</td>\n",
              "      <td>200.0</td>\n",
              "      <td>120.0</td>\n",
              "    </tr>\n",
              "    <tr>\n",
              "      <th>20006</th>\n",
              "      <td>180.0</td>\n",
              "      <td>180.0</td>\n",
              "      <td>140.0</td>\n",
              "    </tr>\n",
              "    <tr>\n",
              "      <th>26697</th>\n",
              "      <td>200.0</td>\n",
              "      <td>200.0</td>\n",
              "      <td>200.0</td>\n",
              "    </tr>\n",
              "  </tbody>\n",
              "</table>\n",
              "</div>\n",
              "    <div class=\"colab-df-buttons\">\n",
              "\n",
              "  <div class=\"colab-df-container\">\n",
              "    <button class=\"colab-df-convert\" onclick=\"convertToInteractive('df-3c137d66-1c72-4172-93c8-e851b77fd659')\"\n",
              "            title=\"Convert this dataframe to an interactive table.\"\n",
              "            style=\"display:none;\">\n",
              "\n",
              "  <svg xmlns=\"http://www.w3.org/2000/svg\" height=\"24px\" viewBox=\"0 -960 960 960\">\n",
              "    <path d=\"M120-120v-720h720v720H120Zm60-500h600v-160H180v160Zm220 220h160v-160H400v160Zm0 220h160v-160H400v160ZM180-400h160v-160H180v160Zm440 0h160v-160H620v160ZM180-180h160v-160H180v160Zm440 0h160v-160H620v160Z\"/>\n",
              "  </svg>\n",
              "    </button>\n",
              "\n",
              "  <style>\n",
              "    .colab-df-container {\n",
              "      display:flex;\n",
              "      gap: 12px;\n",
              "    }\n",
              "\n",
              "    .colab-df-convert {\n",
              "      background-color: #E8F0FE;\n",
              "      border: none;\n",
              "      border-radius: 50%;\n",
              "      cursor: pointer;\n",
              "      display: none;\n",
              "      fill: #1967D2;\n",
              "      height: 32px;\n",
              "      padding: 0 0 0 0;\n",
              "      width: 32px;\n",
              "    }\n",
              "\n",
              "    .colab-df-convert:hover {\n",
              "      background-color: #E2EBFA;\n",
              "      box-shadow: 0px 1px 2px rgba(60, 64, 67, 0.3), 0px 1px 3px 1px rgba(60, 64, 67, 0.15);\n",
              "      fill: #174EA6;\n",
              "    }\n",
              "\n",
              "    .colab-df-buttons div {\n",
              "      margin-bottom: 4px;\n",
              "    }\n",
              "\n",
              "    [theme=dark] .colab-df-convert {\n",
              "      background-color: #3B4455;\n",
              "      fill: #D2E3FC;\n",
              "    }\n",
              "\n",
              "    [theme=dark] .colab-df-convert:hover {\n",
              "      background-color: #434B5C;\n",
              "      box-shadow: 0px 1px 3px 1px rgba(0, 0, 0, 0.15);\n",
              "      filter: drop-shadow(0px 1px 2px rgba(0, 0, 0, 0.3));\n",
              "      fill: #FFFFFF;\n",
              "    }\n",
              "  </style>\n",
              "\n",
              "    <script>\n",
              "      const buttonEl =\n",
              "        document.querySelector('#df-3c137d66-1c72-4172-93c8-e851b77fd659 button.colab-df-convert');\n",
              "      buttonEl.style.display =\n",
              "        google.colab.kernel.accessAllowed ? 'block' : 'none';\n",
              "\n",
              "      async function convertToInteractive(key) {\n",
              "        const element = document.querySelector('#df-3c137d66-1c72-4172-93c8-e851b77fd659');\n",
              "        const dataTable =\n",
              "          await google.colab.kernel.invokeFunction('convertToInteractive',\n",
              "                                                    [key], {});\n",
              "        if (!dataTable) return;\n",
              "\n",
              "        const docLinkHtml = 'Like what you see? Visit the ' +\n",
              "          '<a target=\"_blank\" href=https://colab.research.google.com/notebooks/data_table.ipynb>data table notebook</a>'\n",
              "          + ' to learn more about interactive tables.';\n",
              "        element.innerHTML = '';\n",
              "        dataTable['output_type'] = 'display_data';\n",
              "        await google.colab.output.renderOutput(dataTable, element);\n",
              "        const docLink = document.createElement('div');\n",
              "        docLink.innerHTML = docLinkHtml;\n",
              "        element.appendChild(docLink);\n",
              "      }\n",
              "    </script>\n",
              "  </div>\n",
              "\n",
              "\n",
              "<div id=\"df-5f48acd9-758b-48b2-9bb3-ed52c76ac835\">\n",
              "  <button class=\"colab-df-quickchart\" onclick=\"quickchart('df-5f48acd9-758b-48b2-9bb3-ed52c76ac835')\"\n",
              "            title=\"Suggest charts\"\n",
              "            style=\"display:none;\">\n",
              "\n",
              "<svg xmlns=\"http://www.w3.org/2000/svg\" height=\"24px\"viewBox=\"0 0 24 24\"\n",
              "     width=\"24px\">\n",
              "    <g>\n",
              "        <path d=\"M19 3H5c-1.1 0-2 .9-2 2v14c0 1.1.9 2 2 2h14c1.1 0 2-.9 2-2V5c0-1.1-.9-2-2-2zM9 17H7v-7h2v7zm4 0h-2V7h2v10zm4 0h-2v-4h2v4z\"/>\n",
              "    </g>\n",
              "</svg>\n",
              "  </button>\n",
              "\n",
              "<style>\n",
              "  .colab-df-quickchart {\n",
              "      --bg-color: #E8F0FE;\n",
              "      --fill-color: #1967D2;\n",
              "      --hover-bg-color: #E2EBFA;\n",
              "      --hover-fill-color: #174EA6;\n",
              "      --disabled-fill-color: #AAA;\n",
              "      --disabled-bg-color: #DDD;\n",
              "  }\n",
              "\n",
              "  [theme=dark] .colab-df-quickchart {\n",
              "      --bg-color: #3B4455;\n",
              "      --fill-color: #D2E3FC;\n",
              "      --hover-bg-color: #434B5C;\n",
              "      --hover-fill-color: #FFFFFF;\n",
              "      --disabled-bg-color: #3B4455;\n",
              "      --disabled-fill-color: #666;\n",
              "  }\n",
              "\n",
              "  .colab-df-quickchart {\n",
              "    background-color: var(--bg-color);\n",
              "    border: none;\n",
              "    border-radius: 50%;\n",
              "    cursor: pointer;\n",
              "    display: none;\n",
              "    fill: var(--fill-color);\n",
              "    height: 32px;\n",
              "    padding: 0;\n",
              "    width: 32px;\n",
              "  }\n",
              "\n",
              "  .colab-df-quickchart:hover {\n",
              "    background-color: var(--hover-bg-color);\n",
              "    box-shadow: 0 1px 2px rgba(60, 64, 67, 0.3), 0 1px 3px 1px rgba(60, 64, 67, 0.15);\n",
              "    fill: var(--button-hover-fill-color);\n",
              "  }\n",
              "\n",
              "  .colab-df-quickchart-complete:disabled,\n",
              "  .colab-df-quickchart-complete:disabled:hover {\n",
              "    background-color: var(--disabled-bg-color);\n",
              "    fill: var(--disabled-fill-color);\n",
              "    box-shadow: none;\n",
              "  }\n",
              "\n",
              "  .colab-df-spinner {\n",
              "    border: 2px solid var(--fill-color);\n",
              "    border-color: transparent;\n",
              "    border-bottom-color: var(--fill-color);\n",
              "    animation:\n",
              "      spin 1s steps(1) infinite;\n",
              "  }\n",
              "\n",
              "  @keyframes spin {\n",
              "    0% {\n",
              "      border-color: transparent;\n",
              "      border-bottom-color: var(--fill-color);\n",
              "      border-left-color: var(--fill-color);\n",
              "    }\n",
              "    20% {\n",
              "      border-color: transparent;\n",
              "      border-left-color: var(--fill-color);\n",
              "      border-top-color: var(--fill-color);\n",
              "    }\n",
              "    30% {\n",
              "      border-color: transparent;\n",
              "      border-left-color: var(--fill-color);\n",
              "      border-top-color: var(--fill-color);\n",
              "      border-right-color: var(--fill-color);\n",
              "    }\n",
              "    40% {\n",
              "      border-color: transparent;\n",
              "      border-right-color: var(--fill-color);\n",
              "      border-top-color: var(--fill-color);\n",
              "    }\n",
              "    60% {\n",
              "      border-color: transparent;\n",
              "      border-right-color: var(--fill-color);\n",
              "    }\n",
              "    80% {\n",
              "      border-color: transparent;\n",
              "      border-right-color: var(--fill-color);\n",
              "      border-bottom-color: var(--fill-color);\n",
              "    }\n",
              "    90% {\n",
              "      border-color: transparent;\n",
              "      border-bottom-color: var(--fill-color);\n",
              "    }\n",
              "  }\n",
              "</style>\n",
              "\n",
              "  <script>\n",
              "    async function quickchart(key) {\n",
              "      const quickchartButtonEl =\n",
              "        document.querySelector('#' + key + ' button');\n",
              "      quickchartButtonEl.disabled = true;  // To prevent multiple clicks.\n",
              "      quickchartButtonEl.classList.add('colab-df-spinner');\n",
              "      try {\n",
              "        const charts = await google.colab.kernel.invokeFunction(\n",
              "            'suggestCharts', [key], {});\n",
              "      } catch (error) {\n",
              "        console.error('Error during call to suggestCharts:', error);\n",
              "      }\n",
              "      quickchartButtonEl.classList.remove('colab-df-spinner');\n",
              "      quickchartButtonEl.classList.add('colab-df-quickchart-complete');\n",
              "    }\n",
              "    (() => {\n",
              "      let quickchartButtonEl =\n",
              "        document.querySelector('#df-5f48acd9-758b-48b2-9bb3-ed52c76ac835 button');\n",
              "      quickchartButtonEl.style.display =\n",
              "        google.colab.kernel.accessAllowed ? 'block' : 'none';\n",
              "    })();\n",
              "  </script>\n",
              "</div>\n",
              "\n",
              "    </div>\n",
              "  </div>\n"
            ],
            "application/vnd.google.colaboratory.intrinsic+json": {
              "type": "dataframe",
              "variable_name": "variaveis",
              "summary": "{\n  \"name\": \"variaveis\",\n  \"rows\": 130,\n  \"fields\": [\n    {\n      \"column\": \"COMP2\",\n      \"properties\": {\n        \"dtype\": \"number\",\n        \"std\": 31.928662284120655,\n        \"min\": 80.0,\n        \"max\": 200.0,\n        \"samples\": [\n          140.0,\n          200.0,\n          80.0\n        ],\n        \"num_unique_values\": 6,\n        \"semantic_type\": \"\",\n        \"description\": \"\"\n      }\n    },\n    {\n      \"column\": \"COMP4\",\n      \"properties\": {\n        \"dtype\": \"number\",\n        \"std\": 25.000417408560722,\n        \"min\": 120.0,\n        \"max\": 200.0,\n        \"samples\": [\n          200.0,\n          120.0,\n          180.0\n        ],\n        \"num_unique_values\": 5,\n        \"semantic_type\": \"\",\n        \"description\": \"\"\n      }\n    },\n    {\n      \"column\": \"COMP5\",\n      \"properties\": {\n        \"dtype\": \"number\",\n        \"std\": 25.98334405263156,\n        \"min\": 100.0,\n        \"max\": 200.0,\n        \"samples\": [\n          160.0,\n          140.0,\n          100.0\n        ],\n        \"num_unique_values\": 6,\n        \"semantic_type\": \"\",\n        \"description\": \"\"\n      }\n    }\n  ]\n}"
            }
          },
          "metadata": {},
          "execution_count": 74
        }
      ]
    },
    {
      "cell_type": "code",
      "source": [
        "correlacoes = variaveis.corr(method='pearson')\n",
        "correlacoes"
      ],
      "metadata": {
        "colab": {
          "base_uri": "https://localhost:8080/",
          "height": 143
        },
        "id": "xig0IZvU4nD7",
        "outputId": "efe7823a-66a0-45ed-dc89-6a451da0943d"
      },
      "execution_count": 75,
      "outputs": [
        {
          "output_type": "execute_result",
          "data": {
            "text/plain": [
              "          COMP2     COMP4     COMP5\n",
              "COMP2  1.000000  0.375906  0.298434\n",
              "COMP4  0.375906  1.000000  0.428872\n",
              "COMP5  0.298434  0.428872  1.000000"
            ],
            "text/html": [
              "\n",
              "  <div id=\"df-dd3201e8-73bc-4f1c-b061-0abf8d3beb64\" class=\"colab-df-container\">\n",
              "    <div>\n",
              "<style scoped>\n",
              "    .dataframe tbody tr th:only-of-type {\n",
              "        vertical-align: middle;\n",
              "    }\n",
              "\n",
              "    .dataframe tbody tr th {\n",
              "        vertical-align: top;\n",
              "    }\n",
              "\n",
              "    .dataframe thead th {\n",
              "        text-align: right;\n",
              "    }\n",
              "</style>\n",
              "<table border=\"1\" class=\"dataframe\">\n",
              "  <thead>\n",
              "    <tr style=\"text-align: right;\">\n",
              "      <th></th>\n",
              "      <th>COMP2</th>\n",
              "      <th>COMP4</th>\n",
              "      <th>COMP5</th>\n",
              "    </tr>\n",
              "  </thead>\n",
              "  <tbody>\n",
              "    <tr>\n",
              "      <th>COMP2</th>\n",
              "      <td>1.000000</td>\n",
              "      <td>0.375906</td>\n",
              "      <td>0.298434</td>\n",
              "    </tr>\n",
              "    <tr>\n",
              "      <th>COMP4</th>\n",
              "      <td>0.375906</td>\n",
              "      <td>1.000000</td>\n",
              "      <td>0.428872</td>\n",
              "    </tr>\n",
              "    <tr>\n",
              "      <th>COMP5</th>\n",
              "      <td>0.298434</td>\n",
              "      <td>0.428872</td>\n",
              "      <td>1.000000</td>\n",
              "    </tr>\n",
              "  </tbody>\n",
              "</table>\n",
              "</div>\n",
              "    <div class=\"colab-df-buttons\">\n",
              "\n",
              "  <div class=\"colab-df-container\">\n",
              "    <button class=\"colab-df-convert\" onclick=\"convertToInteractive('df-dd3201e8-73bc-4f1c-b061-0abf8d3beb64')\"\n",
              "            title=\"Convert this dataframe to an interactive table.\"\n",
              "            style=\"display:none;\">\n",
              "\n",
              "  <svg xmlns=\"http://www.w3.org/2000/svg\" height=\"24px\" viewBox=\"0 -960 960 960\">\n",
              "    <path d=\"M120-120v-720h720v720H120Zm60-500h600v-160H180v160Zm220 220h160v-160H400v160Zm0 220h160v-160H400v160ZM180-400h160v-160H180v160Zm440 0h160v-160H620v160ZM180-180h160v-160H180v160Zm440 0h160v-160H620v160Z\"/>\n",
              "  </svg>\n",
              "    </button>\n",
              "\n",
              "  <style>\n",
              "    .colab-df-container {\n",
              "      display:flex;\n",
              "      gap: 12px;\n",
              "    }\n",
              "\n",
              "    .colab-df-convert {\n",
              "      background-color: #E8F0FE;\n",
              "      border: none;\n",
              "      border-radius: 50%;\n",
              "      cursor: pointer;\n",
              "      display: none;\n",
              "      fill: #1967D2;\n",
              "      height: 32px;\n",
              "      padding: 0 0 0 0;\n",
              "      width: 32px;\n",
              "    }\n",
              "\n",
              "    .colab-df-convert:hover {\n",
              "      background-color: #E2EBFA;\n",
              "      box-shadow: 0px 1px 2px rgba(60, 64, 67, 0.3), 0px 1px 3px 1px rgba(60, 64, 67, 0.15);\n",
              "      fill: #174EA6;\n",
              "    }\n",
              "\n",
              "    .colab-df-buttons div {\n",
              "      margin-bottom: 4px;\n",
              "    }\n",
              "\n",
              "    [theme=dark] .colab-df-convert {\n",
              "      background-color: #3B4455;\n",
              "      fill: #D2E3FC;\n",
              "    }\n",
              "\n",
              "    [theme=dark] .colab-df-convert:hover {\n",
              "      background-color: #434B5C;\n",
              "      box-shadow: 0px 1px 3px 1px rgba(0, 0, 0, 0.15);\n",
              "      filter: drop-shadow(0px 1px 2px rgba(0, 0, 0, 0.3));\n",
              "      fill: #FFFFFF;\n",
              "    }\n",
              "  </style>\n",
              "\n",
              "    <script>\n",
              "      const buttonEl =\n",
              "        document.querySelector('#df-dd3201e8-73bc-4f1c-b061-0abf8d3beb64 button.colab-df-convert');\n",
              "      buttonEl.style.display =\n",
              "        google.colab.kernel.accessAllowed ? 'block' : 'none';\n",
              "\n",
              "      async function convertToInteractive(key) {\n",
              "        const element = document.querySelector('#df-dd3201e8-73bc-4f1c-b061-0abf8d3beb64');\n",
              "        const dataTable =\n",
              "          await google.colab.kernel.invokeFunction('convertToInteractive',\n",
              "                                                    [key], {});\n",
              "        if (!dataTable) return;\n",
              "\n",
              "        const docLinkHtml = 'Like what you see? Visit the ' +\n",
              "          '<a target=\"_blank\" href=https://colab.research.google.com/notebooks/data_table.ipynb>data table notebook</a>'\n",
              "          + ' to learn more about interactive tables.';\n",
              "        element.innerHTML = '';\n",
              "        dataTable['output_type'] = 'display_data';\n",
              "        await google.colab.output.renderOutput(dataTable, element);\n",
              "        const docLink = document.createElement('div');\n",
              "        docLink.innerHTML = docLinkHtml;\n",
              "        element.appendChild(docLink);\n",
              "      }\n",
              "    </script>\n",
              "  </div>\n",
              "\n",
              "\n",
              "<div id=\"df-7b655dd7-a90b-480c-8a34-b453eab0a851\">\n",
              "  <button class=\"colab-df-quickchart\" onclick=\"quickchart('df-7b655dd7-a90b-480c-8a34-b453eab0a851')\"\n",
              "            title=\"Suggest charts\"\n",
              "            style=\"display:none;\">\n",
              "\n",
              "<svg xmlns=\"http://www.w3.org/2000/svg\" height=\"24px\"viewBox=\"0 0 24 24\"\n",
              "     width=\"24px\">\n",
              "    <g>\n",
              "        <path d=\"M19 3H5c-1.1 0-2 .9-2 2v14c0 1.1.9 2 2 2h14c1.1 0 2-.9 2-2V5c0-1.1-.9-2-2-2zM9 17H7v-7h2v7zm4 0h-2V7h2v10zm4 0h-2v-4h2v4z\"/>\n",
              "    </g>\n",
              "</svg>\n",
              "  </button>\n",
              "\n",
              "<style>\n",
              "  .colab-df-quickchart {\n",
              "      --bg-color: #E8F0FE;\n",
              "      --fill-color: #1967D2;\n",
              "      --hover-bg-color: #E2EBFA;\n",
              "      --hover-fill-color: #174EA6;\n",
              "      --disabled-fill-color: #AAA;\n",
              "      --disabled-bg-color: #DDD;\n",
              "  }\n",
              "\n",
              "  [theme=dark] .colab-df-quickchart {\n",
              "      --bg-color: #3B4455;\n",
              "      --fill-color: #D2E3FC;\n",
              "      --hover-bg-color: #434B5C;\n",
              "      --hover-fill-color: #FFFFFF;\n",
              "      --disabled-bg-color: #3B4455;\n",
              "      --disabled-fill-color: #666;\n",
              "  }\n",
              "\n",
              "  .colab-df-quickchart {\n",
              "    background-color: var(--bg-color);\n",
              "    border: none;\n",
              "    border-radius: 50%;\n",
              "    cursor: pointer;\n",
              "    display: none;\n",
              "    fill: var(--fill-color);\n",
              "    height: 32px;\n",
              "    padding: 0;\n",
              "    width: 32px;\n",
              "  }\n",
              "\n",
              "  .colab-df-quickchart:hover {\n",
              "    background-color: var(--hover-bg-color);\n",
              "    box-shadow: 0 1px 2px rgba(60, 64, 67, 0.3), 0 1px 3px 1px rgba(60, 64, 67, 0.15);\n",
              "    fill: var(--button-hover-fill-color);\n",
              "  }\n",
              "\n",
              "  .colab-df-quickchart-complete:disabled,\n",
              "  .colab-df-quickchart-complete:disabled:hover {\n",
              "    background-color: var(--disabled-bg-color);\n",
              "    fill: var(--disabled-fill-color);\n",
              "    box-shadow: none;\n",
              "  }\n",
              "\n",
              "  .colab-df-spinner {\n",
              "    border: 2px solid var(--fill-color);\n",
              "    border-color: transparent;\n",
              "    border-bottom-color: var(--fill-color);\n",
              "    animation:\n",
              "      spin 1s steps(1) infinite;\n",
              "  }\n",
              "\n",
              "  @keyframes spin {\n",
              "    0% {\n",
              "      border-color: transparent;\n",
              "      border-bottom-color: var(--fill-color);\n",
              "      border-left-color: var(--fill-color);\n",
              "    }\n",
              "    20% {\n",
              "      border-color: transparent;\n",
              "      border-left-color: var(--fill-color);\n",
              "      border-top-color: var(--fill-color);\n",
              "    }\n",
              "    30% {\n",
              "      border-color: transparent;\n",
              "      border-left-color: var(--fill-color);\n",
              "      border-top-color: var(--fill-color);\n",
              "      border-right-color: var(--fill-color);\n",
              "    }\n",
              "    40% {\n",
              "      border-color: transparent;\n",
              "      border-right-color: var(--fill-color);\n",
              "      border-top-color: var(--fill-color);\n",
              "    }\n",
              "    60% {\n",
              "      border-color: transparent;\n",
              "      border-right-color: var(--fill-color);\n",
              "    }\n",
              "    80% {\n",
              "      border-color: transparent;\n",
              "      border-right-color: var(--fill-color);\n",
              "      border-bottom-color: var(--fill-color);\n",
              "    }\n",
              "    90% {\n",
              "      border-color: transparent;\n",
              "      border-bottom-color: var(--fill-color);\n",
              "    }\n",
              "  }\n",
              "</style>\n",
              "\n",
              "  <script>\n",
              "    async function quickchart(key) {\n",
              "      const quickchartButtonEl =\n",
              "        document.querySelector('#' + key + ' button');\n",
              "      quickchartButtonEl.disabled = true;  // To prevent multiple clicks.\n",
              "      quickchartButtonEl.classList.add('colab-df-spinner');\n",
              "      try {\n",
              "        const charts = await google.colab.kernel.invokeFunction(\n",
              "            'suggestCharts', [key], {});\n",
              "      } catch (error) {\n",
              "        console.error('Error during call to suggestCharts:', error);\n",
              "      }\n",
              "      quickchartButtonEl.classList.remove('colab-df-spinner');\n",
              "      quickchartButtonEl.classList.add('colab-df-quickchart-complete');\n",
              "    }\n",
              "    (() => {\n",
              "      let quickchartButtonEl =\n",
              "        document.querySelector('#df-7b655dd7-a90b-480c-8a34-b453eab0a851 button');\n",
              "      quickchartButtonEl.style.display =\n",
              "        google.colab.kernel.accessAllowed ? 'block' : 'none';\n",
              "    })();\n",
              "  </script>\n",
              "</div>\n",
              "\n",
              "  <div id=\"id_5ae5f2e8-bec0-4a0a-a763-e7879baf50d7\">\n",
              "    <style>\n",
              "      .colab-df-generate {\n",
              "        background-color: #E8F0FE;\n",
              "        border: none;\n",
              "        border-radius: 50%;\n",
              "        cursor: pointer;\n",
              "        display: none;\n",
              "        fill: #1967D2;\n",
              "        height: 32px;\n",
              "        padding: 0 0 0 0;\n",
              "        width: 32px;\n",
              "      }\n",
              "\n",
              "      .colab-df-generate:hover {\n",
              "        background-color: #E2EBFA;\n",
              "        box-shadow: 0px 1px 2px rgba(60, 64, 67, 0.3), 0px 1px 3px 1px rgba(60, 64, 67, 0.15);\n",
              "        fill: #174EA6;\n",
              "      }\n",
              "\n",
              "      [theme=dark] .colab-df-generate {\n",
              "        background-color: #3B4455;\n",
              "        fill: #D2E3FC;\n",
              "      }\n",
              "\n",
              "      [theme=dark] .colab-df-generate:hover {\n",
              "        background-color: #434B5C;\n",
              "        box-shadow: 0px 1px 3px 1px rgba(0, 0, 0, 0.15);\n",
              "        filter: drop-shadow(0px 1px 2px rgba(0, 0, 0, 0.3));\n",
              "        fill: #FFFFFF;\n",
              "      }\n",
              "    </style>\n",
              "    <button class=\"colab-df-generate\" onclick=\"generateWithVariable('correlacoes')\"\n",
              "            title=\"Generate code using this dataframe.\"\n",
              "            style=\"display:none;\">\n",
              "\n",
              "  <svg xmlns=\"http://www.w3.org/2000/svg\" height=\"24px\"viewBox=\"0 0 24 24\"\n",
              "       width=\"24px\">\n",
              "    <path d=\"M7,19H8.4L18.45,9,17,7.55,7,17.6ZM5,21V16.75L18.45,3.32a2,2,0,0,1,2.83,0l1.4,1.43a1.91,1.91,0,0,1,.58,1.4,1.91,1.91,0,0,1-.58,1.4L9.25,21ZM18.45,9,17,7.55Zm-12,3A5.31,5.31,0,0,0,4.9,8.1,5.31,5.31,0,0,0,1,6.5,5.31,5.31,0,0,0,4.9,4.9,5.31,5.31,0,0,0,6.5,1,5.31,5.31,0,0,0,8.1,4.9,5.31,5.31,0,0,0,12,6.5,5.46,5.46,0,0,0,6.5,12Z\"/>\n",
              "  </svg>\n",
              "    </button>\n",
              "    <script>\n",
              "      (() => {\n",
              "      const buttonEl =\n",
              "        document.querySelector('#id_5ae5f2e8-bec0-4a0a-a763-e7879baf50d7 button.colab-df-generate');\n",
              "      buttonEl.style.display =\n",
              "        google.colab.kernel.accessAllowed ? 'block' : 'none';\n",
              "\n",
              "      buttonEl.onclick = () => {\n",
              "        google.colab.notebook.generateWithVariable('correlacoes');\n",
              "      }\n",
              "      })();\n",
              "    </script>\n",
              "  </div>\n",
              "\n",
              "    </div>\n",
              "  </div>\n"
            ],
            "application/vnd.google.colaboratory.intrinsic+json": {
              "type": "dataframe",
              "variable_name": "correlacoes",
              "summary": "{\n  \"name\": \"correlacoes\",\n  \"rows\": 3,\n  \"fields\": [\n    {\n      \"column\": \"COMP2\",\n      \"properties\": {\n        \"dtype\": \"number\",\n        \"std\": 0.38464042566422285,\n        \"min\": 0.29843414777634036,\n        \"max\": 1.0,\n        \"samples\": [\n          1.0,\n          0.37590628483890626,\n          0.29843414777634036\n        ],\n        \"num_unique_values\": 3,\n        \"semantic_type\": \"\",\n        \"description\": \"\"\n      }\n    },\n    {\n      \"column\": \"COMP4\",\n      \"properties\": {\n        \"dtype\": \"number\",\n        \"std\": 0.3460456991251702,\n        \"min\": 0.37590628483890626,\n        \"max\": 1.0,\n        \"samples\": [\n          0.37590628483890626,\n          1.0,\n          0.42887177745585503\n        ],\n        \"num_unique_values\": 3,\n        \"semantic_type\": \"\",\n        \"description\": \"\"\n      }\n    },\n    {\n      \"column\": \"COMP5\",\n      \"properties\": {\n        \"dtype\": \"number\",\n        \"std\": 0.37313895240896394,\n        \"min\": 0.29843414777634036,\n        \"max\": 1.0,\n        \"samples\": [\n          0.29843414777634036,\n          0.42887177745585503,\n          1.0\n        ],\n        \"num_unique_values\": 3,\n        \"semantic_type\": \"\",\n        \"description\": \"\"\n      }\n    }\n  ]\n}"
            }
          },
          "metadata": {},
          "execution_count": 75
        }
      ]
    },
    {
      "cell_type": "markdown",
      "source": [
        "Usando Fator de Inflação de Variância (VIF) < 5; ausência de multicolinearidade\n",
        "\n",
        "![image.png](data:image/png;base64,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)"
      ],
      "metadata": {
        "id": "tbLn6pdd5ESw"
      }
    },
    {
      "cell_type": "code",
      "source": [
        "from statsmodels.stats.outliers_influence import variance_inflation_factor\n",
        "from statsmodels.tools.tools import add_constant"
      ],
      "metadata": {
        "id": "MWg7cVLF4vyv"
      },
      "execution_count": 76,
      "outputs": []
    },
    {
      "cell_type": "code",
      "source": [
        "# função espera a presença de uma constante na matriz de variáveis explicativas\n",
        "vif = add_constant(variaveis)\n",
        "\n",
        "pd.Series([variance_inflation_factor(vif.values, j) for j in range(vif.shape[1])], index=vif.columns)"
      ],
      "metadata": {
        "colab": {
          "base_uri": "https://localhost:8080/"
        },
        "id": "MR9Ysd7c5bjW",
        "outputId": "749b3b0a-cef7-4c76-ec66-c386da3d270c"
      },
      "execution_count": 77,
      "outputs": [
        {
          "output_type": "execute_result",
          "data": {
            "text/plain": [
              "const    72.466982\n",
              "COMP2     1.196714\n",
              "COMP4     1.335832\n",
              "COMP5     1.259221\n",
              "dtype: float64"
            ]
          },
          "metadata": {},
          "execution_count": 77
        }
      ]
    },
    {
      "cell_type": "markdown",
      "source": [
        "## **Análise do Modelo**"
      ],
      "metadata": {
        "id": "UCf0EgCX60XZ"
      }
    },
    {
      "cell_type": "markdown",
      "source": [
        "Intercept\n",
        "\n",
        "p-valor para cada coeficiente < 0.05 (estatisticamente significativos)\n",
        "\n",
        "Adjusted R-squared (explicação do modelo através dos dados)\n",
        "\n",
        "p-valor da estatística F < 0.05 (valida o modelo de regressão)"
      ],
      "metadata": {
        "id": "2tDpCAUg656_"
      }
    },
    {
      "cell_type": "code",
      "source": [
        "print(modelo1.summary())"
      ],
      "metadata": {
        "colab": {
          "base_uri": "https://localhost:8080/"
        },
        "id": "UHxV0X0K6FLb",
        "outputId": "edde2baa-a6cc-4194-bf00-87eafb06b596"
      },
      "execution_count": 78,
      "outputs": [
        {
          "output_type": "stream",
          "name": "stdout",
          "text": [
            "                            OLS Regression Results                            \n",
            "==============================================================================\n",
            "Dep. Variable:           NOTA_REDACAO   R-squared:                       0.924\n",
            "Model:                            OLS   Adj. R-squared:                  0.922\n",
            "Method:                 Least Squares   F-statistic:                     507.2\n",
            "Date:                Mon, 19 Feb 2024   Prob (F-statistic):           3.97e-70\n",
            "Time:                        11:45:08   Log-Likelihood:                -604.30\n",
            "No. Observations:                 130   AIC:                             1217.\n",
            "Df Residuals:                     126   BIC:                             1228.\n",
            "Df Model:                           3                                         \n",
            "Covariance Type:            nonrobust                                         \n",
            "==============================================================================\n",
            "                 coef    std err          t      P>|t|      [0.025      0.975]\n",
            "------------------------------------------------------------------------------\n",
            "Intercept    116.1987     19.162      6.064      0.000      78.278     154.119\n",
            "COMP2          1.2831      0.077     16.573      0.000       1.130       1.436\n",
            "COMP4          1.7298      0.104     16.559      0.000       1.523       1.937\n",
            "COMP5          1.1993      0.098     12.290      0.000       1.006       1.392\n",
            "==============================================================================\n",
            "Omnibus:                        5.200   Durbin-Watson:                   2.081\n",
            "Prob(Omnibus):                  0.074   Jarque-Bera (JB):                4.794\n",
            "Skew:                          -0.369   Prob(JB):                       0.0910\n",
            "Kurtosis:                       3.584   Cond. No.                     2.58e+03\n",
            "==============================================================================\n",
            "\n",
            "Notes:\n",
            "[1] Standard Errors assume that the covariance matrix of the errors is correctly specified.\n",
            "[2] The condition number is large, 2.58e+03. This might indicate that there are\n",
            "strong multicollinearity or other numerical problems.\n"
          ]
        }
      ]
    },
    {
      "cell_type": "markdown",
      "source": [
        "**Equação:** Nota Redação = 116.1987 + (COMP2 * 1.2831) + (COMP4 * 1.7298) + (COMP5 * 1.1993)"
      ],
      "metadata": {
        "id": "h847FXGr7UyH"
      }
    },
    {
      "cell_type": "code",
      "source": [
        "# Criando uma coluna com previsão\n",
        "colegioX['previsao'] = modelo1.fittedvalues;"
      ],
      "metadata": {
        "colab": {
          "base_uri": "https://localhost:8080/"
        },
        "id": "zoqMeRKL7RMw",
        "outputId": "1fe833eb-990f-4e18-908c-d05b3b1a0280"
      },
      "execution_count": 79,
      "outputs": [
        {
          "output_type": "stream",
          "name": "stderr",
          "text": [
            "<ipython-input-79-ce11d61317e1>:2: SettingWithCopyWarning: \n",
            "A value is trying to be set on a copy of a slice from a DataFrame.\n",
            "Try using .loc[row_indexer,col_indexer] = value instead\n",
            "\n",
            "See the caveats in the documentation: https://pandas.pydata.org/pandas-docs/stable/user_guide/indexing.html#returning-a-view-versus-a-copy\n",
            "  colegioX['previsao'] = modelo1.fittedvalues;\n"
          ]
        }
      ]
    },
    {
      "cell_type": "code",
      "source": [
        "colegioX.head(10)"
      ],
      "metadata": {
        "colab": {
          "base_uri": "https://localhost:8080/",
          "height": 383
        },
        "id": "GKRdr6zK8F7s",
        "outputId": "ee353535-43cb-4b50-ff0a-162b45be586a"
      },
      "execution_count": 80,
      "outputs": [
        {
          "output_type": "execute_result",
          "data": {
            "text/plain": [
              "      NU_INSCRICAO NO_MUNICIPIO_RESIDENCIA  IDADE SEXO  ...  COMP5 NOTA_REDACAO  INTERNET    previsao\n",
              "17        1,90E+11               São Paulo     18    F  ...  160.0        760.0       Sim  764.498054\n",
              "10760     1,90E+11               São Paulo     17    M  ...  140.0        920.0       Sim  886.690642\n",
              "13315     1,90E+11               São Paulo     17    F  ...  120.0        780.0       Sim  785.718021\n",
              "20006     1,90E+11               São Paulo     17    F  ...  140.0        800.0       Sim  826.432059\n",
              "26697     1,90E+11               São Paulo     18    F  ...  200.0        960.0       Sim  958.650406\n",
              "26911     1,90E+11               São Paulo     18    F  ...  180.0        780.0       Sim  762.822631\n",
              "43814     1,90E+11               São Paulo     18    M  ...  180.0        800.0       Sim  779.550082\n",
              "43870     1,90E+11               São Paulo     17    F  ...  180.0        860.0       Sim  900.067246\n",
              "44150     1,90E+11               São Paulo     17    F  ...  200.0        960.0       Sim  958.650406\n",
              "48417     1,90E+11               São Paulo     17    M  ...  160.0        680.0       Sim  669.642901\n",
              "\n",
              "[10 rows x 29 columns]"
            ],
            "text/html": [
              "\n",
              "  <div id=\"df-66dc2358-4374-4e9f-937a-6c0230c16dbb\" class=\"colab-df-container\">\n",
              "    <div>\n",
              "<style scoped>\n",
              "    .dataframe tbody tr th:only-of-type {\n",
              "        vertical-align: middle;\n",
              "    }\n",
              "\n",
              "    .dataframe tbody tr th {\n",
              "        vertical-align: top;\n",
              "    }\n",
              "\n",
              "    .dataframe thead th {\n",
              "        text-align: right;\n",
              "    }\n",
              "</style>\n",
              "<table border=\"1\" class=\"dataframe\">\n",
              "  <thead>\n",
              "    <tr style=\"text-align: right;\">\n",
              "      <th></th>\n",
              "      <th>NU_INSCRICAO</th>\n",
              "      <th>NO_MUNICIPIO_RESIDENCIA</th>\n",
              "      <th>IDADE</th>\n",
              "      <th>SEXO</th>\n",
              "      <th>TP_ESTADO_CIVIL</th>\n",
              "      <th>RACA</th>\n",
              "      <th>TP_NACIONALIDADE</th>\n",
              "      <th>TP_ST_CONCLUSAO</th>\n",
              "      <th>ESCOLA</th>\n",
              "      <th>CO_ESCOLA</th>\n",
              "      <th>NO_MUNICIPIO_ESC</th>\n",
              "      <th>TP_PRESENCA_CN</th>\n",
              "      <th>TP_PRESENCA_CH</th>\n",
              "      <th>TP_PRESENCA_LC</th>\n",
              "      <th>TP_PRESENCA_MT</th>\n",
              "      <th>NOTA_CN</th>\n",
              "      <th>NOTA_CH</th>\n",
              "      <th>NOTA_LC</th>\n",
              "      <th>NOTA_MT</th>\n",
              "      <th>TP_LINGUA</th>\n",
              "      <th>TP_STATUS_REDACAO</th>\n",
              "      <th>COMP1</th>\n",
              "      <th>COMP2</th>\n",
              "      <th>COMP3</th>\n",
              "      <th>COMP4</th>\n",
              "      <th>COMP5</th>\n",
              "      <th>NOTA_REDACAO</th>\n",
              "      <th>INTERNET</th>\n",
              "      <th>previsao</th>\n",
              "    </tr>\n",
              "  </thead>\n",
              "  <tbody>\n",
              "    <tr>\n",
              "      <th>17</th>\n",
              "      <td>1,90E+11</td>\n",
              "      <td>São Paulo</td>\n",
              "      <td>18</td>\n",
              "      <td>F</td>\n",
              "      <td>1</td>\n",
              "      <td>branca</td>\n",
              "      <td>1</td>\n",
              "      <td>2</td>\n",
              "      <td>privada</td>\n",
              "      <td>35132287.0</td>\n",
              "      <td>São Paulo</td>\n",
              "      <td>1</td>\n",
              "      <td>1</td>\n",
              "      <td>1</td>\n",
              "      <td>1</td>\n",
              "      <td>585.9</td>\n",
              "      <td>625.6</td>\n",
              "      <td>597.4</td>\n",
              "      <td>49.1</td>\n",
              "      <td>Inglês</td>\n",
              "      <td>1.0</td>\n",
              "      <td>160.0</td>\n",
              "      <td>140.0</td>\n",
              "      <td>140.0</td>\n",
              "      <td>160.0</td>\n",
              "      <td>160.0</td>\n",
              "      <td>760.0</td>\n",
              "      <td>Sim</td>\n",
              "      <td>764.498054</td>\n",
              "    </tr>\n",
              "    <tr>\n",
              "      <th>10760</th>\n",
              "      <td>1,90E+11</td>\n",
              "      <td>São Paulo</td>\n",
              "      <td>17</td>\n",
              "      <td>M</td>\n",
              "      <td>1</td>\n",
              "      <td>parda</td>\n",
              "      <td>1</td>\n",
              "      <td>2</td>\n",
              "      <td>privada</td>\n",
              "      <td>35132287.0</td>\n",
              "      <td>São Paulo</td>\n",
              "      <td>1</td>\n",
              "      <td>1</td>\n",
              "      <td>1</td>\n",
              "      <td>1</td>\n",
              "      <td>769.3</td>\n",
              "      <td>634.3</td>\n",
              "      <td>616.9</td>\n",
              "      <td>930.5</td>\n",
              "      <td>Inglês</td>\n",
              "      <td>1.0</td>\n",
              "      <td>180.0</td>\n",
              "      <td>200.0</td>\n",
              "      <td>200.0</td>\n",
              "      <td>200.0</td>\n",
              "      <td>140.0</td>\n",
              "      <td>920.0</td>\n",
              "      <td>Sim</td>\n",
              "      <td>886.690642</td>\n",
              "    </tr>\n",
              "    <tr>\n",
              "      <th>13315</th>\n",
              "      <td>1,90E+11</td>\n",
              "      <td>São Paulo</td>\n",
              "      <td>17</td>\n",
              "      <td>F</td>\n",
              "      <td>1</td>\n",
              "      <td>branca</td>\n",
              "      <td>1</td>\n",
              "      <td>2</td>\n",
              "      <td>privada</td>\n",
              "      <td>35132287.0</td>\n",
              "      <td>São Paulo</td>\n",
              "      <td>1</td>\n",
              "      <td>1</td>\n",
              "      <td>1</td>\n",
              "      <td>1</td>\n",
              "      <td>651.5</td>\n",
              "      <td>647.1</td>\n",
              "      <td>601.9</td>\n",
              "      <td>663.9</td>\n",
              "      <td>Inglês</td>\n",
              "      <td>1.0</td>\n",
              "      <td>160.0</td>\n",
              "      <td>140.0</td>\n",
              "      <td>160.0</td>\n",
              "      <td>200.0</td>\n",
              "      <td>120.0</td>\n",
              "      <td>780.0</td>\n",
              "      <td>Sim</td>\n",
              "      <td>785.718021</td>\n",
              "    </tr>\n",
              "    <tr>\n",
              "      <th>20006</th>\n",
              "      <td>1,90E+11</td>\n",
              "      <td>São Paulo</td>\n",
              "      <td>17</td>\n",
              "      <td>F</td>\n",
              "      <td>1</td>\n",
              "      <td>branca</td>\n",
              "      <td>1</td>\n",
              "      <td>2</td>\n",
              "      <td>privada</td>\n",
              "      <td>35132287.0</td>\n",
              "      <td>São Paulo</td>\n",
              "      <td>1</td>\n",
              "      <td>1</td>\n",
              "      <td>1</td>\n",
              "      <td>1</td>\n",
              "      <td>565.3</td>\n",
              "      <td>552.9</td>\n",
              "      <td>599.2</td>\n",
              "      <td>771.9</td>\n",
              "      <td>Inglês</td>\n",
              "      <td>1.0</td>\n",
              "      <td>140.0</td>\n",
              "      <td>180.0</td>\n",
              "      <td>160.0</td>\n",
              "      <td>180.0</td>\n",
              "      <td>140.0</td>\n",
              "      <td>800.0</td>\n",
              "      <td>Sim</td>\n",
              "      <td>826.432059</td>\n",
              "    </tr>\n",
              "    <tr>\n",
              "      <th>26697</th>\n",
              "      <td>1,90E+11</td>\n",
              "      <td>São Paulo</td>\n",
              "      <td>18</td>\n",
              "      <td>F</td>\n",
              "      <td>1</td>\n",
              "      <td>branca</td>\n",
              "      <td>1</td>\n",
              "      <td>2</td>\n",
              "      <td>privada</td>\n",
              "      <td>35132287.0</td>\n",
              "      <td>São Paulo</td>\n",
              "      <td>1</td>\n",
              "      <td>1</td>\n",
              "      <td>1</td>\n",
              "      <td>1</td>\n",
              "      <td>585.6</td>\n",
              "      <td>615.4</td>\n",
              "      <td>627.7</td>\n",
              "      <td>663.1</td>\n",
              "      <td>Inglês</td>\n",
              "      <td>1.0</td>\n",
              "      <td>160.0</td>\n",
              "      <td>200.0</td>\n",
              "      <td>200.0</td>\n",
              "      <td>200.0</td>\n",
              "      <td>200.0</td>\n",
              "      <td>960.0</td>\n",
              "      <td>Sim</td>\n",
              "      <td>958.650406</td>\n",
              "    </tr>\n",
              "    <tr>\n",
              "      <th>26911</th>\n",
              "      <td>1,90E+11</td>\n",
              "      <td>São Paulo</td>\n",
              "      <td>18</td>\n",
              "      <td>F</td>\n",
              "      <td>1</td>\n",
              "      <td>branca</td>\n",
              "      <td>1</td>\n",
              "      <td>2</td>\n",
              "      <td>privada</td>\n",
              "      <td>35132287.0</td>\n",
              "      <td>São Paulo</td>\n",
              "      <td>1</td>\n",
              "      <td>1</td>\n",
              "      <td>1</td>\n",
              "      <td>1</td>\n",
              "      <td>545.3</td>\n",
              "      <td>615.4</td>\n",
              "      <td>589.9</td>\n",
              "      <td>790.1</td>\n",
              "      <td>Inglês</td>\n",
              "      <td>1.0</td>\n",
              "      <td>160.0</td>\n",
              "      <td>120.0</td>\n",
              "      <td>160.0</td>\n",
              "      <td>160.0</td>\n",
              "      <td>180.0</td>\n",
              "      <td>780.0</td>\n",
              "      <td>Sim</td>\n",
              "      <td>762.822631</td>\n",
              "    </tr>\n",
              "    <tr>\n",
              "      <th>43814</th>\n",
              "      <td>1,90E+11</td>\n",
              "      <td>São Paulo</td>\n",
              "      <td>18</td>\n",
              "      <td>M</td>\n",
              "      <td>1</td>\n",
              "      <td>branca</td>\n",
              "      <td>1</td>\n",
              "      <td>2</td>\n",
              "      <td>privada</td>\n",
              "      <td>35132287.0</td>\n",
              "      <td>São Paulo</td>\n",
              "      <td>1</td>\n",
              "      <td>1</td>\n",
              "      <td>1</td>\n",
              "      <td>1</td>\n",
              "      <td>556.7</td>\n",
              "      <td>577.2</td>\n",
              "      <td>576.9</td>\n",
              "      <td>671.4</td>\n",
              "      <td>Inglês</td>\n",
              "      <td>1.0</td>\n",
              "      <td>160.0</td>\n",
              "      <td>160.0</td>\n",
              "      <td>160.0</td>\n",
              "      <td>140.0</td>\n",
              "      <td>180.0</td>\n",
              "      <td>800.0</td>\n",
              "      <td>Sim</td>\n",
              "      <td>779.550082</td>\n",
              "    </tr>\n",
              "    <tr>\n",
              "      <th>43870</th>\n",
              "      <td>1,90E+11</td>\n",
              "      <td>São Paulo</td>\n",
              "      <td>17</td>\n",
              "      <td>F</td>\n",
              "      <td>1</td>\n",
              "      <td>preta</td>\n",
              "      <td>2</td>\n",
              "      <td>2</td>\n",
              "      <td>privada</td>\n",
              "      <td>35132287.0</td>\n",
              "      <td>São Paulo</td>\n",
              "      <td>1</td>\n",
              "      <td>1</td>\n",
              "      <td>1</td>\n",
              "      <td>1</td>\n",
              "      <td>600.4</td>\n",
              "      <td>647.4</td>\n",
              "      <td>581.8</td>\n",
              "      <td>605.4</td>\n",
              "      <td>Inglês</td>\n",
              "      <td>1.0</td>\n",
              "      <td>140.0</td>\n",
              "      <td>200.0</td>\n",
              "      <td>160.0</td>\n",
              "      <td>180.0</td>\n",
              "      <td>180.0</td>\n",
              "      <td>860.0</td>\n",
              "      <td>Sim</td>\n",
              "      <td>900.067246</td>\n",
              "    </tr>\n",
              "    <tr>\n",
              "      <th>44150</th>\n",
              "      <td>1,90E+11</td>\n",
              "      <td>São Paulo</td>\n",
              "      <td>17</td>\n",
              "      <td>F</td>\n",
              "      <td>1</td>\n",
              "      <td>amarela</td>\n",
              "      <td>1</td>\n",
              "      <td>2</td>\n",
              "      <td>privada</td>\n",
              "      <td>35132287.0</td>\n",
              "      <td>São Paulo</td>\n",
              "      <td>1</td>\n",
              "      <td>1</td>\n",
              "      <td>1</td>\n",
              "      <td>1</td>\n",
              "      <td>633.6</td>\n",
              "      <td>675.4</td>\n",
              "      <td>651.8</td>\n",
              "      <td>753.8</td>\n",
              "      <td>Inglês</td>\n",
              "      <td>1.0</td>\n",
              "      <td>160.0</td>\n",
              "      <td>200.0</td>\n",
              "      <td>200.0</td>\n",
              "      <td>200.0</td>\n",
              "      <td>200.0</td>\n",
              "      <td>960.0</td>\n",
              "      <td>Sim</td>\n",
              "      <td>958.650406</td>\n",
              "    </tr>\n",
              "    <tr>\n",
              "      <th>48417</th>\n",
              "      <td>1,90E+11</td>\n",
              "      <td>São Paulo</td>\n",
              "      <td>17</td>\n",
              "      <td>M</td>\n",
              "      <td>1</td>\n",
              "      <td>branca</td>\n",
              "      <td>1</td>\n",
              "      <td>2</td>\n",
              "      <td>privada</td>\n",
              "      <td>35132287.0</td>\n",
              "      <td>São Paulo</td>\n",
              "      <td>1</td>\n",
              "      <td>1</td>\n",
              "      <td>1</td>\n",
              "      <td>1</td>\n",
              "      <td>616.4</td>\n",
              "      <td>679.5</td>\n",
              "      <td>609.4</td>\n",
              "      <td>908.7</td>\n",
              "      <td>Inglês</td>\n",
              "      <td>1.0</td>\n",
              "      <td>140.0</td>\n",
              "      <td>120.0</td>\n",
              "      <td>140.0</td>\n",
              "      <td>120.0</td>\n",
              "      <td>160.0</td>\n",
              "      <td>680.0</td>\n",
              "      <td>Sim</td>\n",
              "      <td>669.642901</td>\n",
              "    </tr>\n",
              "  </tbody>\n",
              "</table>\n",
              "</div>\n",
              "    <div class=\"colab-df-buttons\">\n",
              "\n",
              "  <div class=\"colab-df-container\">\n",
              "    <button class=\"colab-df-convert\" onclick=\"convertToInteractive('df-66dc2358-4374-4e9f-937a-6c0230c16dbb')\"\n",
              "            title=\"Convert this dataframe to an interactive table.\"\n",
              "            style=\"display:none;\">\n",
              "\n",
              "  <svg xmlns=\"http://www.w3.org/2000/svg\" height=\"24px\" viewBox=\"0 -960 960 960\">\n",
              "    <path d=\"M120-120v-720h720v720H120Zm60-500h600v-160H180v160Zm220 220h160v-160H400v160Zm0 220h160v-160H400v160ZM180-400h160v-160H180v160Zm440 0h160v-160H620v160ZM180-180h160v-160H180v160Zm440 0h160v-160H620v160Z\"/>\n",
              "  </svg>\n",
              "    </button>\n",
              "\n",
              "  <style>\n",
              "    .colab-df-container {\n",
              "      display:flex;\n",
              "      gap: 12px;\n",
              "    }\n",
              "\n",
              "    .colab-df-convert {\n",
              "      background-color: #E8F0FE;\n",
              "      border: none;\n",
              "      border-radius: 50%;\n",
              "      cursor: pointer;\n",
              "      display: none;\n",
              "      fill: #1967D2;\n",
              "      height: 32px;\n",
              "      padding: 0 0 0 0;\n",
              "      width: 32px;\n",
              "    }\n",
              "\n",
              "    .colab-df-convert:hover {\n",
              "      background-color: #E2EBFA;\n",
              "      box-shadow: 0px 1px 2px rgba(60, 64, 67, 0.3), 0px 1px 3px 1px rgba(60, 64, 67, 0.15);\n",
              "      fill: #174EA6;\n",
              "    }\n",
              "\n",
              "    .colab-df-buttons div {\n",
              "      margin-bottom: 4px;\n",
              "    }\n",
              "\n",
              "    [theme=dark] .colab-df-convert {\n",
              "      background-color: #3B4455;\n",
              "      fill: #D2E3FC;\n",
              "    }\n",
              "\n",
              "    [theme=dark] .colab-df-convert:hover {\n",
              "      background-color: #434B5C;\n",
              "      box-shadow: 0px 1px 3px 1px rgba(0, 0, 0, 0.15);\n",
              "      filter: drop-shadow(0px 1px 2px rgba(0, 0, 0, 0.3));\n",
              "      fill: #FFFFFF;\n",
              "    }\n",
              "  </style>\n",
              "\n",
              "    <script>\n",
              "      const buttonEl =\n",
              "        document.querySelector('#df-66dc2358-4374-4e9f-937a-6c0230c16dbb button.colab-df-convert');\n",
              "      buttonEl.style.display =\n",
              "        google.colab.kernel.accessAllowed ? 'block' : 'none';\n",
              "\n",
              "      async function convertToInteractive(key) {\n",
              "        const element = document.querySelector('#df-66dc2358-4374-4e9f-937a-6c0230c16dbb');\n",
              "        const dataTable =\n",
              "          await google.colab.kernel.invokeFunction('convertToInteractive',\n",
              "                                                    [key], {});\n",
              "        if (!dataTable) return;\n",
              "\n",
              "        const docLinkHtml = 'Like what you see? Visit the ' +\n",
              "          '<a target=\"_blank\" href=https://colab.research.google.com/notebooks/data_table.ipynb>data table notebook</a>'\n",
              "          + ' to learn more about interactive tables.';\n",
              "        element.innerHTML = '';\n",
              "        dataTable['output_type'] = 'display_data';\n",
              "        await google.colab.output.renderOutput(dataTable, element);\n",
              "        const docLink = document.createElement('div');\n",
              "        docLink.innerHTML = docLinkHtml;\n",
              "        element.appendChild(docLink);\n",
              "      }\n",
              "    </script>\n",
              "  </div>\n",
              "\n",
              "\n",
              "<div id=\"df-8ab6ba0b-ce25-4933-9547-5bd6b336d617\">\n",
              "  <button class=\"colab-df-quickchart\" onclick=\"quickchart('df-8ab6ba0b-ce25-4933-9547-5bd6b336d617')\"\n",
              "            title=\"Suggest charts\"\n",
              "            style=\"display:none;\">\n",
              "\n",
              "<svg xmlns=\"http://www.w3.org/2000/svg\" height=\"24px\"viewBox=\"0 0 24 24\"\n",
              "     width=\"24px\">\n",
              "    <g>\n",
              "        <path d=\"M19 3H5c-1.1 0-2 .9-2 2v14c0 1.1.9 2 2 2h14c1.1 0 2-.9 2-2V5c0-1.1-.9-2-2-2zM9 17H7v-7h2v7zm4 0h-2V7h2v10zm4 0h-2v-4h2v4z\"/>\n",
              "    </g>\n",
              "</svg>\n",
              "  </button>\n",
              "\n",
              "<style>\n",
              "  .colab-df-quickchart {\n",
              "      --bg-color: #E8F0FE;\n",
              "      --fill-color: #1967D2;\n",
              "      --hover-bg-color: #E2EBFA;\n",
              "      --hover-fill-color: #174EA6;\n",
              "      --disabled-fill-color: #AAA;\n",
              "      --disabled-bg-color: #DDD;\n",
              "  }\n",
              "\n",
              "  [theme=dark] .colab-df-quickchart {\n",
              "      --bg-color: #3B4455;\n",
              "      --fill-color: #D2E3FC;\n",
              "      --hover-bg-color: #434B5C;\n",
              "      --hover-fill-color: #FFFFFF;\n",
              "      --disabled-bg-color: #3B4455;\n",
              "      --disabled-fill-color: #666;\n",
              "  }\n",
              "\n",
              "  .colab-df-quickchart {\n",
              "    background-color: var(--bg-color);\n",
              "    border: none;\n",
              "    border-radius: 50%;\n",
              "    cursor: pointer;\n",
              "    display: none;\n",
              "    fill: var(--fill-color);\n",
              "    height: 32px;\n",
              "    padding: 0;\n",
              "    width: 32px;\n",
              "  }\n",
              "\n",
              "  .colab-df-quickchart:hover {\n",
              "    background-color: var(--hover-bg-color);\n",
              "    box-shadow: 0 1px 2px rgba(60, 64, 67, 0.3), 0 1px 3px 1px rgba(60, 64, 67, 0.15);\n",
              "    fill: var(--button-hover-fill-color);\n",
              "  }\n",
              "\n",
              "  .colab-df-quickchart-complete:disabled,\n",
              "  .colab-df-quickchart-complete:disabled:hover {\n",
              "    background-color: var(--disabled-bg-color);\n",
              "    fill: var(--disabled-fill-color);\n",
              "    box-shadow: none;\n",
              "  }\n",
              "\n",
              "  .colab-df-spinner {\n",
              "    border: 2px solid var(--fill-color);\n",
              "    border-color: transparent;\n",
              "    border-bottom-color: var(--fill-color);\n",
              "    animation:\n",
              "      spin 1s steps(1) infinite;\n",
              "  }\n",
              "\n",
              "  @keyframes spin {\n",
              "    0% {\n",
              "      border-color: transparent;\n",
              "      border-bottom-color: var(--fill-color);\n",
              "      border-left-color: var(--fill-color);\n",
              "    }\n",
              "    20% {\n",
              "      border-color: transparent;\n",
              "      border-left-color: var(--fill-color);\n",
              "      border-top-color: var(--fill-color);\n",
              "    }\n",
              "    30% {\n",
              "      border-color: transparent;\n",
              "      border-left-color: var(--fill-color);\n",
              "      border-top-color: var(--fill-color);\n",
              "      border-right-color: var(--fill-color);\n",
              "    }\n",
              "    40% {\n",
              "      border-color: transparent;\n",
              "      border-right-color: var(--fill-color);\n",
              "      border-top-color: var(--fill-color);\n",
              "    }\n",
              "    60% {\n",
              "      border-color: transparent;\n",
              "      border-right-color: var(--fill-color);\n",
              "    }\n",
              "    80% {\n",
              "      border-color: transparent;\n",
              "      border-right-color: var(--fill-color);\n",
              "      border-bottom-color: var(--fill-color);\n",
              "    }\n",
              "    90% {\n",
              "      border-color: transparent;\n",
              "      border-bottom-color: var(--fill-color);\n",
              "    }\n",
              "  }\n",
              "</style>\n",
              "\n",
              "  <script>\n",
              "    async function quickchart(key) {\n",
              "      const quickchartButtonEl =\n",
              "        document.querySelector('#' + key + ' button');\n",
              "      quickchartButtonEl.disabled = true;  // To prevent multiple clicks.\n",
              "      quickchartButtonEl.classList.add('colab-df-spinner');\n",
              "      try {\n",
              "        const charts = await google.colab.kernel.invokeFunction(\n",
              "            'suggestCharts', [key], {});\n",
              "      } catch (error) {\n",
              "        console.error('Error during call to suggestCharts:', error);\n",
              "      }\n",
              "      quickchartButtonEl.classList.remove('colab-df-spinner');\n",
              "      quickchartButtonEl.classList.add('colab-df-quickchart-complete');\n",
              "    }\n",
              "    (() => {\n",
              "      let quickchartButtonEl =\n",
              "        document.querySelector('#df-8ab6ba0b-ce25-4933-9547-5bd6b336d617 button');\n",
              "      quickchartButtonEl.style.display =\n",
              "        google.colab.kernel.accessAllowed ? 'block' : 'none';\n",
              "    })();\n",
              "  </script>\n",
              "</div>\n",
              "\n",
              "    </div>\n",
              "  </div>\n"
            ],
            "application/vnd.google.colaboratory.intrinsic+json": {
              "type": "dataframe",
              "variable_name": "colegioX"
            }
          },
          "metadata": {},
          "execution_count": 80
        }
      ]
    },
    {
      "cell_type": "markdown",
      "source": [
        "# **MODELO 2**"
      ],
      "metadata": {
        "id": "KRuaGmnW_sN1"
      }
    },
    {
      "cell_type": "code",
      "source": [
        "import statsmodels.formula.api as smf\n",
        "import statsmodels.stats.api as sms"
      ],
      "metadata": {
        "id": "jccv7D-p8N3Q"
      },
      "execution_count": 81,
      "outputs": []
    },
    {
      "cell_type": "code",
      "source": [
        "# Criação do modelo\n",
        "modelo2 = smf.ols('NOTA_REDACAO ~ COMP2 + COMP4', data=colegioX).fit()"
      ],
      "metadata": {
        "id": "0Qj4QFbn_9zp"
      },
      "execution_count": 82,
      "outputs": []
    },
    {
      "cell_type": "code",
      "source": [
        "residuos2 = modelo2.resid\n",
        "residuos2"
      ],
      "metadata": {
        "colab": {
          "base_uri": "https://localhost:8080/"
        },
        "id": "MRRMk4nrAMns",
        "outputId": "c66830ed-49ab-4a6c-a5f5-b42ec8dd0e78"
      },
      "execution_count": 83,
      "outputs": [
        {
          "output_type": "execute_result",
          "data": {
            "text/plain": [
              "17         -5.800864\n",
              "10760     -19.726164\n",
              "13315     -73.382235\n",
              "20006     -67.154169\n",
              "26697      20.273836\n",
              "             ...    \n",
              "426829     46.771131\n",
              "428241    -69.438183\n",
              "443242    -52.144793\n",
              "462446   -118.372859\n",
              "483420     47.855207\n",
              "Length: 130, dtype: float64"
            ]
          },
          "metadata": {},
          "execution_count": 83
        }
      ]
    },
    {
      "cell_type": "markdown",
      "source": [
        "# **1º Teste de Normalidade dos Resíduos**"
      ],
      "metadata": {
        "id": "2dn4B302Alih"
      }
    },
    {
      "cell_type": "code",
      "source": [
        "import scipy.stats as stats"
      ],
      "metadata": {
        "id": "4ex5PedcAbjm"
      },
      "execution_count": 84,
      "outputs": []
    },
    {
      "cell_type": "markdown",
      "source": [
        "Ho = Distribuição Normal: p > 0.05\n",
        "\n",
        "Ha = Distribuição Não Normal: p <= 0.05"
      ],
      "metadata": {
        "id": "sK5zJvm2A9vn"
      }
    },
    {
      "cell_type": "code",
      "source": [
        "estatistica, p = stats.shapiro(residuos2)\n",
        "print('Estatística de teste: {:.2f}%'.format(estatistica * 100))\n",
        "print('p-value: {}'.format(p))"
      ],
      "metadata": {
        "colab": {
          "base_uri": "https://localhost:8080/"
        },
        "id": "cRJN4_CMA8eG",
        "outputId": "1092168a-f3c8-4bb5-c28c-ad18b8c9b2a4"
      },
      "execution_count": 85,
      "outputs": [
        {
          "output_type": "stream",
          "name": "stdout",
          "text": [
            "Estatística de teste: 98.48%\n",
            "p-value: 0.15595780313014984\n"
          ]
        }
      ]
    },
    {
      "cell_type": "code",
      "source": [
        "import matplotlib.pyplot as plt"
      ],
      "metadata": {
        "id": "l6AOIrBVBV5i"
      },
      "execution_count": 86,
      "outputs": []
    },
    {
      "cell_type": "code",
      "source": [
        "stats.probplot(residuos2, dist='norm', plot=plt)\n",
        "plt.title('Normal Q-Q plot - Resíduos')\n",
        "plt.show()"
      ],
      "metadata": {
        "colab": {
          "base_uri": "https://localhost:8080/",
          "height": 472
        },
        "id": "wsyTz_q2BeyX",
        "outputId": "267cb6f2-b002-46f2-f4c4-bb3e0f99e10d"
      },
      "execution_count": 87,
      "outputs": [
        {
          "output_type": "display_data",
          "data": {
            "text/plain": [
              "<Figure size 640x480 with 1 Axes>"
            ],
            "image/png": "[encoded data removed]"
          },
          "metadata": {}
        }
      ]
    },
    {
      "cell_type": "markdown",
      "source": [
        "Análise da Homocedasticidade dos Resíduos\n",
        "\n",
        "(resíduos com variância constante)"
      ],
      "metadata": {
        "id": "IpdT9KfgB4fH"
      }
    },
    {
      "cell_type": "code",
      "source": [
        "plt.scatter(x=modelo2.predict(), y=residuos2, color='red')\n",
        "plt.hlines(y=0, xmin=500, xmax=1000, color='orange')\n",
        "plt.ylabel('Resíduos')\n",
        "plt.xlabel('Valores Preditos')\n",
        "plt.show()"
      ],
      "metadata": {
        "colab": {
          "base_uri": "https://localhost:8080/",
          "height": 451
        },
        "id": "SURZVWxLB1Uj",
        "outputId": "25d5ea5f-33a1-4b81-b896-96cfbca961a1"
      },
      "execution_count": 88,
      "outputs": [
        {
          "output_type": "display_data",
          "data": {
            "text/plain": [
              "<Figure size 640x480 with 1 Axes>"
            ],
            "image/png": "[encoded data removed]"
          },
          "metadata": {}
        }
      ]
    },
    {
      "cell_type": "markdown",
      "source": [
        "Teste Breusch-Pagan (Homocedasticidade ou Heterocedasticidade)\n",
        "\n",
        "Ho = Existe Homocedasticidade: p > 0.05\n",
        "\n",
        "Ha = Não Existe Homocedasticidade: p <= 0.05"
      ],
      "metadata": {
        "id": "bcg9JJ89C0dk"
      }
    },
    {
      "cell_type": "code",
      "source": [
        "from statsmodels.compat import lzip\n",
        "import statsmodels.stats.api as sms"
      ],
      "metadata": {
        "id": "1B1ca00OCm88"
      },
      "execution_count": 89,
      "outputs": []
    },
    {
      "cell_type": "code",
      "source": [
        "estatistica, p, f, fp = sms.het_breuschpagan(modelo2.resid, modelo2.model.exog)\n",
        "\n",
        "resultado_homocedasticidade=''\n",
        "if (p <= 0.05):\n",
        "  resultado_homocedasticidade = 'NÃO EXISTE HOMOCEDASTICIDADE ( bucar outro modelo )'\n",
        "else:\n",
        "  resultado_homocedasticidade = 'EXISTE HOMOCEDASTICIDADE'\n",
        "\n",
        "print('Estatística do teste: {}'.format(estatistica))\n",
        "print('p-valor: {}'.format(p), '=> {}'.format(resultado_homocedasticidade))\n",
        "print('f-valor: {}'.format(f))\n",
        "print('f_p-valor: {}'.format(fp))"
      ],
      "metadata": {
        "colab": {
          "base_uri": "https://localhost:8080/"
        },
        "id": "ha869HShDP2x",
        "outputId": "30964e7d-583f-4c5a-f3be-827338db3e12"
      },
      "execution_count": 90,
      "outputs": [
        {
          "output_type": "stream",
          "name": "stdout",
          "text": [
            "Estatística do teste: 15.042745745701497\n",
            "p-valor: 0.0005413887974310043 => NÃO EXISTE HOMOCEDASTICIDADE ( bucar outro modelo )\n",
            "f-valor: 8.309300366021285\n",
            "f_p-valor: 0.00040612282224010204\n"
          ]
        }
      ]
    },
    {
      "cell_type": "markdown",
      "source": [
        "**NÃO EXISTE HOMOCEDASTICIDADE**\n",
        "\n",
        "Mas vamos continuar apenas como forma de conhecimento!"
      ],
      "metadata": {
        "id": "3VyhexTcE8T5"
      }
    },
    {
      "cell_type": "markdown",
      "source": [
        "# **Outliers dos Resíduos**"
      ],
      "metadata": {
        "id": "EbPUvDtSEDWr"
      }
    },
    {
      "cell_type": "markdown",
      "source": [
        "(Entre -3 e 3)"
      ],
      "metadata": {
        "id": "we3NOayOFM9m"
      }
    },
    {
      "cell_type": "code",
      "source": [
        "outliers = modelo2.outlier_test()\n",
        "\n",
        "minimo = outliers.min()[0]\n",
        "maximo = outliers.max()[0]"
      ],
      "metadata": {
        "id": "hG09_3t2D6In"
      },
      "execution_count": 91,
      "outputs": []
    },
    {
      "cell_type": "code",
      "source": [
        "if (minimo < -3) or (maximo > 3):\n",
        "  print('(Entre {} e {}) => FORA DA FAIXA'.format(minimo, maximo))\n",
        "else:\n",
        "  print('(Entre {} e {}) => DENTRO DA FAIXA'.format(minimo, maximo))\n"
      ],
      "metadata": {
        "colab": {
          "base_uri": "https://localhost:8080/"
        },
        "id": "tTTeEg0SFaIH",
        "outputId": "79ed2f64-3bfe-4f08-861e-76274628ac16"
      },
      "execution_count": 92,
      "outputs": [
        {
          "output_type": "stream",
          "name": "stdout",
          "text": [
            "(Entre -3.2542770590024817 e 2.5218461500824616) => FORA DA FAIXA\n"
          ]
        }
      ]
    },
    {
      "cell_type": "markdown",
      "source": [
        "# **Independência dos Resíduos (Durbin-Watson)**"
      ],
      "metadata": {
        "id": "5Bn2KAhLG-TM"
      }
    },
    {
      "cell_type": "markdown",
      "source": [
        "Ideal **para medidas repetidas** (longitudinais: Ex: mesmo aluno)"
      ],
      "metadata": {
        "id": "9krg7qfFHFu2"
      }
    },
    {
      "cell_type": "markdown",
      "source": [
        "A estatística de teste é aproximadamente igual a **2 * (1 - r)** onde **r** é a automcorrelação da amostra dos resíduos. Assim, para r = 0, a estatística de teste é igual a 2, indicando independência dos resíduos (o resultado vai de 0 a 4)"
      ],
      "metadata": {
        "id": "yTDD2yRbHWb3"
      }
    },
    {
      "cell_type": "code",
      "source": [
        "import statsmodels\n",
        "from statsmodels.tools.sm_exceptions import ValueWarning"
      ],
      "metadata": {
        "id": "Q5BdPDuzFzfi"
      },
      "execution_count": 93,
      "outputs": []
    },
    {
      "cell_type": "code",
      "source": [
        "estatistica = statsmodels.stats.stattools.durbin_watson(modelo2.resid)"
      ],
      "metadata": {
        "id": "OpKkaecHI6Zr"
      },
      "execution_count": 94,
      "outputs": []
    },
    {
      "cell_type": "code",
      "source": [
        "print('Estatística do teste: {}'.format(estatistica))"
      ],
      "metadata": {
        "colab": {
          "base_uri": "https://localhost:8080/"
        },
        "id": "VKochhYxJKhw",
        "outputId": "ff7b485f-747a-4db5-ac66-02d963c77d56"
      },
      "execution_count": 95,
      "outputs": [
        {
          "output_type": "stream",
          "name": "stdout",
          "text": [
            "Estatística do teste: 1.7307261063145127\n"
          ]
        }
      ]
    },
    {
      "cell_type": "markdown",
      "source": [
        "# **Ausência de Multicolinearidade**"
      ],
      "metadata": {
        "id": "igkrI1J7JPRb"
      }
    },
    {
      "cell_type": "markdown",
      "source": [
        "Somente entre as variáveis independentes\n",
        "\n",
        "Considera multicolinearidade quando r > 0.9"
      ],
      "metadata": {
        "id": "BZXAwCnbJaEp"
      }
    },
    {
      "cell_type": "code",
      "source": [
        "variaveis2 = colegioX[['COMP2','COMP4']]"
      ],
      "metadata": {
        "id": "stoVPzUYJLMg"
      },
      "execution_count": 96,
      "outputs": []
    },
    {
      "cell_type": "code",
      "source": [
        "variaveis2.head()"
      ],
      "metadata": {
        "colab": {
          "base_uri": "https://localhost:8080/",
          "height": 206
        },
        "id": "qS8RbMZZJlPc",
        "outputId": "c9cd7b88-9e07-4f25-8f7e-5a31c49b9c2d"
      },
      "execution_count": 97,
      "outputs": [
        {
          "output_type": "execute_result",
          "data": {
            "text/plain": [
              "       COMP2  COMP4\n",
              "17     140.0  160.0\n",
              "10760  200.0  200.0\n",
              "13315  140.0  200.0\n",
              "20006  180.0  180.0\n",
              "26697  200.0  200.0"
            ],
            "text/html": [
              "\n",
              "  <div id=\"df-4402d572-84d7-4a9a-9a49-b4380d99a191\" class=\"colab-df-container\">\n",
              "    <div>\n",
              "<style scoped>\n",
              "    .dataframe tbody tr th:only-of-type {\n",
              "        vertical-align: middle;\n",
              "    }\n",
              "\n",
              "    .dataframe tbody tr th {\n",
              "        vertical-align: top;\n",
              "    }\n",
              "\n",
              "    .dataframe thead th {\n",
              "        text-align: right;\n",
              "    }\n",
              "</style>\n",
              "<table border=\"1\" class=\"dataframe\">\n",
              "  <thead>\n",
              "    <tr style=\"text-align: right;\">\n",
              "      <th></th>\n",
              "      <th>COMP2</th>\n",
              "      <th>COMP4</th>\n",
              "    </tr>\n",
              "  </thead>\n",
              "  <tbody>\n",
              "    <tr>\n",
              "      <th>17</th>\n",
              "      <td>140.0</td>\n",
              "      <td>160.0</td>\n",
              "    </tr>\n",
              "    <tr>\n",
              "      <th>10760</th>\n",
              "      <td>200.0</td>\n",
              "      <td>200.0</td>\n",
              "    </tr>\n",
              "    <tr>\n",
              "      <th>13315</th>\n",
              "      <td>140.0</td>\n",
              "      <td>200.0</td>\n",
              "    </tr>\n",
              "    <tr>\n",
              "      <th>20006</th>\n",
              "      <td>180.0</td>\n",
              "      <td>180.0</td>\n",
              "    </tr>\n",
              "    <tr>\n",
              "      <th>26697</th>\n",
              "      <td>200.0</td>\n",
              "      <td>200.0</td>\n",
              "    </tr>\n",
              "  </tbody>\n",
              "</table>\n",
              "</div>\n",
              "    <div class=\"colab-df-buttons\">\n",
              "\n",
              "  <div class=\"colab-df-container\">\n",
              "    <button class=\"colab-df-convert\" onclick=\"convertToInteractive('df-4402d572-84d7-4a9a-9a49-b4380d99a191')\"\n",
              "            title=\"Convert this dataframe to an interactive table.\"\n",
              "            style=\"display:none;\">\n",
              "\n",
              "  <svg xmlns=\"http://www.w3.org/2000/svg\" height=\"24px\" viewBox=\"0 -960 960 960\">\n",
              "    <path d=\"M120-120v-720h720v720H120Zm60-500h600v-160H180v160Zm220 220h160v-160H400v160Zm0 220h160v-160H400v160ZM180-400h160v-160H180v160Zm440 0h160v-160H620v160ZM180-180h160v-160H180v160Zm440 0h160v-160H620v160Z\"/>\n",
              "  </svg>\n",
              "    </button>\n",
              "\n",
              "  <style>\n",
              "    .colab-df-container {\n",
              "      display:flex;\n",
              "      gap: 12px;\n",
              "    }\n",
              "\n",
              "    .colab-df-convert {\n",
              "      background-color: #E8F0FE;\n",
              "      border: none;\n",
              "      border-radius: 50%;\n",
              "      cursor: pointer;\n",
              "      display: none;\n",
              "      fill: #1967D2;\n",
              "      height: 32px;\n",
              "      padding: 0 0 0 0;\n",
              "      width: 32px;\n",
              "    }\n",
              "\n",
              "    .colab-df-convert:hover {\n",
              "      background-color: #E2EBFA;\n",
              "      box-shadow: 0px 1px 2px rgba(60, 64, 67, 0.3), 0px 1px 3px 1px rgba(60, 64, 67, 0.15);\n",
              "      fill: #174EA6;\n",
              "    }\n",
              "\n",
              "    .colab-df-buttons div {\n",
              "      margin-bottom: 4px;\n",
              "    }\n",
              "\n",
              "    [theme=dark] .colab-df-convert {\n",
              "      background-color: #3B4455;\n",
              "      fill: #D2E3FC;\n",
              "    }\n",
              "\n",
              "    [theme=dark] .colab-df-convert:hover {\n",
              "      background-color: #434B5C;\n",
              "      box-shadow: 0px 1px 3px 1px rgba(0, 0, 0, 0.15);\n",
              "      filter: drop-shadow(0px 1px 2px rgba(0, 0, 0, 0.3));\n",
              "      fill: #FFFFFF;\n",
              "    }\n",
              "  </style>\n",
              "\n",
              "    <script>\n",
              "      const buttonEl =\n",
              "        document.querySelector('#df-4402d572-84d7-4a9a-9a49-b4380d99a191 button.colab-df-convert');\n",
              "      buttonEl.style.display =\n",
              "        google.colab.kernel.accessAllowed ? 'block' : 'none';\n",
              "\n",
              "      async function convertToInteractive(key) {\n",
              "        const element = document.querySelector('#df-4402d572-84d7-4a9a-9a49-b4380d99a191');\n",
              "        const dataTable =\n",
              "          await google.colab.kernel.invokeFunction('convertToInteractive',\n",
              "                                                    [key], {});\n",
              "        if (!dataTable) return;\n",
              "\n",
              "        const docLinkHtml = 'Like what you see? Visit the ' +\n",
              "          '<a target=\"_blank\" href=https://colab.research.google.com/notebooks/data_table.ipynb>data table notebook</a>'\n",
              "          + ' to learn more about interactive tables.';\n",
              "        element.innerHTML = '';\n",
              "        dataTable['output_type'] = 'display_data';\n",
              "        await google.colab.output.renderOutput(dataTable, element);\n",
              "        const docLink = document.createElement('div');\n",
              "        docLink.innerHTML = docLinkHtml;\n",
              "        element.appendChild(docLink);\n",
              "      }\n",
              "    </script>\n",
              "  </div>\n",
              "\n",
              "\n",
              "<div id=\"df-6d219c2e-e7d7-43c6-b44a-134106e48b8c\">\n",
              "  <button class=\"colab-df-quickchart\" onclick=\"quickchart('df-6d219c2e-e7d7-43c6-b44a-134106e48b8c')\"\n",
              "            title=\"Suggest charts\"\n",
              "            style=\"display:none;\">\n",
              "\n",
              "<svg xmlns=\"http://www.w3.org/2000/svg\" height=\"24px\"viewBox=\"0 0 24 24\"\n",
              "     width=\"24px\">\n",
              "    <g>\n",
              "        <path d=\"M19 3H5c-1.1 0-2 .9-2 2v14c0 1.1.9 2 2 2h14c1.1 0 2-.9 2-2V5c0-1.1-.9-2-2-2zM9 17H7v-7h2v7zm4 0h-2V7h2v10zm4 0h-2v-4h2v4z\"/>\n",
              "    </g>\n",
              "</svg>\n",
              "  </button>\n",
              "\n",
              "<style>\n",
              "  .colab-df-quickchart {\n",
              "      --bg-color: #E8F0FE;\n",
              "      --fill-color: #1967D2;\n",
              "      --hover-bg-color: #E2EBFA;\n",
              "      --hover-fill-color: #174EA6;\n",
              "      --disabled-fill-color: #AAA;\n",
              "      --disabled-bg-color: #DDD;\n",
              "  }\n",
              "\n",
              "  [theme=dark] .colab-df-quickchart {\n",
              "      --bg-color: #3B4455;\n",
              "      --fill-color: #D2E3FC;\n",
              "      --hover-bg-color: #434B5C;\n",
              "      --hover-fill-color: #FFFFFF;\n",
              "      --disabled-bg-color: #3B4455;\n",
              "      --disabled-fill-color: #666;\n",
              "  }\n",
              "\n",
              "  .colab-df-quickchart {\n",
              "    background-color: var(--bg-color);\n",
              "    border: none;\n",
              "    border-radius: 50%;\n",
              "    cursor: pointer;\n",
              "    display: none;\n",
              "    fill: var(--fill-color);\n",
              "    height: 32px;\n",
              "    padding: 0;\n",
              "    width: 32px;\n",
              "  }\n",
              "\n",
              "  .colab-df-quickchart:hover {\n",
              "    background-color: var(--hover-bg-color);\n",
              "    box-shadow: 0 1px 2px rgba(60, 64, 67, 0.3), 0 1px 3px 1px rgba(60, 64, 67, 0.15);\n",
              "    fill: var(--button-hover-fill-color);\n",
              "  }\n",
              "\n",
              "  .colab-df-quickchart-complete:disabled,\n",
              "  .colab-df-quickchart-complete:disabled:hover {\n",
              "    background-color: var(--disabled-bg-color);\n",
              "    fill: var(--disabled-fill-color);\n",
              "    box-shadow: none;\n",
              "  }\n",
              "\n",
              "  .colab-df-spinner {\n",
              "    border: 2px solid var(--fill-color);\n",
              "    border-color: transparent;\n",
              "    border-bottom-color: var(--fill-color);\n",
              "    animation:\n",
              "      spin 1s steps(1) infinite;\n",
              "  }\n",
              "\n",
              "  @keyframes spin {\n",
              "    0% {\n",
              "      border-color: transparent;\n",
              "      border-bottom-color: var(--fill-color);\n",
              "      border-left-color: var(--fill-color);\n",
              "    }\n",
              "    20% {\n",
              "      border-color: transparent;\n",
              "      border-left-color: var(--fill-color);\n",
              "      border-top-color: var(--fill-color);\n",
              "    }\n",
              "    30% {\n",
              "      border-color: transparent;\n",
              "      border-left-color: var(--fill-color);\n",
              "      border-top-color: var(--fill-color);\n",
              "      border-right-color: var(--fill-color);\n",
              "    }\n",
              "    40% {\n",
              "      border-color: transparent;\n",
              "      border-right-color: var(--fill-color);\n",
              "      border-top-color: var(--fill-color);\n",
              "    }\n",
              "    60% {\n",
              "      border-color: transparent;\n",
              "      border-right-color: var(--fill-color);\n",
              "    }\n",
              "    80% {\n",
              "      border-color: transparent;\n",
              "      border-right-color: var(--fill-color);\n",
              "      border-bottom-color: var(--fill-color);\n",
              "    }\n",
              "    90% {\n",
              "      border-color: transparent;\n",
              "      border-bottom-color: var(--fill-color);\n",
              "    }\n",
              "  }\n",
              "</style>\n",
              "\n",
              "  <script>\n",
              "    async function quickchart(key) {\n",
              "      const quickchartButtonEl =\n",
              "        document.querySelector('#' + key + ' button');\n",
              "      quickchartButtonEl.disabled = true;  // To prevent multiple clicks.\n",
              "      quickchartButtonEl.classList.add('colab-df-spinner');\n",
              "      try {\n",
              "        const charts = await google.colab.kernel.invokeFunction(\n",
              "            'suggestCharts', [key], {});\n",
              "      } catch (error) {\n",
              "        console.error('Error during call to suggestCharts:', error);\n",
              "      }\n",
              "      quickchartButtonEl.classList.remove('colab-df-spinner');\n",
              "      quickchartButtonEl.classList.add('colab-df-quickchart-complete');\n",
              "    }\n",
              "    (() => {\n",
              "      let quickchartButtonEl =\n",
              "        document.querySelector('#df-6d219c2e-e7d7-43c6-b44a-134106e48b8c button');\n",
              "      quickchartButtonEl.style.display =\n",
              "        google.colab.kernel.accessAllowed ? 'block' : 'none';\n",
              "    })();\n",
              "  </script>\n",
              "</div>\n",
              "\n",
              "    </div>\n",
              "  </div>\n"
            ],
            "application/vnd.google.colaboratory.intrinsic+json": {
              "type": "dataframe",
              "variable_name": "variaveis2",
              "summary": "{\n  \"name\": \"variaveis2\",\n  \"rows\": 130,\n  \"fields\": [\n    {\n      \"column\": \"COMP2\",\n      \"properties\": {\n        \"dtype\": \"number\",\n        \"std\": 31.928662284120655,\n        \"min\": 80.0,\n        \"max\": 200.0,\n        \"samples\": [\n          140.0,\n          200.0,\n          80.0\n        ],\n        \"num_unique_values\": 6,\n        \"semantic_type\": \"\",\n        \"description\": \"\"\n      }\n    },\n    {\n      \"column\": \"COMP4\",\n      \"properties\": {\n        \"dtype\": \"number\",\n        \"std\": 25.000417408560722,\n        \"min\": 120.0,\n        \"max\": 200.0,\n        \"samples\": [\n          200.0,\n          120.0,\n          180.0\n        ],\n        \"num_unique_values\": 5,\n        \"semantic_type\": \"\",\n        \"description\": \"\"\n      }\n    }\n  ]\n}"
            }
          },
          "metadata": {},
          "execution_count": 97
        }
      ]
    },
    {
      "cell_type": "code",
      "source": [
        "correlacoes = variaveis2.corr(method='pearson')\n",
        "correlacoes"
      ],
      "metadata": {
        "colab": {
          "base_uri": "https://localhost:8080/",
          "height": 125
        },
        "id": "oqj7e20RJpef",
        "outputId": "f92e6a54-2698-48ec-c24c-ed0ba5160843"
      },
      "execution_count": 98,
      "outputs": [
        {
          "output_type": "execute_result",
          "data": {
            "text/plain": [
              "          COMP2     COMP4\n",
              "COMP2  1.000000  0.375906\n",
              "COMP4  0.375906  1.000000"
            ],
            "text/html": [
              "\n",
              "  <div id=\"df-bb6b1935-9836-44d4-92c9-1791ed613821\" class=\"colab-df-container\">\n",
              "    <div>\n",
              "<style scoped>\n",
              "    .dataframe tbody tr th:only-of-type {\n",
              "        vertical-align: middle;\n",
              "    }\n",
              "\n",
              "    .dataframe tbody tr th {\n",
              "        vertical-align: top;\n",
              "    }\n",
              "\n",
              "    .dataframe thead th {\n",
              "        text-align: right;\n",
              "    }\n",
              "</style>\n",
              "<table border=\"1\" class=\"dataframe\">\n",
              "  <thead>\n",
              "    <tr style=\"text-align: right;\">\n",
              "      <th></th>\n",
              "      <th>COMP2</th>\n",
              "      <th>COMP4</th>\n",
              "    </tr>\n",
              "  </thead>\n",
              "  <tbody>\n",
              "    <tr>\n",
              "      <th>COMP2</th>\n",
              "      <td>1.000000</td>\n",
              "      <td>0.375906</td>\n",
              "    </tr>\n",
              "    <tr>\n",
              "      <th>COMP4</th>\n",
              "      <td>0.375906</td>\n",
              "      <td>1.000000</td>\n",
              "    </tr>\n",
              "  </tbody>\n",
              "</table>\n",
              "</div>\n",
              "    <div class=\"colab-df-buttons\">\n",
              "\n",
              "  <div class=\"colab-df-container\">\n",
              "    <button class=\"colab-df-convert\" onclick=\"convertToInteractive('df-bb6b1935-9836-44d4-92c9-1791ed613821')\"\n",
              "            title=\"Convert this dataframe to an interactive table.\"\n",
              "            style=\"display:none;\">\n",
              "\n",
              "  <svg xmlns=\"http://www.w3.org/2000/svg\" height=\"24px\" viewBox=\"0 -960 960 960\">\n",
              "    <path d=\"M120-120v-720h720v720H120Zm60-500h600v-160H180v160Zm220 220h160v-160H400v160Zm0 220h160v-160H400v160ZM180-400h160v-160H180v160Zm440 0h160v-160H620v160ZM180-180h160v-160H180v160Zm440 0h160v-160H620v160Z\"/>\n",
              "  </svg>\n",
              "    </button>\n",
              "\n",
              "  <style>\n",
              "    .colab-df-container {\n",
              "      display:flex;\n",
              "      gap: 12px;\n",
              "    }\n",
              "\n",
              "    .colab-df-convert {\n",
              "      background-color: #E8F0FE;\n",
              "      border: none;\n",
              "      border-radius: 50%;\n",
              "      cursor: pointer;\n",
              "      display: none;\n",
              "      fill: #1967D2;\n",
              "      height: 32px;\n",
              "      padding: 0 0 0 0;\n",
              "      width: 32px;\n",
              "    }\n",
              "\n",
              "    .colab-df-convert:hover {\n",
              "      background-color: #E2EBFA;\n",
              "      box-shadow: 0px 1px 2px rgba(60, 64, 67, 0.3), 0px 1px 3px 1px rgba(60, 64, 67, 0.15);\n",
              "      fill: #174EA6;\n",
              "    }\n",
              "\n",
              "    .colab-df-buttons div {\n",
              "      margin-bottom: 4px;\n",
              "    }\n",
              "\n",
              "    [theme=dark] .colab-df-convert {\n",
              "      background-color: #3B4455;\n",
              "      fill: #D2E3FC;\n",
              "    }\n",
              "\n",
              "    [theme=dark] .colab-df-convert:hover {\n",
              "      background-color: #434B5C;\n",
              "      box-shadow: 0px 1px 3px 1px rgba(0, 0, 0, 0.15);\n",
              "      filter: drop-shadow(0px 1px 2px rgba(0, 0, 0, 0.3));\n",
              "      fill: #FFFFFF;\n",
              "    }\n",
              "  </style>\n",
              "\n",
              "    <script>\n",
              "      const buttonEl =\n",
              "        document.querySelector('#df-bb6b1935-9836-44d4-92c9-1791ed613821 button.colab-df-convert');\n",
              "      buttonEl.style.display =\n",
              "        google.colab.kernel.accessAllowed ? 'block' : 'none';\n",
              "\n",
              "      async function convertToInteractive(key) {\n",
              "        const element = document.querySelector('#df-bb6b1935-9836-44d4-92c9-1791ed613821');\n",
              "        const dataTable =\n",
              "          await google.colab.kernel.invokeFunction('convertToInteractive',\n",
              "                                                    [key], {});\n",
              "        if (!dataTable) return;\n",
              "\n",
              "        const docLinkHtml = 'Like what you see? Visit the ' +\n",
              "          '<a target=\"_blank\" href=https://colab.research.google.com/notebooks/data_table.ipynb>data table notebook</a>'\n",
              "          + ' to learn more about interactive tables.';\n",
              "        element.innerHTML = '';\n",
              "        dataTable['output_type'] = 'display_data';\n",
              "        await google.colab.output.renderOutput(dataTable, element);\n",
              "        const docLink = document.createElement('div');\n",
              "        docLink.innerHTML = docLinkHtml;\n",
              "        element.appendChild(docLink);\n",
              "      }\n",
              "    </script>\n",
              "  </div>\n",
              "\n",
              "\n",
              "<div id=\"df-5d902bae-6e34-4c5f-bb6d-0d254a39149a\">\n",
              "  <button class=\"colab-df-quickchart\" onclick=\"quickchart('df-5d902bae-6e34-4c5f-bb6d-0d254a39149a')\"\n",
              "            title=\"Suggest charts\"\n",
              "            style=\"display:none;\">\n",
              "\n",
              "<svg xmlns=\"http://www.w3.org/2000/svg\" height=\"24px\"viewBox=\"0 0 24 24\"\n",
              "     width=\"24px\">\n",
              "    <g>\n",
              "        <path d=\"M19 3H5c-1.1 0-2 .9-2 2v14c0 1.1.9 2 2 2h14c1.1 0 2-.9 2-2V5c0-1.1-.9-2-2-2zM9 17H7v-7h2v7zm4 0h-2V7h2v10zm4 0h-2v-4h2v4z\"/>\n",
              "    </g>\n",
              "</svg>\n",
              "  </button>\n",
              "\n",
              "<style>\n",
              "  .colab-df-quickchart {\n",
              "      --bg-color: #E8F0FE;\n",
              "      --fill-color: #1967D2;\n",
              "      --hover-bg-color: #E2EBFA;\n",
              "      --hover-fill-color: #174EA6;\n",
              "      --disabled-fill-color: #AAA;\n",
              "      --disabled-bg-color: #DDD;\n",
              "  }\n",
              "\n",
              "  [theme=dark] .colab-df-quickchart {\n",
              "      --bg-color: #3B4455;\n",
              "      --fill-color: #D2E3FC;\n",
              "      --hover-bg-color: #434B5C;\n",
              "      --hover-fill-color: #FFFFFF;\n",
              "      --disabled-bg-color: #3B4455;\n",
              "      --disabled-fill-color: #666;\n",
              "  }\n",
              "\n",
              "  .colab-df-quickchart {\n",
              "    background-color: var(--bg-color);\n",
              "    border: none;\n",
              "    border-radius: 50%;\n",
              "    cursor: pointer;\n",
              "    display: none;\n",
              "    fill: var(--fill-color);\n",
              "    height: 32px;\n",
              "    padding: 0;\n",
              "    width: 32px;\n",
              "  }\n",
              "\n",
              "  .colab-df-quickchart:hover {\n",
              "    background-color: var(--hover-bg-color);\n",
              "    box-shadow: 0 1px 2px rgba(60, 64, 67, 0.3), 0 1px 3px 1px rgba(60, 64, 67, 0.15);\n",
              "    fill: var(--button-hover-fill-color);\n",
              "  }\n",
              "\n",
              "  .colab-df-quickchart-complete:disabled,\n",
              "  .colab-df-quickchart-complete:disabled:hover {\n",
              "    background-color: var(--disabled-bg-color);\n",
              "    fill: var(--disabled-fill-color);\n",
              "    box-shadow: none;\n",
              "  }\n",
              "\n",
              "  .colab-df-spinner {\n",
              "    border: 2px solid var(--fill-color);\n",
              "    border-color: transparent;\n",
              "    border-bottom-color: var(--fill-color);\n",
              "    animation:\n",
              "      spin 1s steps(1) infinite;\n",
              "  }\n",
              "\n",
              "  @keyframes spin {\n",
              "    0% {\n",
              "      border-color: transparent;\n",
              "      border-bottom-color: var(--fill-color);\n",
              "      border-left-color: var(--fill-color);\n",
              "    }\n",
              "    20% {\n",
              "      border-color: transparent;\n",
              "      border-left-color: var(--fill-color);\n",
              "      border-top-color: var(--fill-color);\n",
              "    }\n",
              "    30% {\n",
              "      border-color: transparent;\n",
              "      border-left-color: var(--fill-color);\n",
              "      border-top-color: var(--fill-color);\n",
              "      border-right-color: var(--fill-color);\n",
              "    }\n",
              "    40% {\n",
              "      border-color: transparent;\n",
              "      border-right-color: var(--fill-color);\n",
              "      border-top-color: var(--fill-color);\n",
              "    }\n",
              "    60% {\n",
              "      border-color: transparent;\n",
              "      border-right-color: var(--fill-color);\n",
              "    }\n",
              "    80% {\n",
              "      border-color: transparent;\n",
              "      border-right-color: var(--fill-color);\n",
              "      border-bottom-color: var(--fill-color);\n",
              "    }\n",
              "    90% {\n",
              "      border-color: transparent;\n",
              "      border-bottom-color: var(--fill-color);\n",
              "    }\n",
              "  }\n",
              "</style>\n",
              "\n",
              "  <script>\n",
              "    async function quickchart(key) {\n",
              "      const quickchartButtonEl =\n",
              "        document.querySelector('#' + key + ' button');\n",
              "      quickchartButtonEl.disabled = true;  // To prevent multiple clicks.\n",
              "      quickchartButtonEl.classList.add('colab-df-spinner');\n",
              "      try {\n",
              "        const charts = await google.colab.kernel.invokeFunction(\n",
              "            'suggestCharts', [key], {});\n",
              "      } catch (error) {\n",
              "        console.error('Error during call to suggestCharts:', error);\n",
              "      }\n",
              "      quickchartButtonEl.classList.remove('colab-df-spinner');\n",
              "      quickchartButtonEl.classList.add('colab-df-quickchart-complete');\n",
              "    }\n",
              "    (() => {\n",
              "      let quickchartButtonEl =\n",
              "        document.querySelector('#df-5d902bae-6e34-4c5f-bb6d-0d254a39149a button');\n",
              "      quickchartButtonEl.style.display =\n",
              "        google.colab.kernel.accessAllowed ? 'block' : 'none';\n",
              "    })();\n",
              "  </script>\n",
              "</div>\n",
              "\n",
              "  <div id=\"id_0f03214c-6275-4a0d-995d-5edc8d375118\">\n",
              "    <style>\n",
              "      .colab-df-generate {\n",
              "        background-color: #E8F0FE;\n",
              "        border: none;\n",
              "        border-radius: 50%;\n",
              "        cursor: pointer;\n",
              "        display: none;\n",
              "        fill: #1967D2;\n",
              "        height: 32px;\n",
              "        padding: 0 0 0 0;\n",
              "        width: 32px;\n",
              "      }\n",
              "\n",
              "      .colab-df-generate:hover {\n",
              "        background-color: #E2EBFA;\n",
              "        box-shadow: 0px 1px 2px rgba(60, 64, 67, 0.3), 0px 1px 3px 1px rgba(60, 64, 67, 0.15);\n",
              "        fill: #174EA6;\n",
              "      }\n",
              "\n",
              "      [theme=dark] .colab-df-generate {\n",
              "        background-color: #3B4455;\n",
              "        fill: #D2E3FC;\n",
              "      }\n",
              "\n",
              "      [theme=dark] .colab-df-generate:hover {\n",
              "        background-color: #434B5C;\n",
              "        box-shadow: 0px 1px 3px 1px rgba(0, 0, 0, 0.15);\n",
              "        filter: drop-shadow(0px 1px 2px rgba(0, 0, 0, 0.3));\n",
              "        fill: #FFFFFF;\n",
              "      }\n",
              "    </style>\n",
              "    <button class=\"colab-df-generate\" onclick=\"generateWithVariable('correlacoes')\"\n",
              "            title=\"Generate code using this dataframe.\"\n",
              "            style=\"display:none;\">\n",
              "\n",
              "  <svg xmlns=\"http://www.w3.org/2000/svg\" height=\"24px\"viewBox=\"0 0 24 24\"\n",
              "       width=\"24px\">\n",
              "    <path d=\"M7,19H8.4L18.45,9,17,7.55,7,17.6ZM5,21V16.75L18.45,3.32a2,2,0,0,1,2.83,0l1.4,1.43a1.91,1.91,0,0,1,.58,1.4,1.91,1.91,0,0,1-.58,1.4L9.25,21ZM18.45,9,17,7.55Zm-12,3A5.31,5.31,0,0,0,4.9,8.1,5.31,5.31,0,0,0,1,6.5,5.31,5.31,0,0,0,4.9,4.9,5.31,5.31,0,0,0,6.5,1,5.31,5.31,0,0,0,8.1,4.9,5.31,5.31,0,0,0,12,6.5,5.46,5.46,0,0,0,6.5,12Z\"/>\n",
              "  </svg>\n",
              "    </button>\n",
              "    <script>\n",
              "      (() => {\n",
              "      const buttonEl =\n",
              "        document.querySelector('#id_0f03214c-6275-4a0d-995d-5edc8d375118 button.colab-df-generate');\n",
              "      buttonEl.style.display =\n",
              "        google.colab.kernel.accessAllowed ? 'block' : 'none';\n",
              "\n",
              "      buttonEl.onclick = () => {\n",
              "        google.colab.notebook.generateWithVariable('correlacoes');\n",
              "      }\n",
              "      })();\n",
              "    </script>\n",
              "  </div>\n",
              "\n",
              "    </div>\n",
              "  </div>\n"
            ],
            "application/vnd.google.colaboratory.intrinsic+json": {
              "type": "dataframe",
              "variable_name": "correlacoes",
              "summary": "{\n  \"name\": \"correlacoes\",\n  \"rows\": 2,\n  \"fields\": [\n    {\n      \"column\": \"COMP2\",\n      \"properties\": {\n        \"dtype\": \"number\",\n        \"std\": 0.441300898086315,\n        \"min\": 0.37590628483890626,\n        \"max\": 1.0,\n        \"samples\": [\n          0.37590628483890626,\n          1.0\n        ],\n        \"num_unique_values\": 2,\n        \"semantic_type\": \"\",\n        \"description\": \"\"\n      }\n    },\n    {\n      \"column\": \"COMP4\",\n      \"properties\": {\n        \"dtype\": \"number\",\n        \"std\": 0.441300898086315,\n        \"min\": 0.37590628483890626,\n        \"max\": 1.0,\n        \"samples\": [\n          1.0,\n          0.37590628483890626\n        ],\n        \"num_unique_values\": 2,\n        \"semantic_type\": \"\",\n        \"description\": \"\"\n      }\n    }\n  ]\n}"
            }
          },
          "metadata": {},
          "execution_count": 98
        }
      ]
    },
    {
      "cell_type": "markdown",
      "source": [
        "Usando Fator de Inflação de Variância (VIF) < 5; ausência de multicolinearidade\n",
        "\n",
        "![image.png](data:image/png;base64,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)"
      ],
      "metadata": {
        "id": "LDgz9aWnJ7Bu"
      }
    },
    {
      "cell_type": "code",
      "source": [
        "from statsmodels.stats.outliers_influence import variance_inflation_factor\n",
        "from statsmodels.tools.tools import add_constant"
      ],
      "metadata": {
        "id": "hiAcQaOCJ1bV"
      },
      "execution_count": 99,
      "outputs": []
    },
    {
      "cell_type": "code",
      "source": [
        "# função espera a presença de uma constante na matriz de variáveis explicativas\n",
        "vif = add_constant(variaveis2)\n",
        "\n",
        "pd.Series([variance_inflation_factor(vif.values, j) for j in range(vif.shape[1])], index=vif.columns)"
      ],
      "metadata": {
        "colab": {
          "base_uri": "https://localhost:8080/"
        },
        "id": "AwhDJeVOKRz0",
        "outputId": "f8f8ea1c-1bd0-4f87-8f10-b4b7880d11e7"
      },
      "execution_count": 100,
      "outputs": [
        {
          "output_type": "execute_result",
          "data": {
            "text/plain": [
              "const    59.966319\n",
              "COMP2     1.164559\n",
              "COMP4     1.164559\n",
              "dtype: float64"
            ]
          },
          "metadata": {},
          "execution_count": 100
        }
      ]
    },
    {
      "cell_type": "markdown",
      "source": [
        "# **Análise do Modelo**"
      ],
      "metadata": {
        "id": "B80kLqToKw2p"
      }
    },
    {
      "cell_type": "markdown",
      "source": [
        "Intercept\n",
        "\n",
        "p-valor para cada coeficiente < 0.05 (estatisticamente significativos)\n",
        "\n",
        "Adjusted R-squared (explicação do modelo através dos dados)\n",
        "\n",
        "p-valor da estatística F < 0.05 (valida o modelo de regressão)"
      ],
      "metadata": {
        "id": "6ZFWIKeMKznN"
      }
    },
    {
      "cell_type": "code",
      "source": [
        "print(modelo2.summary())"
      ],
      "metadata": {
        "colab": {
          "base_uri": "https://localhost:8080/"
        },
        "id": "ZtQJbyj_KbBI",
        "outputId": "6b15f62a-90ee-4217-ad08-eaf382868b0b"
      },
      "execution_count": 101,
      "outputs": [
        {
          "output_type": "stream",
          "name": "stdout",
          "text": [
            "                            OLS Regression Results                            \n",
            "==============================================================================\n",
            "Dep. Variable:           NOTA_REDACAO   R-squared:                       0.832\n",
            "Model:                            OLS   Adj. R-squared:                  0.829\n",
            "Method:                 Least Squares   F-statistic:                     314.2\n",
            "Date:                Mon, 19 Feb 2024   Prob (F-statistic):           6.76e-50\n",
            "Time:                        11:45:22   Log-Likelihood:                -655.51\n",
            "No. Observations:                 130   AIC:                             1317.\n",
            "Df Residuals:                     127   BIC:                             1326.\n",
            "Df Model:                           2                                         \n",
            "Covariance Type:            nonrobust                                         \n",
            "==============================================================================\n",
            "                 coef    std err          t      P>|t|      [0.025      0.975]\n",
            "------------------------------------------------------------------------------\n",
            "Intercept    214.0062     25.745      8.313      0.000     163.062     264.950\n",
            "COMP2          1.4391      0.113     12.758      0.000       1.216       1.662\n",
            "COMP4          2.1895      0.144     15.199      0.000       1.904       2.475\n",
            "==============================================================================\n",
            "Omnibus:                        4.492   Durbin-Watson:                   1.731\n",
            "Prob(Omnibus):                  0.106   Jarque-Bera (JB):                3.927\n",
            "Skew:                          -0.378   Prob(JB):                        0.140\n",
            "Kurtosis:                       3.390   Cond. No.                     1.93e+03\n",
            "==============================================================================\n",
            "\n",
            "Notes:\n",
            "[1] Standard Errors assume that the covariance matrix of the errors is correctly specified.\n",
            "[2] The condition number is large, 1.93e+03. This might indicate that there are\n",
            "strong multicollinearity or other numerical problems.\n"
          ]
        }
      ]
    },
    {
      "cell_type": "markdown",
      "source": [
        "**Equação:** Nota Redação = 214214.0062 + (COMP2 * 1.4391) + (COMP4 * 2.1895)"
      ],
      "metadata": {
        "id": "AeLf0tzSLDP1"
      }
    },
    {
      "cell_type": "code",
      "source": [
        "# Criando uma coluna com as previsões\n",
        "colegioX['previsao2'] = modelo2.fittedvalues"
      ],
      "metadata": {
        "colab": {
          "base_uri": "https://localhost:8080/"
        },
        "id": "ibS3X5qxK6v5",
        "outputId": "5f964437-a03b-4568-cfde-b1ff33b24b35"
      },
      "execution_count": 102,
      "outputs": [
        {
          "output_type": "stream",
          "name": "stderr",
          "text": [
            "<ipython-input-102-199ba552875f>:2: SettingWithCopyWarning: \n",
            "A value is trying to be set on a copy of a slice from a DataFrame.\n",
            "Try using .loc[row_indexer,col_indexer] = value instead\n",
            "\n",
            "See the caveats in the documentation: https://pandas.pydata.org/pandas-docs/stable/user_guide/indexing.html#returning-a-view-versus-a-copy\n",
            "  colegioX['previsao2'] = modelo2.fittedvalues\n"
          ]
        }
      ]
    },
    {
      "cell_type": "code",
      "source": [
        "colegioX.head()"
      ],
      "metadata": {
        "colab": {
          "base_uri": "https://localhost:8080/",
          "height": 226
        },
        "id": "81IfqgTsLjwR",
        "outputId": "adbdc257-24cc-4968-af87-bdd74ad29643"
      },
      "execution_count": 103,
      "outputs": [
        {
          "output_type": "execute_result",
          "data": {
            "text/plain": [
              "      NU_INSCRICAO NO_MUNICIPIO_RESIDENCIA  IDADE  ... INTERNET    previsao   previsao2\n",
              "17        1,90E+11               São Paulo     18  ...      Sim  764.498054  765.800864\n",
              "10760     1,90E+11               São Paulo     17  ...      Sim  886.690642  939.726164\n",
              "13315     1,90E+11               São Paulo     17  ...      Sim  785.718021  853.382235\n",
              "20006     1,90E+11               São Paulo     17  ...      Sim  826.432059  867.154169\n",
              "26697     1,90E+11               São Paulo     18  ...      Sim  958.650406  939.726164\n",
              "\n",
              "[5 rows x 30 columns]"
            ],
            "text/html": [
              "\n",
              "  <div id=\"df-32af4ae8-7f27-4626-84b6-acb3d1fd650e\" class=\"colab-df-container\">\n",
              "    <div>\n",
              "<style scoped>\n",
              "    .dataframe tbody tr th:only-of-type {\n",
              "        vertical-align: middle;\n",
              "    }\n",
              "\n",
              "    .dataframe tbody tr th {\n",
              "        vertical-align: top;\n",
              "    }\n",
              "\n",
              "    .dataframe thead th {\n",
              "        text-align: right;\n",
              "    }\n",
              "</style>\n",
              "<table border=\"1\" class=\"dataframe\">\n",
              "  <thead>\n",
              "    <tr style=\"text-align: right;\">\n",
              "      <th></th>\n",
              "      <th>NU_INSCRICAO</th>\n",
              "      <th>NO_MUNICIPIO_RESIDENCIA</th>\n",
              "      <th>IDADE</th>\n",
              "      <th>SEXO</th>\n",
              "      <th>TP_ESTADO_CIVIL</th>\n",
              "      <th>RACA</th>\n",
              "      <th>TP_NACIONALIDADE</th>\n",
              "      <th>TP_ST_CONCLUSAO</th>\n",
              "      <th>ESCOLA</th>\n",
              "      <th>CO_ESCOLA</th>\n",
              "      <th>NO_MUNICIPIO_ESC</th>\n",
              "      <th>TP_PRESENCA_CN</th>\n",
              "      <th>TP_PRESENCA_CH</th>\n",
              "      <th>TP_PRESENCA_LC</th>\n",
              "      <th>TP_PRESENCA_MT</th>\n",
              "      <th>NOTA_CN</th>\n",
              "      <th>NOTA_CH</th>\n",
              "      <th>NOTA_LC</th>\n",
              "      <th>NOTA_MT</th>\n",
              "      <th>TP_LINGUA</th>\n",
              "      <th>TP_STATUS_REDACAO</th>\n",
              "      <th>COMP1</th>\n",
              "      <th>COMP2</th>\n",
              "      <th>COMP3</th>\n",
              "      <th>COMP4</th>\n",
              "      <th>COMP5</th>\n",
              "      <th>NOTA_REDACAO</th>\n",
              "      <th>INTERNET</th>\n",
              "      <th>previsao</th>\n",
              "      <th>previsao2</th>\n",
              "    </tr>\n",
              "  </thead>\n",
              "  <tbody>\n",
              "    <tr>\n",
              "      <th>17</th>\n",
              "      <td>1,90E+11</td>\n",
              "      <td>São Paulo</td>\n",
              "      <td>18</td>\n",
              "      <td>F</td>\n",
              "      <td>1</td>\n",
              "      <td>branca</td>\n",
              "      <td>1</td>\n",
              "      <td>2</td>\n",
              "      <td>privada</td>\n",
              "      <td>35132287.0</td>\n",
              "      <td>São Paulo</td>\n",
              "      <td>1</td>\n",
              "      <td>1</td>\n",
              "      <td>1</td>\n",
              "      <td>1</td>\n",
              "      <td>585.9</td>\n",
              "      <td>625.6</td>\n",
              "      <td>597.4</td>\n",
              "      <td>49.1</td>\n",
              "      <td>Inglês</td>\n",
              "      <td>1.0</td>\n",
              "      <td>160.0</td>\n",
              "      <td>140.0</td>\n",
              "      <td>140.0</td>\n",
              "      <td>160.0</td>\n",
              "      <td>160.0</td>\n",
              "      <td>760.0</td>\n",
              "      <td>Sim</td>\n",
              "      <td>764.498054</td>\n",
              "      <td>765.800864</td>\n",
              "    </tr>\n",
              "    <tr>\n",
              "      <th>10760</th>\n",
              "      <td>1,90E+11</td>\n",
              "      <td>São Paulo</td>\n",
              "      <td>17</td>\n",
              "      <td>M</td>\n",
              "      <td>1</td>\n",
              "      <td>parda</td>\n",
              "      <td>1</td>\n",
              "      <td>2</td>\n",
              "      <td>privada</td>\n",
              "      <td>35132287.0</td>\n",
              "      <td>São Paulo</td>\n",
              "      <td>1</td>\n",
              "      <td>1</td>\n",
              "      <td>1</td>\n",
              "      <td>1</td>\n",
              "      <td>769.3</td>\n",
              "      <td>634.3</td>\n",
              "      <td>616.9</td>\n",
              "      <td>930.5</td>\n",
              "      <td>Inglês</td>\n",
              "      <td>1.0</td>\n",
              "      <td>180.0</td>\n",
              "      <td>200.0</td>\n",
              "      <td>200.0</td>\n",
              "      <td>200.0</td>\n",
              "      <td>140.0</td>\n",
              "      <td>920.0</td>\n",
              "      <td>Sim</td>\n",
              "      <td>886.690642</td>\n",
              "      <td>939.726164</td>\n",
              "    </tr>\n",
              "    <tr>\n",
              "      <th>13315</th>\n",
              "      <td>1,90E+11</td>\n",
              "      <td>São Paulo</td>\n",
              "      <td>17</td>\n",
              "      <td>F</td>\n",
              "      <td>1</td>\n",
              "      <td>branca</td>\n",
              "      <td>1</td>\n",
              "      <td>2</td>\n",
              "      <td>privada</td>\n",
              "      <td>35132287.0</td>\n",
              "      <td>São Paulo</td>\n",
              "      <td>1</td>\n",
              "      <td>1</td>\n",
              "      <td>1</td>\n",
              "      <td>1</td>\n",
              "      <td>651.5</td>\n",
              "      <td>647.1</td>\n",
              "      <td>601.9</td>\n",
              "      <td>663.9</td>\n",
              "      <td>Inglês</td>\n",
              "      <td>1.0</td>\n",
              "      <td>160.0</td>\n",
              "      <td>140.0</td>\n",
              "      <td>160.0</td>\n",
              "      <td>200.0</td>\n",
              "      <td>120.0</td>\n",
              "      <td>780.0</td>\n",
              "      <td>Sim</td>\n",
              "      <td>785.718021</td>\n",
              "      <td>853.382235</td>\n",
              "    </tr>\n",
              "    <tr>\n",
              "      <th>20006</th>\n",
              "      <td>1,90E+11</td>\n",
              "      <td>São Paulo</td>\n",
              "      <td>17</td>\n",
              "      <td>F</td>\n",
              "      <td>1</td>\n",
              "      <td>branca</td>\n",
              "      <td>1</td>\n",
              "      <td>2</td>\n",
              "      <td>privada</td>\n",
              "      <td>35132287.0</td>\n",
              "      <td>São Paulo</td>\n",
              "      <td>1</td>\n",
              "      <td>1</td>\n",
              "      <td>1</td>\n",
              "      <td>1</td>\n",
              "      <td>565.3</td>\n",
              "      <td>552.9</td>\n",
              "      <td>599.2</td>\n",
              "      <td>771.9</td>\n",
              "      <td>Inglês</td>\n",
              "      <td>1.0</td>\n",
              "      <td>140.0</td>\n",
              "      <td>180.0</td>\n",
              "      <td>160.0</td>\n",
              "      <td>180.0</td>\n",
              "      <td>140.0</td>\n",
              "      <td>800.0</td>\n",
              "      <td>Sim</td>\n",
              "      <td>826.432059</td>\n",
              "      <td>867.154169</td>\n",
              "    </tr>\n",
              "    <tr>\n",
              "      <th>26697</th>\n",
              "      <td>1,90E+11</td>\n",
              "      <td>São Paulo</td>\n",
              "      <td>18</td>\n",
              "      <td>F</td>\n",
              "      <td>1</td>\n",
              "      <td>branca</td>\n",
              "      <td>1</td>\n",
              "      <td>2</td>\n",
              "      <td>privada</td>\n",
              "      <td>35132287.0</td>\n",
              "      <td>São Paulo</td>\n",
              "      <td>1</td>\n",
              "      <td>1</td>\n",
              "      <td>1</td>\n",
              "      <td>1</td>\n",
              "      <td>585.6</td>\n",
              "      <td>615.4</td>\n",
              "      <td>627.7</td>\n",
              "      <td>663.1</td>\n",
              "      <td>Inglês</td>\n",
              "      <td>1.0</td>\n",
              "      <td>160.0</td>\n",
              "      <td>200.0</td>\n",
              "      <td>200.0</td>\n",
              "      <td>200.0</td>\n",
              "      <td>200.0</td>\n",
              "      <td>960.0</td>\n",
              "      <td>Sim</td>\n",
              "      <td>958.650406</td>\n",
              "      <td>939.726164</td>\n",
              "    </tr>\n",
              "  </tbody>\n",
              "</table>\n",
              "</div>\n",
              "    <div class=\"colab-df-buttons\">\n",
              "\n",
              "  <div class=\"colab-df-container\">\n",
              "    <button class=\"colab-df-convert\" onclick=\"convertToInteractive('df-32af4ae8-7f27-4626-84b6-acb3d1fd650e')\"\n",
              "            title=\"Convert this dataframe to an interactive table.\"\n",
              "            style=\"display:none;\">\n",
              "\n",
              "  <svg xmlns=\"http://www.w3.org/2000/svg\" height=\"24px\" viewBox=\"0 -960 960 960\">\n",
              "    <path d=\"M120-120v-720h720v720H120Zm60-500h600v-160H180v160Zm220 220h160v-160H400v160Zm0 220h160v-160H400v160ZM180-400h160v-160H180v160Zm440 0h160v-160H620v160ZM180-180h160v-160H180v160Zm440 0h160v-160H620v160Z\"/>\n",
              "  </svg>\n",
              "    </button>\n",
              "\n",
              "  <style>\n",
              "    .colab-df-container {\n",
              "      display:flex;\n",
              "      gap: 12px;\n",
              "    }\n",
              "\n",
              "    .colab-df-convert {\n",
              "      background-color: #E8F0FE;\n",
              "      border: none;\n",
              "      border-radius: 50%;\n",
              "      cursor: pointer;\n",
              "      display: none;\n",
              "      fill: #1967D2;\n",
              "      height: 32px;\n",
              "      padding: 0 0 0 0;\n",
              "      width: 32px;\n",
              "    }\n",
              "\n",
              "    .colab-df-convert:hover {\n",
              "      background-color: #E2EBFA;\n",
              "      box-shadow: 0px 1px 2px rgba(60, 64, 67, 0.3), 0px 1px 3px 1px rgba(60, 64, 67, 0.15);\n",
              "      fill: #174EA6;\n",
              "    }\n",
              "\n",
              "    .colab-df-buttons div {\n",
              "      margin-bottom: 4px;\n",
              "    }\n",
              "\n",
              "    [theme=dark] .colab-df-convert {\n",
              "      background-color: #3B4455;\n",
              "      fill: #D2E3FC;\n",
              "    }\n",
              "\n",
              "    [theme=dark] .colab-df-convert:hover {\n",
              "      background-color: #434B5C;\n",
              "      box-shadow: 0px 1px 3px 1px rgba(0, 0, 0, 0.15);\n",
              "      filter: drop-shadow(0px 1px 2px rgba(0, 0, 0, 0.3));\n",
              "      fill: #FFFFFF;\n",
              "    }\n",
              "  </style>\n",
              "\n",
              "    <script>\n",
              "      const buttonEl =\n",
              "        document.querySelector('#df-32af4ae8-7f27-4626-84b6-acb3d1fd650e button.colab-df-convert');\n",
              "      buttonEl.style.display =\n",
              "        google.colab.kernel.accessAllowed ? 'block' : 'none';\n",
              "\n",
              "      async function convertToInteractive(key) {\n",
              "        const element = document.querySelector('#df-32af4ae8-7f27-4626-84b6-acb3d1fd650e');\n",
              "        const dataTable =\n",
              "          await google.colab.kernel.invokeFunction('convertToInteractive',\n",
              "                                                    [key], {});\n",
              "        if (!dataTable) return;\n",
              "\n",
              "        const docLinkHtml = 'Like what you see? Visit the ' +\n",
              "          '<a target=\"_blank\" href=https://colab.research.google.com/notebooks/data_table.ipynb>data table notebook</a>'\n",
              "          + ' to learn more about interactive tables.';\n",
              "        element.innerHTML = '';\n",
              "        dataTable['output_type'] = 'display_data';\n",
              "        await google.colab.output.renderOutput(dataTable, element);\n",
              "        const docLink = document.createElement('div');\n",
              "        docLink.innerHTML = docLinkHtml;\n",
              "        element.appendChild(docLink);\n",
              "      }\n",
              "    </script>\n",
              "  </div>\n",
              "\n",
              "\n",
              "<div id=\"df-52861322-0cef-4864-be1f-f5a1a0d422db\">\n",
              "  <button class=\"colab-df-quickchart\" onclick=\"quickchart('df-52861322-0cef-4864-be1f-f5a1a0d422db')\"\n",
              "            title=\"Suggest charts\"\n",
              "            style=\"display:none;\">\n",
              "\n",
              "<svg xmlns=\"http://www.w3.org/2000/svg\" height=\"24px\"viewBox=\"0 0 24 24\"\n",
              "     width=\"24px\">\n",
              "    <g>\n",
              "        <path d=\"M19 3H5c-1.1 0-2 .9-2 2v14c0 1.1.9 2 2 2h14c1.1 0 2-.9 2-2V5c0-1.1-.9-2-2-2zM9 17H7v-7h2v7zm4 0h-2V7h2v10zm4 0h-2v-4h2v4z\"/>\n",
              "    </g>\n",
              "</svg>\n",
              "  </button>\n",
              "\n",
              "<style>\n",
              "  .colab-df-quickchart {\n",
              "      --bg-color: #E8F0FE;\n",
              "      --fill-color: #1967D2;\n",
              "      --hover-bg-color: #E2EBFA;\n",
              "      --hover-fill-color: #174EA6;\n",
              "      --disabled-fill-color: #AAA;\n",
              "      --disabled-bg-color: #DDD;\n",
              "  }\n",
              "\n",
              "  [theme=dark] .colab-df-quickchart {\n",
              "      --bg-color: #3B4455;\n",
              "      --fill-color: #D2E3FC;\n",
              "      --hover-bg-color: #434B5C;\n",
              "      --hover-fill-color: #FFFFFF;\n",
              "      --disabled-bg-color: #3B4455;\n",
              "      --disabled-fill-color: #666;\n",
              "  }\n",
              "\n",
              "  .colab-df-quickchart {\n",
              "    background-color: var(--bg-color);\n",
              "    border: none;\n",
              "    border-radius: 50%;\n",
              "    cursor: pointer;\n",
              "    display: none;\n",
              "    fill: var(--fill-color);\n",
              "    height: 32px;\n",
              "    padding: 0;\n",
              "    width: 32px;\n",
              "  }\n",
              "\n",
              "  .colab-df-quickchart:hover {\n",
              "    background-color: var(--hover-bg-color);\n",
              "    box-shadow: 0 1px 2px rgba(60, 64, 67, 0.3), 0 1px 3px 1px rgba(60, 64, 67, 0.15);\n",
              "    fill: var(--button-hover-fill-color);\n",
              "  }\n",
              "\n",
              "  .colab-df-quickchart-complete:disabled,\n",
              "  .colab-df-quickchart-complete:disabled:hover {\n",
              "    background-color: var(--disabled-bg-color);\n",
              "    fill: var(--disabled-fill-color);\n",
              "    box-shadow: none;\n",
              "  }\n",
              "\n",
              "  .colab-df-spinner {\n",
              "    border: 2px solid var(--fill-color);\n",
              "    border-color: transparent;\n",
              "    border-bottom-color: var(--fill-color);\n",
              "    animation:\n",
              "      spin 1s steps(1) infinite;\n",
              "  }\n",
              "\n",
              "  @keyframes spin {\n",
              "    0% {\n",
              "      border-color: transparent;\n",
              "      border-bottom-color: var(--fill-color);\n",
              "      border-left-color: var(--fill-color);\n",
              "    }\n",
              "    20% {\n",
              "      border-color: transparent;\n",
              "      border-left-color: var(--fill-color);\n",
              "      border-top-color: var(--fill-color);\n",
              "    }\n",
              "    30% {\n",
              "      border-color: transparent;\n",
              "      border-left-color: var(--fill-color);\n",
              "      border-top-color: var(--fill-color);\n",
              "      border-right-color: var(--fill-color);\n",
              "    }\n",
              "    40% {\n",
              "      border-color: transparent;\n",
              "      border-right-color: var(--fill-color);\n",
              "      border-top-color: var(--fill-color);\n",
              "    }\n",
              "    60% {\n",
              "      border-color: transparent;\n",
              "      border-right-color: var(--fill-color);\n",
              "    }\n",
              "    80% {\n",
              "      border-color: transparent;\n",
              "      border-right-color: var(--fill-color);\n",
              "      border-bottom-color: var(--fill-color);\n",
              "    }\n",
              "    90% {\n",
              "      border-color: transparent;\n",
              "      border-bottom-color: var(--fill-color);\n",
              "    }\n",
              "  }\n",
              "</style>\n",
              "\n",
              "  <script>\n",
              "    async function quickchart(key) {\n",
              "      const quickchartButtonEl =\n",
              "        document.querySelector('#' + key + ' button');\n",
              "      quickchartButtonEl.disabled = true;  // To prevent multiple clicks.\n",
              "      quickchartButtonEl.classList.add('colab-df-spinner');\n",
              "      try {\n",
              "        const charts = await google.colab.kernel.invokeFunction(\n",
              "            'suggestCharts', [key], {});\n",
              "      } catch (error) {\n",
              "        console.error('Error during call to suggestCharts:', error);\n",
              "      }\n",
              "      quickchartButtonEl.classList.remove('colab-df-spinner');\n",
              "      quickchartButtonEl.classList.add('colab-df-quickchart-complete');\n",
              "    }\n",
              "    (() => {\n",
              "      let quickchartButtonEl =\n",
              "        document.querySelector('#df-52861322-0cef-4864-be1f-f5a1a0d422db button');\n",
              "      quickchartButtonEl.style.display =\n",
              "        google.colab.kernel.accessAllowed ? 'block' : 'none';\n",
              "    })();\n",
              "  </script>\n",
              "</div>\n",
              "\n",
              "    </div>\n",
              "  </div>\n"
            ],
            "application/vnd.google.colaboratory.intrinsic+json": {
              "type": "dataframe",
              "variable_name": "colegioX"
            }
          },
          "metadata": {},
          "execution_count": 103
        }
      ]
    },
    {
      "cell_type": "markdown",
      "source": [
        "# **Comparação entre Modelos**"
      ],
      "metadata": {
        "id": "khFDQ4N4L-Pm"
      }
    },
    {
      "cell_type": "markdown",
      "source": [
        "**Critério de Informação de Akaike (AIC)**\n",
        "\n",
        "O melhor modelo é com o resultado **MENOR** (*menor variação dos resíduos*)."
      ],
      "metadata": {
        "id": "ls8d8gO-MHcJ"
      }
    },
    {
      "cell_type": "code",
      "source": [
        "modelo1.aic"
      ],
      "metadata": {
        "colab": {
          "base_uri": "https://localhost:8080/"
        },
        "id": "0K_wq-EkLmXv",
        "outputId": "253a9135-d7d6-4585-c81a-dc12be79f231"
      },
      "execution_count": 104,
      "outputs": [
        {
          "output_type": "execute_result",
          "data": {
            "text/plain": [
              "1216.59304638052"
            ]
          },
          "metadata": {},
          "execution_count": 104
        }
      ]
    },
    {
      "cell_type": "code",
      "source": [
        "modelo2.aic"
      ],
      "metadata": {
        "colab": {
          "base_uri": "https://localhost:8080/"
        },
        "id": "Yi-1uEqMMbr5",
        "outputId": "3c593736-617c-443a-e54b-dfcaab9ff29b"
      },
      "execution_count": 105,
      "outputs": [
        {
          "output_type": "execute_result",
          "data": {
            "text/plain": [
              "1317.0150160308585"
            ]
          },
          "metadata": {},
          "execution_count": 105
        }
      ]
    },
    {
      "cell_type": "markdown",
      "source": [
        "**Critério de Informação Bayesiano (BIC)**\n",
        "\n",
        "O melhor modelo é com o resultado **MENOR** (*menor variação dos resíduos*)"
      ],
      "metadata": {
        "id": "dpP_TaMpNjBR"
      }
    },
    {
      "cell_type": "code",
      "source": [
        "modelo1.bic"
      ],
      "metadata": {
        "colab": {
          "base_uri": "https://localhost:8080/"
        },
        "id": "wfcRxx-LMeGc",
        "outputId": "27420537-b11b-4477-b7b4-b186ece7b3c2"
      },
      "execution_count": 106,
      "outputs": [
        {
          "output_type": "execute_result",
          "data": {
            "text/plain": [
              "1228.0631841823424"
            ]
          },
          "metadata": {},
          "execution_count": 106
        }
      ]
    },
    {
      "cell_type": "code",
      "source": [
        "modelo2.bic"
      ],
      "metadata": {
        "colab": {
          "base_uri": "https://localhost:8080/"
        },
        "id": "F0_yTXULOEZG",
        "outputId": "24a11de6-64fd-44b3-fb71-08a2a054cc6a"
      },
      "execution_count": 107,
      "outputs": [
        {
          "output_type": "execute_result",
          "data": {
            "text/plain": [
              "1325.6176193822253"
            ]
          },
          "metadata": {},
          "execution_count": 107
        }
      ]
    },
    {
      "cell_type": "markdown",
      "source": [
        "**Coeficiente de Determinação ( R^2 )**"
      ],
      "metadata": {
        "id": "ukFmHqe4OIaH"
      }
    },
    {
      "cell_type": "code",
      "source": [
        "print('R-squared: {:.3f}%'.format(modelo1.rsquared * 100))\n",
        "print('Adj. R-squared: {:.3f}%'.format(modelo1.rsquared_adj * 100))"
      ],
      "metadata": {
        "colab": {
          "base_uri": "https://localhost:8080/"
        },
        "id": "ESn4RxjdOGIP",
        "outputId": "b9fef91e-02b5-45e2-9e1c-39878ef4e148"
      },
      "execution_count": 119,
      "outputs": [
        {
          "output_type": "stream",
          "name": "stdout",
          "text": [
            "R-squared: 92.353%\n",
            "Adj. R-squared: 92.171%\n"
          ]
        }
      ]
    },
    {
      "cell_type": "code",
      "source": [],
      "metadata": {
        "id": "oVRVFSZUPVbv"
      },
      "execution_count": null,
      "outputs": []
    },
    {
      "cell_type": "code",
      "source": [
        "print('R-squared: {:.3f}%'.format(modelo2.rsquared * 100))\n",
        "print('Adj. R-squared: {:.3f}%'.format(modelo2.rsquared_adj * 100))"
      ],
      "metadata": {
        "colab": {
          "base_uri": "https://localhost:8080/"
        },
        "id": "piF5FsuSOUs3",
        "outputId": "f6398ab0-466c-484a-ce86-badde6dbef01"
      },
      "execution_count": 120,
      "outputs": [
        {
          "output_type": "stream",
          "name": "stdout",
          "text": [
            "R-squared: 83.186%\n",
            "Adj. R-squared: 82.921%\n"
          ]
        }
      ]
    },
    {
      "cell_type": "code",
      "source": [],
      "metadata": {
        "id": "BoSeBbYAOX5Z"
      },
      "execution_count": null,
      "outputs": []
    }
  ]
}