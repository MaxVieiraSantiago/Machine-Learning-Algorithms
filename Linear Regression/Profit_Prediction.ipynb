{
  "nbformat": 4,
  "nbformat_minor": 0,
  "metadata": {
    "colab": {
      "provenance": [],
      "authorship_tag": "ABX9TyMykAp2h3mclVKgBu6Dugm9",
      "include_colab_link": true
    },
    "kernelspec": {
      "name": "python3",
      "display_name": "Python 3"
    },
    "language_info": {
      "name": "python"
    }
  },
  "cells": [
    {
      "cell_type": "markdown",
      "metadata": {
        "id": "view-in-github",
        "colab_type": "text"
      },
      "source": [
        "<a href=\"https://colab.research.google.com/github/MaxVieiraSantiago/Machine-Learning-Algorithms/blob/master/Linear%20Regression/Profit_Prediction.ipynb\" target=\"_parent\"><img src=\"https://colab.research.google.com/assets/colab-badge.svg\" alt=\"Open In Colab\"/></a>"
      ]
    },
    {
      "cell_type": "markdown",
      "source": [
        "# **Regressão Linear**"
      ],
      "metadata": {
        "id": "vbwc-guudqi2"
      }
    },
    {
      "cell_type": "markdown",
      "source": [
        "### **Profit Prediction with Machine Learning**"
      ],
      "metadata": {
        "id": "JrWPwuMhdxTa"
      }
    },
    {
      "cell_type": "markdown",
      "source": [
        "O lucro obtido por uma empresa durante um determinado período depende de vários fatores, como quanto tempo e dinheiro uma empresa gasta em pesquisa e desenvolvimento, marketing e muito mais. Portanto, para prever o lucro de uma empresa para um determinado período, precisamos treinar um modelo de aprendizado de máquina com um conjunto de dados que contenha dados históricos sobre o lucro gerado pela empresa."
      ],
      "metadata": {
        "id": "dKIEMrAjd4B-"
      }
    },
    {
      "cell_type": "markdown",
      "source": [
        "A tarefa de prever o lucro é uma tarefa importante para toda empresa definir uma meta alcançável. Por exemplo, se a empresa gasta US 500 em marketing, não pode esperar um lucro de US 20.000. Da mesma forma, existem muitos outros fatores dos quais depende o lucro de uma empresa. Uma empresa deve, portanto, definir uma meta que possa ser alcançada. Na seção abaixo, orientarei você na tarefa de previsão de lucro com aprendizado de máquina usando Python."
      ],
      "metadata": {
        "id": "rS-RTfASd5WX"
      }
    },
    {
      "cell_type": "markdown",
      "source": [
        "# **Profit Prediction using Python**"
      ],
      "metadata": {
        "id": "JDJraw1yd_QN"
      }
    },
    {
      "cell_type": "markdown",
      "source": [
        "O conjunto de dados que estou usando para a tarefa de previsão de lucro inclui dados sobre gastos com P&D, custos administrativos, gastos com marketing, estado de operação e o lucro histórico gerado por 50 startups. Então, vamos começar com a tarefa de previsão de lucro importando as bibliotecas Python necessárias e o conjunto de dados:"
      ],
      "metadata": {
        "id": "K7PYcrF6eF-O"
      }
    },
    {
      "cell_type": "code",
      "execution_count": 1,
      "metadata": {
        "id": "_PBKOqtLdnCZ"
      },
      "outputs": [],
      "source": [
        "url = 'https://raw.githubusercontent.com/amankharwal/Website-data/master/Startups.csv'"
      ]
    },
    {
      "cell_type": "code",
      "source": [
        "import numpy as np\n",
        "import pandas as pd\n",
        "\n",
        "import matplotlib.pyplot as plt\n",
        "import seaborn as sns"
      ],
      "metadata": {
        "id": "M6AKGqFBeLKM"
      },
      "execution_count": 6,
      "outputs": []
    },
    {
      "cell_type": "code",
      "source": [
        "dados = pd.read_csv( url )\n",
        "print(dados.head())"
      ],
      "metadata": {
        "colab": {
          "base_uri": "https://localhost:8080/"
        },
        "id": "wpKu106keT3a",
        "outputId": "fc0d184d-4703-4fa1-9e93-bacb0d060a00"
      },
      "execution_count": 3,
      "outputs": [
        {
          "output_type": "stream",
          "name": "stdout",
          "text": [
            "   R&D Spend  Administration  Marketing Spend       State     Profit\n",
            "0  165349.20       136897.80        471784.10    New York  192261.83\n",
            "1  162597.70       151377.59        443898.53  California  191792.06\n",
            "2  153441.51       101145.55        407934.54     Florida  191050.39\n",
            "3  144372.41       118671.85        383199.62    New York  182901.99\n",
            "4  142107.34        91391.77        366168.42     Florida  166187.94\n"
          ]
        }
      ]
    },
    {
      "cell_type": "code",
      "source": [
        "dados.info()"
      ],
      "metadata": {
        "colab": {
          "base_uri": "https://localhost:8080/"
        },
        "id": "XnqPk9n1eZTD",
        "outputId": "91a19819-b3a1-4fc1-95b6-d39fa214cfce"
      },
      "execution_count": 4,
      "outputs": [
        {
          "output_type": "stream",
          "name": "stdout",
          "text": [
            "<class 'pandas.core.frame.DataFrame'>\n",
            "RangeIndex: 50 entries, 0 to 49\n",
            "Data columns (total 5 columns):\n",
            " #   Column           Non-Null Count  Dtype  \n",
            "---  ------           --------------  -----  \n",
            " 0   R&D Spend        50 non-null     float64\n",
            " 1   Administration   50 non-null     float64\n",
            " 2   Marketing Spend  50 non-null     float64\n",
            " 3   State            50 non-null     object \n",
            " 4   Profit           50 non-null     float64\n",
            "dtypes: float64(4), object(1)\n",
            "memory usage: 2.1+ KB\n"
          ]
        }
      ]
    },
    {
      "cell_type": "markdown",
      "source": [
        "Esses dados não contêm nenhum valor ausente, portanto, sem perder tempo, vamos começar dando uma olhada nas estatísticas resumidas desses dados:"
      ],
      "metadata": {
        "id": "GY7GD-7afG4c"
      }
    },
    {
      "cell_type": "code",
      "source": [
        "print(dados.describe())"
      ],
      "metadata": {
        "colab": {
          "base_uri": "https://localhost:8080/"
        },
        "id": "zLK-xCcdfAAQ",
        "outputId": "33a8e6b8-3ce3-46bb-b0b5-71dac1d0d183"
      },
      "execution_count": 5,
      "outputs": [
        {
          "output_type": "stream",
          "name": "stdout",
          "text": [
            "           R&D Spend  Administration  Marketing Spend         Profit\n",
            "count      50.000000       50.000000        50.000000      50.000000\n",
            "mean    73721.615600   121344.639600    211025.097800  112012.639200\n",
            "std     45902.256482    28017.802755    122290.310726   40306.180338\n",
            "min         0.000000    51283.140000         0.000000   14681.400000\n",
            "25%     39936.370000   103730.875000    129300.132500   90138.902500\n",
            "50%     73051.080000   122699.795000    212716.240000  107978.190000\n",
            "75%    101602.800000   144842.180000    299469.085000  139765.977500\n",
            "max    165349.200000   182645.560000    471784.100000  192261.830000\n"
          ]
        }
      ]
    },
    {
      "cell_type": "markdown",
      "source": [
        "Agora vamos dar uma olhada na correlação entre as features:"
      ],
      "metadata": {
        "id": "K1a3Kj_VfU2M"
      }
    },
    {
      "cell_type": "code",
      "source": [
        "sns.heatmap(dados.corr(), annot=True)\n",
        "plt.show()"
      ],
      "metadata": {
        "colab": {
          "base_uri": "https://localhost:8080/",
          "height": 594
        },
        "id": "D2zSPAyTfJwm",
        "outputId": "bf361e60-1627-4d2d-c796-b7da35f96ae5"
      },
      "execution_count": 14,
      "outputs": [
        {
          "output_type": "stream",
          "name": "stderr",
          "text": [
            "<ipython-input-14-d778c5230a75>:2: FutureWarning: The default value of numeric_only in DataFrame.corr is deprecated. In a future version, it will default to False. Select only valid columns or specify the value of numeric_only to silence this warning.\n",
            "  sns.heatmap(dados.corr(), annot=True)\n"
          ]
        },
        {
          "output_type": "display_data",
          "data": {
            "text/plain": [
              "<Figure size 640x480 with 2 Axes>"
            ],
            "image/png": "[encoded data removed]"
          },
          "metadata": {}
        }
      ]
    },
    {
      "cell_type": "markdown",
      "source": [
        "Como esta tarefa é baseada no problema de regressão, usarei o algoritmo de regressão linear para treinar o modelo de previsão de lucro. Então, vamos preparar os dados para que possamos encaixá-los no modelo:"
      ],
      "metadata": {
        "id": "QyFsrH4JgV76"
      }
    },
    {
      "cell_type": "code",
      "source": [
        "X = dados.drop(['State', 'Profit'], axis=1).values\n",
        "y = dados['Profit'].values"
      ],
      "metadata": {
        "id": "z-f3INiRfk2B"
      },
      "execution_count": 22,
      "outputs": []
    },
    {
      "cell_type": "code",
      "source": [
        "print(X.shape, y.shape)"
      ],
      "metadata": {
        "colab": {
          "base_uri": "https://localhost:8080/"
        },
        "id": "MH8vQOj1g7kG",
        "outputId": "97b16cc8-5eef-4911-e564-70307990f207"
      },
      "execution_count": 23,
      "outputs": [
        {
          "output_type": "stream",
          "name": "stdout",
          "text": [
            "(50, 3) (50,)\n"
          ]
        }
      ]
    },
    {
      "cell_type": "code",
      "source": [
        "from sklearn.model_selection import train_test_split\n",
        "Xtrain, Xtest, ytrain, ytest = train_test_split(X, y, test_size=0.20, random_state=42)"
      ],
      "metadata": {
        "id": "_p6wIQ46gkA-"
      },
      "execution_count": 24,
      "outputs": []
    },
    {
      "cell_type": "code",
      "source": [
        "from sklearn.linear_model import LinearRegression\n",
        "modelo = LinearRegression()\n",
        "modelo.fit(Xtrain, ytrain)\n",
        "\n",
        "ypred = modelo.predict(Xtest)\n",
        "print(dados.head())"
      ],
      "metadata": {
        "colab": {
          "base_uri": "https://localhost:8080/"
        },
        "id": "Zwj18oW-g6Z3",
        "outputId": "5c6f212b-4477-4bb9-86d8-d462e107d950"
      },
      "execution_count": 26,
      "outputs": [
        {
          "output_type": "stream",
          "name": "stdout",
          "text": [
            "   R&D Spend  Administration  Marketing Spend       State     Profit\n",
            "0  165349.20       136897.80        471784.10    New York  192261.83\n",
            "1  162597.70       151377.59        443898.53  California  191792.06\n",
            "2  153441.51       101145.55        407934.54     Florida  191050.39\n",
            "3  144372.41       118671.85        383199.62    New York  182901.99\n",
            "4  142107.34        91391.77        366168.42     Florida  166187.94\n"
          ]
        }
      ]
    },
    {
      "cell_type": "code",
      "source": [
        "dados = pd.DataFrame(data={\"Predict Profit\":ypred.flatten()})\n",
        "print(dados.head())\n",
        "print(ypred)"
      ],
      "metadata": {
        "colab": {
          "base_uri": "https://localhost:8080/"
        },
        "id": "npCb004QhTbI",
        "outputId": "d867ac25-eca3-4e2a-d5ef-517cca3b1f35"
      },
      "execution_count": 30,
      "outputs": [
        {
          "output_type": "stream",
          "name": "stdout",
          "text": [
            "   Predict Profit\n",
            "0   126703.027165\n",
            "1    84894.750816\n",
            "2    98893.418160\n",
            "3    46501.708150\n",
            "4   129128.397344\n",
            "[126703.02716461  84894.75081556  98893.41815974  46501.70815036\n",
            " 129128.39734381  50992.69486261 109016.5536578  100878.4641454\n",
            "  97700.59638629 113106.15292226]\n"
          ]
        }
      ]
    },
    {
      "cell_type": "markdown",
      "source": [
        "### **Resumo**"
      ],
      "metadata": {
        "id": "zko5sVw1i-SX"
      }
    },
    {
      "cell_type": "markdown",
      "source": [
        "Então é assim que podemos prever o lucro de uma empresa para um determinado período usando algoritmos de aprendizado de máquina. Tais tarefas podem ajudar uma empresa a definir uma meta que pode ser alcançada. Espero que você tenha gostado deste artigo sobre a tarefa de previsão de lucro com aprendizado de máquina usando Python. Sinta-se à vontade para fazer suas perguntas valiosas na seção de comentários abaixo."
      ],
      "metadata": {
        "id": "1aDqMi35jKtI"
      }
    },
    {
      "cell_type": "code",
      "source": [],
      "metadata": {
        "id": "NY9tCVfticuF"
      },
      "execution_count": null,
      "outputs": []
    }
  ]
}