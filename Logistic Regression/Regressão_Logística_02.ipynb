{
  "nbformat": 4,
  "nbformat_minor": 0,
  "metadata": {
    "colab": {
      "provenance": [],
      "authorship_tag": "ABX9TyN+4DsoXK7NAAVXC03SfXJ4",
      "include_colab_link": true
    },
    "kernelspec": {
      "name": "python3",
      "display_name": "Python 3"
    },
    "language_info": {
      "name": "python"
    }
  },
  "cells": [
    {
      "cell_type": "markdown",
      "metadata": {
        "id": "view-in-github",
        "colab_type": "text"
      },
      "source": [
        "<a href=\"https://colab.research.google.com/github/MaxVieiraSantiago/Machine-Learning-Algorithms/blob/master/Logistic%20Regression/Regress%C3%A3o_Log%C3%ADstica_02.ipynb\" target=\"_parent\"><img src=\"https://colab.research.google.com/assets/colab-badge.svg\" alt=\"Open In Colab\"/></a>"
      ]
    },
    {
      "cell_type": "code",
      "execution_count": 12,
      "metadata": {
        "id": "eZRn0VqFT3Dx"
      },
      "outputs": [],
      "source": [
        "import numpy as np\n",
        "from sklearn.linear_model import LogisticRegression, LinearRegression\n",
        "import matplotlib.pyplot as plt\n",
        "from scipy.special import expit"
      ]
    },
    {
      "cell_type": "code",
      "source": [
        "X = np.arange( 12 ).reshape( -1, 1 )\n",
        "y = np.array( [0, 0, 0, 0, 1, 0, 1, 1, 1, 1, 1, 1])\n",
        "\n",
        "plt.plot( X, y, 'ko' );\n",
        "\n",
        "# Ajusta o modelo de regressão logística\n",
        "modelo_log = LogisticRegression( C = 1e5 )\n",
        "modelo_log.fit( X, y )\n",
        "\n",
        "# Calcula a perda usando o expit e numpy.ravel() retornam array achatado contíguo (array 1D com todos os elementos de array de entrada e com o mesmo tipo).\n",
        "loss = expit( X * modelo_log.coef_ + modelo_log.intercept_ ).ravel()\n",
        "\n",
        "plt.plot( X, loss, color='red', linewidth=3 );\n",
        "\n",
        "# Ajusta um modelo de Regressão Linear\n",
        "modelo_lin = LinearRegression()\n",
        "modelo_lin.fit( X, y )\n",
        "\n",
        "plt.plot( X,  X * modelo_lin.coef_ + modelo_lin.intercept_, linewidth = 2, linestyle = 'dashed' )\n",
        "plt.axhline( .5, color='.5' )\n",
        "plt.savefig( 'logistic.eps' )\n",
        "plt.show();"
      ],
      "metadata": {
        "colab": {
          "base_uri": "https://localhost:8080/",
          "height": 265
        },
        "id": "EM3Wb61fUf1h",
        "outputId": "c3d70bed-2519-44e5-ee2b-b5869dfd1b9a"
      },
      "execution_count": 23,
      "outputs": [
        {
          "output_type": "display_data",
          "data": {
            "text/plain": [
              "<Figure size 432x288 with 1 Axes>"
            ],
            "image/png": "[encoded data removed]"
          },
          "metadata": {
            "needs_background": "light"
          }
        }
      ]
    },
    {
      "cell_type": "code",
      "source": [
        "# Fazer a classificação ( chance de pertencer a cada uma das classes ( 0 e 1 ) )\n",
        "predicao = modelo_log.predict_proba ( X )\n",
        "\n",
        "print( predicao )"
      ],
      "metadata": {
        "colab": {
          "base_uri": "https://localhost:8080/"
        },
        "id": "JJ9AgF8dc0Bi",
        "outputId": "2f3ef4e1-9a5a-4b1b-e6ca-04ad7ae749ce"
      },
      "execution_count": 26,
      "outputs": [
        {
          "output_type": "stream",
          "name": "stdout",
          "text": [
            "[[9.97194873e-01 2.80512708e-03]\n",
            " [9.89727807e-01 1.02721933e-02]\n",
            " [9.63119034e-01 3.68809657e-02]\n",
            " [8.76205038e-01 1.23794962e-01]\n",
            " [6.57340632e-01 3.42659368e-01]\n",
            " [3.42079153e-01 6.57920847e-01]\n",
            " [1.23515708e-01 8.76484292e-01]\n",
            " [3.67895382e-02 9.63210462e-01]\n",
            " [1.02460269e-02 9.89753973e-01]\n",
            " [2.79792780e-03 9.97202072e-01]\n",
            " [7.59885722e-04 9.99240114e-01]\n",
            " [2.06069640e-04 9.99793930e-01]]\n"
          ]
        }
      ]
    },
    {
      "cell_type": "code",
      "source": [
        "# Acurácia do modelo\n",
        "\n",
        "acuracia = modelo_log.score( X, y )\n",
        "print(f'A acurácia do modelo é de : {acuracia * 100:,.2f}%' )"
      ],
      "metadata": {
        "colab": {
          "base_uri": "https://localhost:8080/"
        },
        "id": "ueoR32FwUzuc",
        "outputId": "8a98fd97-2bd3-4a44-99d3-9cc075ea0588"
      },
      "execution_count": 34,
      "outputs": [
        {
          "output_type": "stream",
          "name": "stdout",
          "text": [
            "A acurácia do modelo é de : 83.33%\n"
          ]
        }
      ]
    },
    {
      "cell_type": "code",
      "source": [],
      "metadata": {
        "id": "DaMGq9jVapiy"
      },
      "execution_count": null,
      "outputs": []
    }
  ]
}