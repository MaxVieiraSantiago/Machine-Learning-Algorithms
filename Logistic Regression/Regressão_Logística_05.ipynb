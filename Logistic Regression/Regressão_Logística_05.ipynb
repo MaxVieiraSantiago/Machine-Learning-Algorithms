{
  "nbformat": 4,
  "nbformat_minor": 0,
  "metadata": {
    "colab": {
      "provenance": [],
      "authorship_tag": "ABX9TyOfKFMBLLWKTB613I4JjJcy",
      "include_colab_link": true
    },
    "kernelspec": {
      "name": "python3",
      "display_name": "Python 3"
    },
    "language_info": {
      "name": "python"
    }
  },
  "cells": [
    {
      "cell_type": "markdown",
      "metadata": {
        "id": "view-in-github",
        "colab_type": "text"
      },
      "source": [
        "<a href=\"https://colab.research.google.com/github/MaxVieiraSantiago/Machine-Learning-Algorithms/blob/master/Logistic%20Regression/Regress%C3%A3o_Log%C3%ADstica_05.ipynb\" target=\"_parent\"><img src=\"https://colab.research.google.com/assets/colab-badge.svg\" alt=\"Open In Colab\"/></a>"
      ]
    },
    {
      "cell_type": "code",
      "execution_count": 1,
      "metadata": {
        "id": "YakUdeiAxoJE"
      },
      "outputs": [],
      "source": [
        "from sklearn.datasets import load_iris\n",
        "\n",
        "X, y = load_iris( return_X_y=True, as_frame=True )"
      ]
    },
    {
      "cell_type": "markdown",
      "source": [
        "## **Regressão Logística Binária**"
      ],
      "metadata": {
        "id": "gW2EFt2tYFCO"
      }
    },
    {
      "cell_type": "code",
      "source": [
        "# Considerando apenas a coluna 'petal width (cm)' e os targets 0 e 1\n",
        "X = X.loc[ y.isin( [0,1] ), 'petal width (cm)' ].values\n",
        "y = y [ y.isin( [0,1] ) ].values"
      ],
      "metadata": {
        "id": "Bdi2pUGJMpNe"
      },
      "execution_count": 8,
      "outputs": []
    },
    {
      "cell_type": "code",
      "source": [
        "# Separando entre dados de treino e teste\n",
        "from sklearn.model_selection  import train_test_split\n",
        "\n",
        "X_train, X_teste, y_train, y_teste = train_test_split( X, y, test_size = 0.33, random_state = 42 )"
      ],
      "metadata": {
        "id": "SHEYRzYSNgzv"
      },
      "execution_count": 9,
      "outputs": []
    },
    {
      "cell_type": "code",
      "source": [
        "# Visualizando graficamente\n",
        "import matplotlib.pyplot as plt\n",
        "\n",
        "fig, ax = plt.subplots()\n",
        "\n",
        "ax.scatter( X_train, y_train )\n",
        "ax.set( yticks=[0,1] )\n",
        "\n",
        "plt.show()"
      ],
      "metadata": {
        "colab": {
          "base_uri": "https://localhost:8080/",
          "height": 265
        },
        "id": "XxEP_EknPRfb",
        "outputId": "e27d657f-9a29-4822-e74d-d60c62b00d41"
      },
      "execution_count": 11,
      "outputs": [
        {
          "output_type": "display_data",
          "data": {
            "text/plain": [
              "<Figure size 432x288 with 1 Axes>"
            ],
            "image/png": "[encoded data removed]"
          },
          "metadata": {
            "needs_background": "light"
          }
        }
      ]
    },
    {
      "cell_type": "code",
      "source": [
        "# importando a Regressão Logística\n",
        "from sklearn.linear_model import LogisticRegression\n",
        "\n",
        "modelo = LogisticRegression( random_state = 0).fit( X_train.reshape( -1, 1 ), y_train )"
      ],
      "metadata": {
        "id": "pwAeyOtgPvG9"
      },
      "execution_count": 13,
      "outputs": []
    },
    {
      "cell_type": "code",
      "source": [
        "# Coeficiente Angular\n",
        "modelo.coef_\n",
        "coeficiente = modelo.coef_[0][0]\n",
        "coeficiente"
      ],
      "metadata": {
        "colab": {
          "base_uri": "https://localhost:8080/"
        },
        "id": "4UhlGepCQkz1",
        "outputId": "4ca68170-824c-49d6-9fd7-26bdb8a06956"
      },
      "execution_count": 21,
      "outputs": [
        {
          "output_type": "execute_result",
          "data": {
            "text/plain": [
              "3.8510361317501483"
            ]
          },
          "metadata": {},
          "execution_count": 21
        }
      ]
    },
    {
      "cell_type": "code",
      "source": [
        "# Coeficiente Linear\n",
        "modelo.intercept_\n",
        "intercepto = modelo.intercept_[0]\n",
        "intercepto"
      ],
      "metadata": {
        "colab": {
          "base_uri": "https://localhost:8080/"
        },
        "id": "rTU6Tf9cQt1l",
        "outputId": "4e721b7e-590c-4097-cab6-a68e56fe8b98"
      },
      "execution_count": 22,
      "outputs": [
        {
          "output_type": "execute_result",
          "data": {
            "text/plain": [
              "-2.8324818985056455"
            ]
          },
          "metadata": {},
          "execution_count": 22
        }
      ]
    },
    {
      "cell_type": "code",
      "source": [
        "# Importanto o expit\n",
        "from scipy.special import expit"
      ],
      "metadata": {
        "id": "94jJwmTaQxEX"
      },
      "execution_count": 16,
      "outputs": []
    },
    {
      "cell_type": "code",
      "source": [
        "# Importando o Numpy e gerando um array de 0 a 2\n",
        "import numpy as np\n",
        "\n",
        "valores_X = np.linspace( X_train.min(), X_train.max(), 100 )"
      ],
      "metadata": {
        "id": "23H5citJRURs"
      },
      "execution_count": 18,
      "outputs": []
    },
    {
      "cell_type": "code",
      "source": [
        "# Calcular o valor para cada y\n",
        "valores_y = expit( valores_X * coeficiente + intercepto )"
      ],
      "metadata": {
        "id": "-iS2dnRORnDg"
      },
      "execution_count": 23,
      "outputs": []
    },
    {
      "cell_type": "code",
      "source": [
        "# Visualizando Graficamente\n",
        "\n",
        "fig, ax = plt.subplots()\n",
        "\n",
        "ax.scatter( X_train, y_train )\n",
        "ax.plot( valores_X, valores_y, color='red' )\n",
        "\n",
        "ax.set( yticks=[0,1])\n",
        "\n",
        "plt.show()"
      ],
      "metadata": {
        "colab": {
          "base_uri": "https://localhost:8080/",
          "height": 265
        },
        "id": "jK7QX8U9S3u9",
        "outputId": "097e187c-de40-4d85-dfa9-d75e7d0fd772"
      },
      "execution_count": 26,
      "outputs": [
        {
          "output_type": "display_data",
          "data": {
            "text/plain": [
              "<Figure size 432x288 with 1 Axes>"
            ],
            "image/png": "[encoded data removed]"
          },
          "metadata": {
            "needs_background": "light"
          }
        }
      ]
    },
    {
      "cell_type": "code",
      "source": [
        "# Fazendo a previsão das probabilidades\n",
        "modelo.predict_proba( X_train.reshape( -1, 1 ) )[0:5]"
      ],
      "metadata": {
        "colab": {
          "base_uri": "https://localhost:8080/"
        },
        "id": "V1bL89_GTGD7",
        "outputId": "76b457ef-c54b-472b-debc-12144f289056"
      },
      "execution_count": 31,
      "outputs": [
        {
          "output_type": "execute_result",
          "data": {
            "text/plain": [
              "array([[0.88718204, 0.11281796],\n",
              "       [0.26530911, 0.73469089],\n",
              "       [0.78449692, 0.21550308],\n",
              "       [0.05001742, 0.94998258],\n",
              "       [0.07182627, 0.92817373]])"
            ]
          },
          "metadata": {},
          "execution_count": 31
        }
      ]
    },
    {
      "cell_type": "code",
      "source": [
        "# Utilizando a base de testes\n",
        "y_prev = modelo.predict_proba( X_teste.reshape( -1, 1 ) )\n",
        "y_prev[:, 1]"
      ],
      "metadata": {
        "colab": {
          "base_uri": "https://localhost:8080/"
        },
        "id": "3bcONlXaUUoa",
        "outputId": "c9f846ee-1f7a-4fda-924c-aa8f0d4f2470"
      },
      "execution_count": 37,
      "outputs": [
        {
          "output_type": "execute_result",
          "data": {
            "text/plain": [
              "array([0.96541627, 0.89787791, 0.98368761, 0.15747043, 0.21550308,\n",
              "       0.11281796, 0.11281796, 0.80276369, 0.11281796, 0.11281796,\n",
              "       0.15747043, 0.11281796, 0.85677536, 0.11281796, 0.85677536,\n",
              "       0.11281796, 0.92817373, 0.97620691, 0.07963048, 0.21550308,\n",
              "       0.89787791, 0.89787791, 0.21550308, 0.11281796, 0.80276369,\n",
              "       0.21550308, 0.15747043, 0.89787791, 0.07963048, 0.94998258,\n",
              "       0.11281796, 0.11281796, 0.96541627])"
            ]
          },
          "metadata": {},
          "execution_count": 37
        }
      ]
    },
    {
      "cell_type": "code",
      "source": [
        "# Verificando graficamente\n",
        "\n",
        "fig, ax = plt.subplots()\n",
        "\n",
        "ax.scatter( X_train, y_train )\n",
        "ax.plot( valores_X, valores_y )\n",
        "ax.scatter( X_teste, y_prev[:, 1] )\n",
        "\n",
        "ax.set( yticks=[0,1] )\n",
        "\n",
        "plt.show()"
      ],
      "metadata": {
        "colab": {
          "base_uri": "https://localhost:8080/",
          "height": 265
        },
        "id": "ff7IpqBrWBef",
        "outputId": "40768f6d-84b8-44e3-f922-9ef2269327ca"
      },
      "execution_count": 38,
      "outputs": [
        {
          "output_type": "display_data",
          "data": {
            "text/plain": [
              "<Figure size 432x288 with 1 Axes>"
            ],
            "image/png": "[encoded data removed]"
          },
          "metadata": {
            "needs_background": "light"
          }
        }
      ]
    },
    {
      "cell_type": "code",
      "source": [
        "# Fazendo apenas a previsão\n",
        "\n",
        "y_pred_valor = modelo.predict( X_teste.reshape( -1, 1 ) )"
      ],
      "metadata": {
        "id": "ynL8XCTSWdkM"
      },
      "execution_count": 40,
      "outputs": []
    },
    {
      "cell_type": "code",
      "source": [
        "# Avaliando o erro\n",
        "from sklearn.metrics import confusion_matrix\n",
        "\n",
        "confusion_matrix( y_teste, y_pred_valor )"
      ],
      "metadata": {
        "colab": {
          "base_uri": "https://localhost:8080/"
        },
        "id": "1xpqoPSWXZtT",
        "outputId": "b472ab64-91ae-4bf5-a7f8-f528aa054819"
      },
      "execution_count": 41,
      "outputs": [
        {
          "output_type": "execute_result",
          "data": {
            "text/plain": [
              "array([[19,  0],\n",
              "       [ 0, 14]])"
            ]
          },
          "metadata": {},
          "execution_count": 41
        }
      ]
    },
    {
      "cell_type": "markdown",
      "source": [
        "## **Regressão Logística Multinomial**"
      ],
      "metadata": {
        "id": "oYkihcMxZEMb"
      }
    },
    {
      "cell_type": "code",
      "source": [
        "# Importando novamente o dataset\n",
        "X, y = load_iris( return_X_y=True, as_frame=True )"
      ],
      "metadata": {
        "id": "axiOsT4YXuoI"
      },
      "execution_count": 2,
      "outputs": []
    },
    {
      "cell_type": "code",
      "source": [
        "# Separando em treino e teste\n",
        "from sklearn.model_selection import train_test_split\n",
        "\n",
        "X_train, X_teste, y_train, y_teste = train_test_split( X, y, random_state = 42, test_size=0.33 )"
      ],
      "metadata": {
        "id": "cD21LCoNZO69"
      },
      "execution_count": 4,
      "outputs": []
    },
    {
      "cell_type": "code",
      "source": [
        "# Criando novamente o classificador\n",
        "from sklearn.linear_model import LogisticRegression\n",
        "\n",
        "modelo = LogisticRegression( random_state = 0, max_iter=1000 ).fit( X_train, y_train )"
      ],
      "metadata": {
        "id": "HkdeQDH1ZRh9"
      },
      "execution_count": 8,
      "outputs": []
    },
    {
      "cell_type": "code",
      "source": [
        "# Verificando o coef\n",
        "coeficiente = modelo.coef_\n",
        "coeficiente"
      ],
      "metadata": {
        "colab": {
          "base_uri": "https://localhost:8080/"
        },
        "id": "n764GeM6ZUSd",
        "outputId": "83bfdb87-d2cf-4238-a260-17b5756f88a2"
      },
      "execution_count": 9,
      "outputs": [
        {
          "output_type": "execute_result",
          "data": {
            "text/plain": [
              "array([[-0.39000206,  0.85585748, -2.24397125, -0.95265144],\n",
              "       [ 0.43966828, -0.36124807, -0.12427732, -0.77240525],\n",
              "       [-0.04966622, -0.49460941,  2.36824858,  1.72505669]])"
            ]
          },
          "metadata": {},
          "execution_count": 9
        }
      ]
    },
    {
      "cell_type": "code",
      "source": [
        "# Verificando o intercept\n",
        "intercepto = modelo.intercept_\n",
        "intercepto"
      ],
      "metadata": {
        "colab": {
          "base_uri": "https://localhost:8080/"
        },
        "id": "ICeOOblXZW2D",
        "outputId": "cabf0dc7-eea9-4e8d-94c8-121c636580e8"
      },
      "execution_count": 10,
      "outputs": [
        {
          "output_type": "execute_result",
          "data": {
            "text/plain": [
              "array([  8.69267725,   2.11636906, -10.8090463 ])"
            ]
          },
          "metadata": {},
          "execution_count": 10
        }
      ]
    },
    {
      "cell_type": "code",
      "source": [
        "# Fazendo a previsão das classes\n",
        "y_pred = modelo.predict( X_teste )\n",
        "y_pred"
      ],
      "metadata": {
        "colab": {
          "base_uri": "https://localhost:8080/"
        },
        "id": "IM01NwHjZYak",
        "outputId": "178ab7e0-e8c1-49cf-abd8-778e0d39af95"
      },
      "execution_count": 11,
      "outputs": [
        {
          "output_type": "execute_result",
          "data": {
            "text/plain": [
              "array([1, 0, 2, 1, 1, 0, 1, 2, 1, 1, 2, 0, 0, 0, 0, 1, 2, 1, 1, 2, 0, 2,\n",
              "       0, 2, 2, 2, 2, 2, 0, 0, 0, 0, 1, 0, 0, 2, 1, 0, 0, 0, 2, 1, 1, 0,\n",
              "       0, 1, 2, 2, 1, 2])"
            ]
          },
          "metadata": {},
          "execution_count": 11
        }
      ]
    },
    {
      "cell_type": "code",
      "source": [
        "# Avaliando o erro\n",
        "from sklearn.metrics import confusion_matrix\n",
        "\n",
        "confusion_matrix( y_teste, y_pred )\n"
      ],
      "metadata": {
        "colab": {
          "base_uri": "https://localhost:8080/"
        },
        "id": "H0LPSLSTZbLc",
        "outputId": "c8a974d6-89e7-4287-f71f-94a35c066cea"
      },
      "execution_count": 12,
      "outputs": [
        {
          "output_type": "execute_result",
          "data": {
            "text/plain": [
              "array([[19,  0,  0],\n",
              "       [ 0, 15,  0],\n",
              "       [ 0,  0, 16]])"
            ]
          },
          "metadata": {},
          "execution_count": 12
        }
      ]
    },
    {
      "cell_type": "code",
      "source": [],
      "metadata": {
        "id": "rT2eQyj-DLei"
      },
      "execution_count": null,
      "outputs": []
    }
  ]
}